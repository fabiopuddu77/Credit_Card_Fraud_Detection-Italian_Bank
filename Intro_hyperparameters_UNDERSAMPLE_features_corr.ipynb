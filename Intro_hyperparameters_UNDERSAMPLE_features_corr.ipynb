{
 "cells": [
  {
   "cell_type": "code",
   "execution_count": 1,
   "metadata": {},
   "outputs": [],
   "source": [
    "import numpy as np # linear algebra\n",
    "import pandas as pd\n",
    "import seaborn as sns\n",
    "import matplotlib.pyplot as plt\n",
    "import time\n",
    "import sklearn\n",
    "import sklearn.metrics\n",
    "\n",
    "import warnings\n",
    "warnings.simplefilter(action='ignore', category=FutureWarning)\n",
    "warnings.filterwarnings(\"ignore\", category=DeprecationWarning)"
   ]
  },
  {
   "cell_type": "code",
   "execution_count": 2,
   "metadata": {},
   "outputs": [],
   "source": [
    "from sklearn.linear_model import LogisticRegression\n",
    "from sklearn.discriminant_analysis import LinearDiscriminantAnalysis \n",
    "from sklearn.neighbors import KNeighborsClassifier\n",
    "from sklearn.tree import DecisionTreeClassifier\n",
    "from sklearn.naive_bayes import GaussianNB\n",
    "from sklearn.svm import SVC\n",
    "from xgboost import XGBClassifier\n",
    "from math import sqrt"
   ]
  },
  {
   "cell_type": "code",
   "execution_count": 3,
   "metadata": {},
   "outputs": [],
   "source": [
    "#building all kinds of evaluating parameters\n",
    "from sklearn.metrics import classification_report, accuracy_score  \n",
    "from sklearn.metrics import precision_score, recall_score \n",
    "from sklearn.metrics import roc_curve,auc, roc_auc_score, average_precision_score\n",
    "from sklearn.metrics import f1_score, matthews_corrcoef \n",
    "from sklearn.metrics import roc_curve,auc\n",
    "from sklearn.metrics import confusion_matrix "
   ]
  },
  {
   "cell_type": "code",
   "execution_count": 4,
   "metadata": {},
   "outputs": [],
   "source": [
    "from imblearn.pipeline import make_pipeline as make_pipeline_imb # To do our transformation in a unique time\n",
    "from imblearn.over_sampling import SMOTE\n",
    "from sklearn.pipeline import make_pipeline\n",
    "from sklearn.ensemble import RandomForestClassifier\n",
    "from collections import Counter\n",
    "from sklearn.model_selection import train_test_split\n",
    "classifier = RandomForestClassifier"
   ]
  },
  {
   "cell_type": "code",
   "execution_count": 5,
   "metadata": {},
   "outputs": [],
   "source": [
    "import pandas as pd\n",
    "\n",
    "url2 = 'Dataset/PRFI_4M_DEF_HEAD.txt'\n",
    "df = pd.read_table(url2, sep=';')"
   ]
  },
  {
   "cell_type": "code",
   "execution_count": 6,
   "metadata": {},
   "outputs": [],
   "source": [
    "df[\"FLAG_FRODE\"].replace({\"T\": 1, \"F\": 0}, inplace=True)"
   ]
  },
  {
   "cell_type": "code",
   "execution_count": 7,
   "metadata": {},
   "outputs": [
    {
     "name": "stdout",
     "output_type": "stream",
     "text": [
      "            ID_OPER  DT_OP_GMT ORA_OP_GMT COD_CANA  COD_CABC  COD_ESITO  \\\n",
      "0        6231261973 2016-03-14   11:27:28      ATM      6011          0   \n",
      "1        6217512045 2016-03-09   09:48:09      INT      5942          0   \n",
      "2        6204998318 2016-03-04   12:01:47      INT      5192          0   \n",
      "3        6260986375 2016-03-25   08:29:03      INT      5968          0   \n",
      "4        6214969493 2016-03-08   10:36:09      POS      5411          0   \n",
      "...             ...        ...        ...      ...       ...        ...   \n",
      "5438812  6443141702 2016-05-30   19:07:33      INT      7273          0   \n",
      "5439277  6442518610 2016-05-30   15:57:05      INT      5045          0   \n",
      "5439283  6442463929 2016-05-30   17:44:10      INT      8999          0   \n",
      "5439406  6442771077 2016-05-30   16:54:51      ATM      6011          0   \n",
      "5439830  6396976594 2016-05-13   17:07:03      ATM      6011          0   \n",
      "\n",
      "         PROCESSING_COD  IMP_TRZ_RECON FL_AUTORIZZAZIONE COD_ABC_PAES  ...  \\\n",
      "0                366100           0.00                 T          ITA  ...   \n",
      "1                  6300           9.35                 T          ITA  ...   \n",
      "2                  6300          17.90                 T          ITA  ...   \n",
      "3                  6300           9.99                 T          NLD  ...   \n",
      "4                     0          22.25                 T          ITA  ...   \n",
      "...                 ...            ...               ...          ...  ...   \n",
      "5438812            6300          54.99                 T          NLD  ...   \n",
      "5439277            6300          71.93                 T          ROM  ...   \n",
      "5439283            6300         100.00                 T          ITA  ...   \n",
      "5439406           16100         100.00                 T          ITA  ...   \n",
      "5439830          366100           0.00                 T          ITA  ...   \n",
      "\n",
      "         PERC_ESITO_ALL_G  PERC_ESITO_ALL_M DEV_MEDIA_AUT_SEC_4  \\\n",
      "0                     0.0               0.0           -1.000000   \n",
      "1                     0.0               0.0            2.418578   \n",
      "2                     0.0               0.0            0.864804   \n",
      "3                     0.0               0.0           -0.279195   \n",
      "4                     0.0               0.0            0.306757   \n",
      "...                   ...               ...                 ...   \n",
      "5438812               0.0               0.0           -0.688740   \n",
      "5439277               0.0               0.0            0.000000   \n",
      "5439283               0.0               0.0            0.000000   \n",
      "5439406               0.0               0.0            0.000000   \n",
      "5439830               0.0               0.0            0.000000   \n",
      "\n",
      "        DEV_MEDIA_AUT_TO_SEC_4  MEDIA_NON_AUT_SEC_4 MEDIA_NON_AUT_SEC_3  \\\n",
      "0                    -1.000000           3433466.75        3.764000e+03   \n",
      "1                     1.092245           1375101.00        1.411049e+06   \n",
      "2                     2.990299           1375101.00        1.411049e+06   \n",
      "3                    -0.279195           1375101.00        1.411049e+06   \n",
      "4                    -0.103120           1964559.50        2.573075e+06   \n",
      "...                        ...                  ...                 ...   \n",
      "5438812              -0.688740                 0.00        0.000000e+00   \n",
      "5439277               0.000000                 0.00        0.000000e+00   \n",
      "5439283               0.000000                 0.00        0.000000e+00   \n",
      "5439406               0.000000             66881.00        6.688100e+04   \n",
      "5439830               0.000000                 0.00        0.000000e+00   \n",
      "\n",
      "         MEDIA_NON_AUT_SEC_2  TIME_NON_AUT_SEC_LAST  ANNO  MESE  \n",
      "0                     5644.5                4498501  2016     3  \n",
      "1                  2070957.5                 423982  2016     3  \n",
      "2                  2070957.5                 685390  2016     3  \n",
      "3                  2070957.5                1377654  2016     3  \n",
      "4                  3425734.0                 136317  2016     3  \n",
      "...                      ...                    ...   ...   ...  \n",
      "5438812                  0.0                   1563  2016     5  \n",
      "5439277                  0.0                  22121  2016     5  \n",
      "5439283                  0.0               31104000  2016     5  \n",
      "5439406              66881.0                  31439  2016     5  \n",
      "5439830                  0.0               31104000  2016     5  \n",
      "\n",
      "[4462847 rows x 96 columns]\n"
     ]
    }
   ],
   "source": [
    "df[\"DT_OP_GMT\"] = pd.to_datetime(df[\"DT_OP_GMT\"])\n",
    "\n",
    "start_datetr = '2016-03-01'\n",
    "end_datetr = '2016-05-31'\n",
    "\n",
    "mask_tr = (df['DT_OP_GMT'] >= start_datetr) & (df['DT_OP_GMT'] < end_datetr) \n",
    "df_train = df.loc[mask_tr]\n",
    "\n",
    "print(df_train)"
   ]
  },
  {
   "cell_type": "code",
   "execution_count": 8,
   "metadata": {},
   "outputs": [],
   "source": [
    "\n",
    "start_datets = '2016-06-07'\n",
    "end_datets = '2016-06-30'\n",
    "\n",
    "\n",
    "#greater than the start date and smaller than the end date\n",
    "mask = (df['DT_OP_GMT'] >= start_datets) & (df['DT_OP_GMT'] < end_datets)\n",
    "df_test = df.loc[mask]\n"
   ]
  },
  {
   "cell_type": "code",
   "execution_count": 9,
   "metadata": {},
   "outputs": [],
   "source": [
    "df_train = df_train[['ID_OPER', 'DT_OP_GMT', 'ORA_OP_GMT', 'COD_CANA', 'COD_CABC',\n",
    "                'PROCESSING_COD', 'IMP_TRZ_RECON', 'FL_AUTORIZZAZIONE',\n",
    "                'COD_ABC_PAES', 'ID_TIPO_CARTA', 'TIPO_INPUT_MODE',\n",
    "                'COD_CIRC', 'FLAG_FRODE', 'TRX_TYPE', 'Row_Num', 'TIME_ORA_OP','DEV_MEDIA_IMP_TC_1M','PERC_RISK_CIRC_TC_TO_1M',\n",
    "               'DEV_MEDIA_IMP_CAN_1M','DEV_MEDIA_IMP_TO_1M','PERC_OPER_NON_AUTOR_1M','PERC_OPER_NON_AUTOR_2M','MEDIA_NON_AUT_SEC_4',\n",
    "               'DEV_IMP_MEDIA_ULTIME_3', 'PERC_RISK_MCC_1M','FLAG_IMP_PREC_0','TREND_3_5','FLAG_CAMBIO_PAESE_AUT',\n",
    "               'FLAG_CAMBIO_PAESE_NON_AUT','PERC_ESITO_NSF_G','PERC_ESITO_CV2_G',\n",
    "               'PERC_ESITO_PIN_G','PERC_ESITO_SCUDO_G','PERC_ESITO_DT_SCAD_G','PERC_ESITO_ALTRO_G',\n",
    "               'DEV_MEDIA_AUT_SEC_4']]"
   ]
  },
  {
   "cell_type": "code",
   "execution_count": 10,
   "metadata": {},
   "outputs": [],
   "source": [
    "from sklearn.preprocessing import RobustScaler\n",
    "\n",
    "rob_scaler = RobustScaler()\n",
    "\n",
    "df_train['IMP_TRZ_RECON_NORM'] = rob_scaler.fit_transform(df_train['IMP_TRZ_RECON'].values.reshape(-1,1)) \n",
    "\n",
    "df_train.drop(['IMP_TRZ_RECON'], axis=1, inplace=True)"
   ]
  },
  {
   "cell_type": "code",
   "execution_count": 11,
   "metadata": {},
   "outputs": [],
   "source": [
    "# Number of data points in the minority class\n",
    "df_train = df_train.reset_index()\n",
    "number_records_fraud = len(df_train[df_train.FLAG_FRODE == 1])\n",
    "fraud_indices = np.array(df_train[df_train.FLAG_FRODE == 1].index)"
   ]
  },
  {
   "cell_type": "code",
   "execution_count": 12,
   "metadata": {},
   "outputs": [
    {
     "data": {
      "text/html": [
       "<div>\n",
       "<style scoped>\n",
       "    .dataframe tbody tr th:only-of-type {\n",
       "        vertical-align: middle;\n",
       "    }\n",
       "\n",
       "    .dataframe tbody tr th {\n",
       "        vertical-align: top;\n",
       "    }\n",
       "\n",
       "    .dataframe thead th {\n",
       "        text-align: right;\n",
       "    }\n",
       "</style>\n",
       "<table border=\"1\" class=\"dataframe\">\n",
       "  <thead>\n",
       "    <tr style=\"text-align: right;\">\n",
       "      <th></th>\n",
       "      <th>index</th>\n",
       "      <th>ID_OPER</th>\n",
       "      <th>DT_OP_GMT</th>\n",
       "      <th>ORA_OP_GMT</th>\n",
       "      <th>COD_CANA</th>\n",
       "      <th>COD_CABC</th>\n",
       "      <th>PROCESSING_COD</th>\n",
       "      <th>FL_AUTORIZZAZIONE</th>\n",
       "      <th>COD_ABC_PAES</th>\n",
       "      <th>ID_TIPO_CARTA</th>\n",
       "      <th>...</th>\n",
       "      <th>FLAG_CAMBIO_PAESE_AUT</th>\n",
       "      <th>FLAG_CAMBIO_PAESE_NON_AUT</th>\n",
       "      <th>PERC_ESITO_NSF_G</th>\n",
       "      <th>PERC_ESITO_CV2_G</th>\n",
       "      <th>PERC_ESITO_PIN_G</th>\n",
       "      <th>PERC_ESITO_SCUDO_G</th>\n",
       "      <th>PERC_ESITO_DT_SCAD_G</th>\n",
       "      <th>PERC_ESITO_ALTRO_G</th>\n",
       "      <th>DEV_MEDIA_AUT_SEC_4</th>\n",
       "      <th>IMP_TRZ_RECON_NORM</th>\n",
       "    </tr>\n",
       "  </thead>\n",
       "  <tbody>\n",
       "    <tr>\n",
       "      <th>36</th>\n",
       "      <td>38</td>\n",
       "      <td>6226002651</td>\n",
       "      <td>2016-03-12</td>\n",
       "      <td>09:16:37</td>\n",
       "      <td>INT</td>\n",
       "      <td>7399</td>\n",
       "      <td>360000</td>\n",
       "      <td>T</td>\n",
       "      <td>BMU</td>\n",
       "      <td>1009</td>\n",
       "      <td>...</td>\n",
       "      <td>1</td>\n",
       "      <td>0</td>\n",
       "      <td>0.0</td>\n",
       "      <td>0.0</td>\n",
       "      <td>0.0</td>\n",
       "      <td>0.0</td>\n",
       "      <td>0.0</td>\n",
       "      <td>0.0</td>\n",
       "      <td>-1.000000</td>\n",
       "      <td>-0.319642</td>\n",
       "    </tr>\n",
       "    <tr>\n",
       "      <th>38</th>\n",
       "      <td>40</td>\n",
       "      <td>6251120205</td>\n",
       "      <td>2016-03-21</td>\n",
       "      <td>16:55:41</td>\n",
       "      <td>INT</td>\n",
       "      <td>5968</td>\n",
       "      <td>0</td>\n",
       "      <td>T</td>\n",
       "      <td>GBR</td>\n",
       "      <td>1028</td>\n",
       "      <td>...</td>\n",
       "      <td>0</td>\n",
       "      <td>0</td>\n",
       "      <td>0.0</td>\n",
       "      <td>0.0</td>\n",
       "      <td>0.0</td>\n",
       "      <td>0.0</td>\n",
       "      <td>0.0</td>\n",
       "      <td>0.0</td>\n",
       "      <td>0.061449</td>\n",
       "      <td>-0.171264</td>\n",
       "    </tr>\n",
       "    <tr>\n",
       "      <th>60</th>\n",
       "      <td>71</td>\n",
       "      <td>6277642583</td>\n",
       "      <td>2016-03-31</td>\n",
       "      <td>19:43:54</td>\n",
       "      <td>INT</td>\n",
       "      <td>5499</td>\n",
       "      <td>6300</td>\n",
       "      <td>T</td>\n",
       "      <td>GBR</td>\n",
       "      <td>1028</td>\n",
       "      <td>...</td>\n",
       "      <td>1</td>\n",
       "      <td>0</td>\n",
       "      <td>0.0</td>\n",
       "      <td>0.0</td>\n",
       "      <td>0.0</td>\n",
       "      <td>0.0</td>\n",
       "      <td>0.0</td>\n",
       "      <td>0.0</td>\n",
       "      <td>2.039607</td>\n",
       "      <td>-0.308585</td>\n",
       "    </tr>\n",
       "    <tr>\n",
       "      <th>101</th>\n",
       "      <td>112</td>\n",
       "      <td>6197847455</td>\n",
       "      <td>2016-03-02</td>\n",
       "      <td>01:47:32</td>\n",
       "      <td>INT</td>\n",
       "      <td>7995</td>\n",
       "      <td>116300</td>\n",
       "      <td>T</td>\n",
       "      <td>MLT</td>\n",
       "      <td>1028</td>\n",
       "      <td>...</td>\n",
       "      <td>0</td>\n",
       "      <td>0</td>\n",
       "      <td>0.0</td>\n",
       "      <td>0.0</td>\n",
       "      <td>0.0</td>\n",
       "      <td>0.0</td>\n",
       "      <td>0.0</td>\n",
       "      <td>0.0</td>\n",
       "      <td>2052.826531</td>\n",
       "      <td>0.786003</td>\n",
       "    </tr>\n",
       "    <tr>\n",
       "      <th>102</th>\n",
       "      <td>113</td>\n",
       "      <td>6197847677</td>\n",
       "      <td>2016-03-02</td>\n",
       "      <td>01:46:43</td>\n",
       "      <td>INT</td>\n",
       "      <td>7995</td>\n",
       "      <td>116300</td>\n",
       "      <td>T</td>\n",
       "      <td>MLT</td>\n",
       "      <td>1028</td>\n",
       "      <td>...</td>\n",
       "      <td>1</td>\n",
       "      <td>0</td>\n",
       "      <td>0.0</td>\n",
       "      <td>0.0</td>\n",
       "      <td>0.0</td>\n",
       "      <td>0.0</td>\n",
       "      <td>0.0</td>\n",
       "      <td>0.0</td>\n",
       "      <td>1057.342105</td>\n",
       "      <td>0.786003</td>\n",
       "    </tr>\n",
       "    <tr>\n",
       "      <th>...</th>\n",
       "      <td>...</td>\n",
       "      <td>...</td>\n",
       "      <td>...</td>\n",
       "      <td>...</td>\n",
       "      <td>...</td>\n",
       "      <td>...</td>\n",
       "      <td>...</td>\n",
       "      <td>...</td>\n",
       "      <td>...</td>\n",
       "      <td>...</td>\n",
       "      <td>...</td>\n",
       "      <td>...</td>\n",
       "      <td>...</td>\n",
       "      <td>...</td>\n",
       "      <td>...</td>\n",
       "      <td>...</td>\n",
       "      <td>...</td>\n",
       "      <td>...</td>\n",
       "      <td>...</td>\n",
       "      <td>...</td>\n",
       "      <td>...</td>\n",
       "    </tr>\n",
       "    <tr>\n",
       "      <th>2854974</th>\n",
       "      <td>3436004</td>\n",
       "      <td>6263368775</td>\n",
       "      <td>2016-03-25</td>\n",
       "      <td>18:19:20</td>\n",
       "      <td>POS</td>\n",
       "      <td>5311</td>\n",
       "      <td>0</td>\n",
       "      <td>T</td>\n",
       "      <td>ITA</td>\n",
       "      <td>1063</td>\n",
       "      <td>...</td>\n",
       "      <td>0</td>\n",
       "      <td>0</td>\n",
       "      <td>0.0</td>\n",
       "      <td>0.0</td>\n",
       "      <td>0.0</td>\n",
       "      <td>0.0</td>\n",
       "      <td>0.0</td>\n",
       "      <td>0.0</td>\n",
       "      <td>37.997611</td>\n",
       "      <td>-0.126154</td>\n",
       "    </tr>\n",
       "    <tr>\n",
       "      <th>358066</th>\n",
       "      <td>419660</td>\n",
       "      <td>6229927885</td>\n",
       "      <td>2016-03-13</td>\n",
       "      <td>18:49:07</td>\n",
       "      <td>POS</td>\n",
       "      <td>5311</td>\n",
       "      <td>0</td>\n",
       "      <td>T</td>\n",
       "      <td>ITA</td>\n",
       "      <td>1017</td>\n",
       "      <td>...</td>\n",
       "      <td>0</td>\n",
       "      <td>1</td>\n",
       "      <td>0.0</td>\n",
       "      <td>0.0</td>\n",
       "      <td>0.0</td>\n",
       "      <td>0.0</td>\n",
       "      <td>0.0</td>\n",
       "      <td>0.0</td>\n",
       "      <td>-0.822842</td>\n",
       "      <td>0.020897</td>\n",
       "    </tr>\n",
       "    <tr>\n",
       "      <th>3665380</th>\n",
       "      <td>4416940</td>\n",
       "      <td>6235176101</td>\n",
       "      <td>2016-03-15</td>\n",
       "      <td>17:01:02</td>\n",
       "      <td>POS</td>\n",
       "      <td>5411</td>\n",
       "      <td>0</td>\n",
       "      <td>T</td>\n",
       "      <td>ITA</td>\n",
       "      <td>1055</td>\n",
       "      <td>...</td>\n",
       "      <td>0</td>\n",
       "      <td>0</td>\n",
       "      <td>0.0</td>\n",
       "      <td>0.0</td>\n",
       "      <td>0.0</td>\n",
       "      <td>0.0</td>\n",
       "      <td>0.0</td>\n",
       "      <td>0.0</td>\n",
       "      <td>18.418458</td>\n",
       "      <td>-0.255625</td>\n",
       "    </tr>\n",
       "    <tr>\n",
       "      <th>961774</th>\n",
       "      <td>1150455</td>\n",
       "      <td>6270921001</td>\n",
       "      <td>2016-03-29</td>\n",
       "      <td>13:25:54</td>\n",
       "      <td>ATM</td>\n",
       "      <td>6011</td>\n",
       "      <td>16100</td>\n",
       "      <td>T</td>\n",
       "      <td>ITA</td>\n",
       "      <td>1017</td>\n",
       "      <td>...</td>\n",
       "      <td>0</td>\n",
       "      <td>0</td>\n",
       "      <td>0.0</td>\n",
       "      <td>0.0</td>\n",
       "      <td>0.0</td>\n",
       "      <td>0.0</td>\n",
       "      <td>0.0</td>\n",
       "      <td>0.0</td>\n",
       "      <td>-0.293950</td>\n",
       "      <td>4.655758</td>\n",
       "    </tr>\n",
       "    <tr>\n",
       "      <th>1488024</th>\n",
       "      <td>1785388</td>\n",
       "      <td>6380185949</td>\n",
       "      <td>2016-05-07</td>\n",
       "      <td>16:38:38</td>\n",
       "      <td>I3D</td>\n",
       "      <td>7995</td>\n",
       "      <td>116300</td>\n",
       "      <td>T</td>\n",
       "      <td>ITA</td>\n",
       "      <td>1028</td>\n",
       "      <td>...</td>\n",
       "      <td>0</td>\n",
       "      <td>0</td>\n",
       "      <td>0.0</td>\n",
       "      <td>0.0</td>\n",
       "      <td>0.0</td>\n",
       "      <td>0.0</td>\n",
       "      <td>0.0</td>\n",
       "      <td>0.0</td>\n",
       "      <td>21.838853</td>\n",
       "      <td>0.067334</td>\n",
       "    </tr>\n",
       "  </tbody>\n",
       "</table>\n",
       "<p>76724 rows × 37 columns</p>\n",
       "</div>"
      ],
      "text/plain": [
       "           index     ID_OPER  DT_OP_GMT ORA_OP_GMT COD_CANA  COD_CABC  \\\n",
       "36            38  6226002651 2016-03-12   09:16:37      INT      7399   \n",
       "38            40  6251120205 2016-03-21   16:55:41      INT      5968   \n",
       "60            71  6277642583 2016-03-31   19:43:54      INT      5499   \n",
       "101          112  6197847455 2016-03-02   01:47:32      INT      7995   \n",
       "102          113  6197847677 2016-03-02   01:46:43      INT      7995   \n",
       "...          ...         ...        ...        ...      ...       ...   \n",
       "2854974  3436004  6263368775 2016-03-25   18:19:20      POS      5311   \n",
       "358066    419660  6229927885 2016-03-13   18:49:07      POS      5311   \n",
       "3665380  4416940  6235176101 2016-03-15   17:01:02      POS      5411   \n",
       "961774   1150455  6270921001 2016-03-29   13:25:54      ATM      6011   \n",
       "1488024  1785388  6380185949 2016-05-07   16:38:38      I3D      7995   \n",
       "\n",
       "         PROCESSING_COD FL_AUTORIZZAZIONE COD_ABC_PAES  ID_TIPO_CARTA  ...  \\\n",
       "36               360000                 T          BMU           1009  ...   \n",
       "38                    0                 T          GBR           1028  ...   \n",
       "60                 6300                 T          GBR           1028  ...   \n",
       "101              116300                 T          MLT           1028  ...   \n",
       "102              116300                 T          MLT           1028  ...   \n",
       "...                 ...               ...          ...            ...  ...   \n",
       "2854974               0                 T          ITA           1063  ...   \n",
       "358066                0                 T          ITA           1017  ...   \n",
       "3665380               0                 T          ITA           1055  ...   \n",
       "961774            16100                 T          ITA           1017  ...   \n",
       "1488024          116300                 T          ITA           1028  ...   \n",
       "\n",
       "        FLAG_CAMBIO_PAESE_AUT FLAG_CAMBIO_PAESE_NON_AUT  PERC_ESITO_NSF_G  \\\n",
       "36                          1                         0               0.0   \n",
       "38                          0                         0               0.0   \n",
       "60                          1                         0               0.0   \n",
       "101                         0                         0               0.0   \n",
       "102                         1                         0               0.0   \n",
       "...                       ...                       ...               ...   \n",
       "2854974                     0                         0               0.0   \n",
       "358066                      0                         1               0.0   \n",
       "3665380                     0                         0               0.0   \n",
       "961774                      0                         0               0.0   \n",
       "1488024                     0                         0               0.0   \n",
       "\n",
       "        PERC_ESITO_CV2_G  PERC_ESITO_PIN_G  PERC_ESITO_SCUDO_G  \\\n",
       "36                   0.0               0.0                 0.0   \n",
       "38                   0.0               0.0                 0.0   \n",
       "60                   0.0               0.0                 0.0   \n",
       "101                  0.0               0.0                 0.0   \n",
       "102                  0.0               0.0                 0.0   \n",
       "...                  ...               ...                 ...   \n",
       "2854974              0.0               0.0                 0.0   \n",
       "358066               0.0               0.0                 0.0   \n",
       "3665380              0.0               0.0                 0.0   \n",
       "961774               0.0               0.0                 0.0   \n",
       "1488024              0.0               0.0                 0.0   \n",
       "\n",
       "         PERC_ESITO_DT_SCAD_G  PERC_ESITO_ALTRO_G  DEV_MEDIA_AUT_SEC_4  \\\n",
       "36                        0.0                 0.0            -1.000000   \n",
       "38                        0.0                 0.0             0.061449   \n",
       "60                        0.0                 0.0             2.039607   \n",
       "101                       0.0                 0.0          2052.826531   \n",
       "102                       0.0                 0.0          1057.342105   \n",
       "...                       ...                 ...                  ...   \n",
       "2854974                   0.0                 0.0            37.997611   \n",
       "358066                    0.0                 0.0            -0.822842   \n",
       "3665380                   0.0                 0.0            18.418458   \n",
       "961774                    0.0                 0.0            -0.293950   \n",
       "1488024                   0.0                 0.0            21.838853   \n",
       "\n",
       "         IMP_TRZ_RECON_NORM  \n",
       "36                -0.319642  \n",
       "38                -0.171264  \n",
       "60                -0.308585  \n",
       "101                0.786003  \n",
       "102                0.786003  \n",
       "...                     ...  \n",
       "2854974           -0.126154  \n",
       "358066             0.020897  \n",
       "3665380           -0.255625  \n",
       "961774             4.655758  \n",
       "1488024            0.067334  \n",
       "\n",
       "[76724 rows x 37 columns]"
      ]
     },
     "execution_count": 12,
     "metadata": {},
     "output_type": "execute_result"
    }
   ],
   "source": [
    "# Picking the indices of the normal classes\n",
    "normal_indices = df_train[df_train.FLAG_FRODE == 0].index\n",
    "\n",
    "# Out of the indices we picked, randomly select \"x\" number (number_records_fraud)\n",
    "random_normal_indices = np.random.choice(normal_indices, number_records_fraud, replace = False)\n",
    "random_normal_indices = np.array(random_normal_indices)\n",
    "\n",
    "# Appending the 2 indices\n",
    "under_sample_indices = np.concatenate([fraud_indices,random_normal_indices])\n",
    "\n",
    "# Under sample dfset\n",
    "df_train_undersample = df_train.iloc[under_sample_indices,:]\n",
    "\n",
    "#X_undersample = under_sample_df.loc[:, under_sample_df.columns != 'FLAG_FRODE']\n",
    "#y_undersample = under_sample_df.loc[:, under_sample_df.columns == 'FLAG_FRODE']\n",
    "df_train_undersample"
   ]
  },
  {
   "cell_type": "code",
   "execution_count": 12,
   "metadata": {},
   "outputs": [],
   "source": []
  },
  {
   "cell_type": "code",
   "execution_count": 13,
   "metadata": {},
   "outputs": [
    {
     "data": {
      "text/html": [
       "<div>\n",
       "<style scoped>\n",
       "    .dataframe tbody tr th:only-of-type {\n",
       "        vertical-align: middle;\n",
       "    }\n",
       "\n",
       "    .dataframe tbody tr th {\n",
       "        vertical-align: top;\n",
       "    }\n",
       "\n",
       "    .dataframe thead th {\n",
       "        text-align: right;\n",
       "    }\n",
       "</style>\n",
       "<table border=\"1\" class=\"dataframe\">\n",
       "  <thead>\n",
       "    <tr style=\"text-align: right;\">\n",
       "      <th></th>\n",
       "      <th>ID_OPER</th>\n",
       "      <th>DT_OP_GMT</th>\n",
       "      <th>ORA_OP_GMT</th>\n",
       "      <th>COD_CANA</th>\n",
       "      <th>COD_CABC</th>\n",
       "      <th>COD_ESITO</th>\n",
       "      <th>PROCESSING_COD</th>\n",
       "      <th>IMP_TRZ_RECON</th>\n",
       "      <th>FL_AUTORIZZAZIONE</th>\n",
       "      <th>COD_ABC_PAES</th>\n",
       "      <th>...</th>\n",
       "      <th>PERC_ESITO_ALL_G</th>\n",
       "      <th>PERC_ESITO_ALL_M</th>\n",
       "      <th>DEV_MEDIA_AUT_SEC_4</th>\n",
       "      <th>DEV_MEDIA_AUT_TO_SEC_4</th>\n",
       "      <th>MEDIA_NON_AUT_SEC_4</th>\n",
       "      <th>MEDIA_NON_AUT_SEC_3</th>\n",
       "      <th>MEDIA_NON_AUT_SEC_2</th>\n",
       "      <th>TIME_NON_AUT_SEC_LAST</th>\n",
       "      <th>ANNO</th>\n",
       "      <th>MESE</th>\n",
       "    </tr>\n",
       "  </thead>\n",
       "  <tbody>\n",
       "    <tr>\n",
       "      <th>35</th>\n",
       "      <td>6469120910</td>\n",
       "      <td>2016-06-08</td>\n",
       "      <td>22:00:16</td>\n",
       "      <td>INT</td>\n",
       "      <td>5968</td>\n",
       "      <td>0</td>\n",
       "      <td>0</td>\n",
       "      <td>84.99</td>\n",
       "      <td>T</td>\n",
       "      <td>LUX</td>\n",
       "      <td>...</td>\n",
       "      <td>0.0</td>\n",
       "      <td>0.000000</td>\n",
       "      <td>-1.000000</td>\n",
       "      <td>0.000000</td>\n",
       "      <td>305481.50</td>\n",
       "      <td>2.038930e+05</td>\n",
       "      <td>305839.0</td>\n",
       "      <td>15948784</td>\n",
       "      <td>2016</td>\n",
       "      <td>6</td>\n",
       "    </tr>\n",
       "    <tr>\n",
       "      <th>47</th>\n",
       "      <td>6490500262</td>\n",
       "      <td>2016-06-16</td>\n",
       "      <td>11:20:09</td>\n",
       "      <td>ATM</td>\n",
       "      <td>6011</td>\n",
       "      <td>0</td>\n",
       "      <td>16100</td>\n",
       "      <td>20.00</td>\n",
       "      <td>T</td>\n",
       "      <td>ITA</td>\n",
       "      <td>...</td>\n",
       "      <td>0.0</td>\n",
       "      <td>0.200000</td>\n",
       "      <td>12.909079</td>\n",
       "      <td>40.810707</td>\n",
       "      <td>3403015.75</td>\n",
       "      <td>3.860554e+06</td>\n",
       "      <td>2874068.0</td>\n",
       "      <td>49661</td>\n",
       "      <td>2016</td>\n",
       "      <td>6</td>\n",
       "    </tr>\n",
       "    <tr>\n",
       "      <th>48</th>\n",
       "      <td>6491527622</td>\n",
       "      <td>2016-06-16</td>\n",
       "      <td>16:48:17</td>\n",
       "      <td>POS</td>\n",
       "      <td>5411</td>\n",
       "      <td>0</td>\n",
       "      <td>0</td>\n",
       "      <td>30.17</td>\n",
       "      <td>T</td>\n",
       "      <td>ITA</td>\n",
       "      <td>...</td>\n",
       "      <td>0.0</td>\n",
       "      <td>0.125000</td>\n",
       "      <td>171.794554</td>\n",
       "      <td>28.940756</td>\n",
       "      <td>3403015.75</td>\n",
       "      <td>3.860554e+06</td>\n",
       "      <td>2874068.0</td>\n",
       "      <td>101</td>\n",
       "      <td>2016</td>\n",
       "      <td>6</td>\n",
       "    </tr>\n",
       "    <tr>\n",
       "      <th>50</th>\n",
       "      <td>6489132049</td>\n",
       "      <td>2016-06-15</td>\n",
       "      <td>21:23:07</td>\n",
       "      <td>INT</td>\n",
       "      <td>5735</td>\n",
       "      <td>0</td>\n",
       "      <td>6300</td>\n",
       "      <td>7.68</td>\n",
       "      <td>T</td>\n",
       "      <td>LUX</td>\n",
       "      <td>...</td>\n",
       "      <td>0.0</td>\n",
       "      <td>0.333333</td>\n",
       "      <td>17.025361</td>\n",
       "      <td>4.609863</td>\n",
       "      <td>3403015.75</td>\n",
       "      <td>3.860554e+06</td>\n",
       "      <td>2874068.0</td>\n",
       "      <td>125427</td>\n",
       "      <td>2016</td>\n",
       "      <td>6</td>\n",
       "    </tr>\n",
       "    <tr>\n",
       "      <th>51</th>\n",
       "      <td>6491520771</td>\n",
       "      <td>2016-06-16</td>\n",
       "      <td>16:46:36</td>\n",
       "      <td>POS</td>\n",
       "      <td>5411</td>\n",
       "      <td>0</td>\n",
       "      <td>0</td>\n",
       "      <td>30.17</td>\n",
       "      <td>T</td>\n",
       "      <td>ITA</td>\n",
       "      <td>...</td>\n",
       "      <td>0.0</td>\n",
       "      <td>0.166667</td>\n",
       "      <td>5.144011</td>\n",
       "      <td>28.984426</td>\n",
       "      <td>3403015.75</td>\n",
       "      <td>3.860554e+06</td>\n",
       "      <td>2874068.0</td>\n",
       "      <td>19587</td>\n",
       "      <td>2016</td>\n",
       "      <td>6</td>\n",
       "    </tr>\n",
       "    <tr>\n",
       "      <th>...</th>\n",
       "      <td>...</td>\n",
       "      <td>...</td>\n",
       "      <td>...</td>\n",
       "      <td>...</td>\n",
       "      <td>...</td>\n",
       "      <td>...</td>\n",
       "      <td>...</td>\n",
       "      <td>...</td>\n",
       "      <td>...</td>\n",
       "      <td>...</td>\n",
       "      <td>...</td>\n",
       "      <td>...</td>\n",
       "      <td>...</td>\n",
       "      <td>...</td>\n",
       "      <td>...</td>\n",
       "      <td>...</td>\n",
       "      <td>...</td>\n",
       "      <td>...</td>\n",
       "      <td>...</td>\n",
       "      <td>...</td>\n",
       "      <td>...</td>\n",
       "    </tr>\n",
       "    <tr>\n",
       "      <th>5442901</th>\n",
       "      <td>6497210707</td>\n",
       "      <td>2016-06-18</td>\n",
       "      <td>15:51:41</td>\n",
       "      <td>ATM</td>\n",
       "      <td>5550</td>\n",
       "      <td>0</td>\n",
       "      <td>926100</td>\n",
       "      <td>0.00</td>\n",
       "      <td>T</td>\n",
       "      <td>ITA</td>\n",
       "      <td>...</td>\n",
       "      <td>0.0</td>\n",
       "      <td>0.000000</td>\n",
       "      <td>0.000000</td>\n",
       "      <td>0.000000</td>\n",
       "      <td>0.00</td>\n",
       "      <td>0.000000e+00</td>\n",
       "      <td>0.0</td>\n",
       "      <td>2</td>\n",
       "      <td>2016</td>\n",
       "      <td>6</td>\n",
       "    </tr>\n",
       "    <tr>\n",
       "      <th>5442902</th>\n",
       "      <td>6499220800</td>\n",
       "      <td>2016-06-19</td>\n",
       "      <td>15:28:30</td>\n",
       "      <td>ATM</td>\n",
       "      <td>6011</td>\n",
       "      <td>0</td>\n",
       "      <td>16100</td>\n",
       "      <td>20.00</td>\n",
       "      <td>T</td>\n",
       "      <td>ITA</td>\n",
       "      <td>...</td>\n",
       "      <td>0.0</td>\n",
       "      <td>0.000000</td>\n",
       "      <td>-1.000000</td>\n",
       "      <td>0.000000</td>\n",
       "      <td>0.00</td>\n",
       "      <td>0.000000e+00</td>\n",
       "      <td>0.0</td>\n",
       "      <td>84771</td>\n",
       "      <td>2016</td>\n",
       "      <td>6</td>\n",
       "    </tr>\n",
       "    <tr>\n",
       "      <th>5442903</th>\n",
       "      <td>6497533879</td>\n",
       "      <td>2016-06-18</td>\n",
       "      <td>17:15:33</td>\n",
       "      <td>ATM</td>\n",
       "      <td>5550</td>\n",
       "      <td>0</td>\n",
       "      <td>926100</td>\n",
       "      <td>0.00</td>\n",
       "      <td>T</td>\n",
       "      <td>ITA</td>\n",
       "      <td>...</td>\n",
       "      <td>0.0</td>\n",
       "      <td>0.000000</td>\n",
       "      <td>0.000000</td>\n",
       "      <td>0.000000</td>\n",
       "      <td>0.00</td>\n",
       "      <td>0.000000e+00</td>\n",
       "      <td>0.0</td>\n",
       "      <td>3</td>\n",
       "      <td>2016</td>\n",
       "      <td>6</td>\n",
       "    </tr>\n",
       "    <tr>\n",
       "      <th>5442904</th>\n",
       "      <td>6497533290</td>\n",
       "      <td>2016-06-18</td>\n",
       "      <td>17:15:30</td>\n",
       "      <td>ATM</td>\n",
       "      <td>5550</td>\n",
       "      <td>0</td>\n",
       "      <td>306100</td>\n",
       "      <td>0.00</td>\n",
       "      <td>T</td>\n",
       "      <td>ITA</td>\n",
       "      <td>...</td>\n",
       "      <td>0.0</td>\n",
       "      <td>0.000000</td>\n",
       "      <td>0.000000</td>\n",
       "      <td>0.000000</td>\n",
       "      <td>0.00</td>\n",
       "      <td>0.000000e+00</td>\n",
       "      <td>0.0</td>\n",
       "      <td>31104000</td>\n",
       "      <td>2016</td>\n",
       "      <td>6</td>\n",
       "    </tr>\n",
       "    <tr>\n",
       "      <th>5442905</th>\n",
       "      <td>6519424430</td>\n",
       "      <td>2016-06-27</td>\n",
       "      <td>06:58:48</td>\n",
       "      <td>ATM</td>\n",
       "      <td>5550</td>\n",
       "      <td>0</td>\n",
       "      <td>306100</td>\n",
       "      <td>0.00</td>\n",
       "      <td>T</td>\n",
       "      <td>ITA</td>\n",
       "      <td>...</td>\n",
       "      <td>0.0</td>\n",
       "      <td>0.000000</td>\n",
       "      <td>0.000000</td>\n",
       "      <td>0.000000</td>\n",
       "      <td>0.00</td>\n",
       "      <td>0.000000e+00</td>\n",
       "      <td>0.0</td>\n",
       "      <td>740595</td>\n",
       "      <td>2016</td>\n",
       "      <td>6</td>\n",
       "    </tr>\n",
       "  </tbody>\n",
       "</table>\n",
       "<p>711706 rows × 96 columns</p>\n",
       "</div>"
      ],
      "text/plain": [
       "            ID_OPER  DT_OP_GMT ORA_OP_GMT COD_CANA  COD_CABC  COD_ESITO  \\\n",
       "35       6469120910 2016-06-08   22:00:16      INT      5968          0   \n",
       "47       6490500262 2016-06-16   11:20:09      ATM      6011          0   \n",
       "48       6491527622 2016-06-16   16:48:17      POS      5411          0   \n",
       "50       6489132049 2016-06-15   21:23:07      INT      5735          0   \n",
       "51       6491520771 2016-06-16   16:46:36      POS      5411          0   \n",
       "...             ...        ...        ...      ...       ...        ...   \n",
       "5442901  6497210707 2016-06-18   15:51:41      ATM      5550          0   \n",
       "5442902  6499220800 2016-06-19   15:28:30      ATM      6011          0   \n",
       "5442903  6497533879 2016-06-18   17:15:33      ATM      5550          0   \n",
       "5442904  6497533290 2016-06-18   17:15:30      ATM      5550          0   \n",
       "5442905  6519424430 2016-06-27   06:58:48      ATM      5550          0   \n",
       "\n",
       "         PROCESSING_COD  IMP_TRZ_RECON FL_AUTORIZZAZIONE COD_ABC_PAES  ...  \\\n",
       "35                    0          84.99                 T          LUX  ...   \n",
       "47                16100          20.00                 T          ITA  ...   \n",
       "48                    0          30.17                 T          ITA  ...   \n",
       "50                 6300           7.68                 T          LUX  ...   \n",
       "51                    0          30.17                 T          ITA  ...   \n",
       "...                 ...            ...               ...          ...  ...   \n",
       "5442901          926100           0.00                 T          ITA  ...   \n",
       "5442902           16100          20.00                 T          ITA  ...   \n",
       "5442903          926100           0.00                 T          ITA  ...   \n",
       "5442904          306100           0.00                 T          ITA  ...   \n",
       "5442905          306100           0.00                 T          ITA  ...   \n",
       "\n",
       "         PERC_ESITO_ALL_G  PERC_ESITO_ALL_M DEV_MEDIA_AUT_SEC_4  \\\n",
       "35                    0.0          0.000000           -1.000000   \n",
       "47                    0.0          0.200000           12.909079   \n",
       "48                    0.0          0.125000          171.794554   \n",
       "50                    0.0          0.333333           17.025361   \n",
       "51                    0.0          0.166667            5.144011   \n",
       "...                   ...               ...                 ...   \n",
       "5442901               0.0          0.000000            0.000000   \n",
       "5442902               0.0          0.000000           -1.000000   \n",
       "5442903               0.0          0.000000            0.000000   \n",
       "5442904               0.0          0.000000            0.000000   \n",
       "5442905               0.0          0.000000            0.000000   \n",
       "\n",
       "        DEV_MEDIA_AUT_TO_SEC_4  MEDIA_NON_AUT_SEC_4 MEDIA_NON_AUT_SEC_3  \\\n",
       "35                    0.000000            305481.50        2.038930e+05   \n",
       "47                   40.810707           3403015.75        3.860554e+06   \n",
       "48                   28.940756           3403015.75        3.860554e+06   \n",
       "50                    4.609863           3403015.75        3.860554e+06   \n",
       "51                   28.984426           3403015.75        3.860554e+06   \n",
       "...                        ...                  ...                 ...   \n",
       "5442901               0.000000                 0.00        0.000000e+00   \n",
       "5442902               0.000000                 0.00        0.000000e+00   \n",
       "5442903               0.000000                 0.00        0.000000e+00   \n",
       "5442904               0.000000                 0.00        0.000000e+00   \n",
       "5442905               0.000000                 0.00        0.000000e+00   \n",
       "\n",
       "         MEDIA_NON_AUT_SEC_2  TIME_NON_AUT_SEC_LAST  ANNO  MESE  \n",
       "35                  305839.0               15948784  2016     6  \n",
       "47                 2874068.0                  49661  2016     6  \n",
       "48                 2874068.0                    101  2016     6  \n",
       "50                 2874068.0                 125427  2016     6  \n",
       "51                 2874068.0                  19587  2016     6  \n",
       "...                      ...                    ...   ...   ...  \n",
       "5442901                  0.0                      2  2016     6  \n",
       "5442902                  0.0                  84771  2016     6  \n",
       "5442903                  0.0                      3  2016     6  \n",
       "5442904                  0.0               31104000  2016     6  \n",
       "5442905                  0.0                 740595  2016     6  \n",
       "\n",
       "[711706 rows x 96 columns]"
      ]
     },
     "execution_count": 13,
     "metadata": {},
     "output_type": "execute_result"
    }
   ],
   "source": [
    "df_test"
   ]
  },
  {
   "cell_type": "code",
   "execution_count": 14,
   "metadata": {},
   "outputs": [
    {
     "name": "stderr",
     "output_type": "stream",
     "text": [
      "c:\\users\\fap91\\pycharmprojects\\tesitirocinio\\venv\\lib\\site-packages\\ipykernel_launcher.py:5: SettingWithCopyWarning: \n",
      "A value is trying to be set on a copy of a slice from a DataFrame.\n",
      "Try using .loc[row_indexer,col_indexer] = value instead\n",
      "\n",
      "See the caveats in the documentation: https://pandas.pydata.org/pandas-docs/stable/user_guide/indexing.html#returning-a-view-versus-a-copy\n",
      "  \"\"\"\n",
      "c:\\users\\fap91\\pycharmprojects\\tesitirocinio\\venv\\lib\\site-packages\\pandas\\core\\frame.py:4315: SettingWithCopyWarning: \n",
      "A value is trying to be set on a copy of a slice from a DataFrame\n",
      "\n",
      "See the caveats in the documentation: https://pandas.pydata.org/pandas-docs/stable/user_guide/indexing.html#returning-a-view-versus-a-copy\n",
      "  errors=errors,\n"
     ]
    }
   ],
   "source": [
    "# Normalizziamo la variabile importo\n",
    "\n",
    "rob_scaler = RobustScaler()\n",
    "\n",
    "df_test['IMP_TRZ_RECON_NORM'] = rob_scaler.fit_transform(df_test['IMP_TRZ_RECON'].values.reshape(-1,1)) \n",
    "\n",
    "df_test.drop(['IMP_TRZ_RECON'], axis=1, inplace=True)"
   ]
  },
  {
   "cell_type": "code",
   "execution_count": 15,
   "metadata": {},
   "outputs": [],
   "source": [
    "#separating the X and the Y values\n",
    "    \n",
    "xTrain = df_train_undersample[['TIME_ORA_OP','ID_TIPO_CARTA','DEV_MEDIA_IMP_TC_1M', 'PERC_RISK_CIRC_TC_TO_1M',\n",
    "       'DEV_MEDIA_IMP_CAN_1M', 'DEV_MEDIA_IMP_TO_1M', 'PERC_OPER_NON_AUTOR_1M',\n",
    "       'PERC_OPER_NON_AUTOR_2M', 'MEDIA_NON_AUT_SEC_4',\n",
    "       'DEV_IMP_MEDIA_ULTIME_3', 'PERC_RISK_MCC_1M', 'FLAG_IMP_PREC_0',\n",
    "       'TREND_3_5','FLAG_CAMBIO_PAESE_NON_AUT',\n",
    "       'PERC_ESITO_NSF_G', 'PERC_ESITO_CV2_G', 'PERC_ESITO_PIN_G',\n",
    "       'PERC_ESITO_SCUDO_G', 'PERC_ESITO_DT_SCAD_G', 'PERC_ESITO_ALTRO_G',\n",
    "       'DEV_MEDIA_AUT_SEC_4','IMP_TRZ_RECON_NORM']]\n",
    "\n",
    "xTest = df_test[['TIME_ORA_OP','ID_TIPO_CARTA','DEV_MEDIA_IMP_TC_1M', 'PERC_RISK_CIRC_TC_TO_1M',\n",
    "       'DEV_MEDIA_IMP_CAN_1M', 'DEV_MEDIA_IMP_TO_1M', 'PERC_OPER_NON_AUTOR_1M',\n",
    "       'PERC_OPER_NON_AUTOR_2M', 'MEDIA_NON_AUT_SEC_4',\n",
    "       'DEV_IMP_MEDIA_ULTIME_3', 'PERC_RISK_MCC_1M', 'FLAG_IMP_PREC_0',\n",
    "       'TREND_3_5','FLAG_CAMBIO_PAESE_NON_AUT',\n",
    "       'PERC_ESITO_NSF_G', 'PERC_ESITO_CV2_G', 'PERC_ESITO_PIN_G',\n",
    "       'PERC_ESITO_SCUDO_G', 'PERC_ESITO_DT_SCAD_G', 'PERC_ESITO_ALTRO_G',\n",
    "       'DEV_MEDIA_AUT_SEC_4','IMP_TRZ_RECON_NORM']]\n",
    "\n",
    "yTrain = df_train_undersample[\"FLAG_FRODE\"]\n",
    "\n",
    "\n",
    "yTest = df_test[\"FLAG_FRODE\"]"
   ]
  },
  {
   "cell_type": "code",
   "execution_count": 16,
   "metadata": {},
   "outputs": [
    {
     "name": "stderr",
     "output_type": "stream",
     "text": [
      "c:\\users\\fap91\\pycharmprojects\\tesitirocinio\\venv\\lib\\site-packages\\sklearn\\linear_model\\_logistic.py:1357: UserWarning: 'n_jobs' > 1 does not have any effect when 'solver' is set to 'liblinear'. Got 'n_jobs' = 8.\n",
      "  \" = {}.\".format(effective_n_jobs(self.n_jobs)))\n"
     ]
    },
    {
     "name": "stdout",
     "output_type": "stream",
     "text": [
      "[[238105 467245]\n",
      " [  1754   4602]]\n"
     ]
    }
   ],
   "source": [
    "lr = LogisticRegression(random_state = 0, solver = 'liblinear', C= 1.0, penalty = 'l2',\n",
    "                       n_jobs = -1)\n",
    "lr.fit(xTrain,yTrain)\n",
    "predictions_lr = lr.predict(xTest)\n",
    "print(confusion_matrix(yTest, predictions_lr))"
   ]
  },
  {
   "cell_type": "code",
   "execution_count": 17,
   "metadata": {},
   "outputs": [
    {
     "name": "stdout",
     "output_type": "stream",
     "text": [
      "Accuracy 0.3410214330074497\n",
      "The Recall is 0.724040276903713\n",
      "Specificity 0.33757000070886795\n",
      "The F1 Score is 0.01924705616652342\n",
      "Precision:  0.00975316151210032\n",
      "The precision Score is 0.00975316151210032\n",
      "The ROC AUC Score is 0.5308051388062904\n",
      "The Average precision Score is 0.009526182552964734\n",
      "G-Mean 0.49438272298659\n"
     ]
    }
   ],
   "source": [
    "import numpy as np\n",
    "cm_lr = confusion_matrix(yTest, predictions_lr)\n",
    "\n",
    "tn = cm_lr[0][0]\n",
    "fp = cm_lr[0][1]\n",
    "fn = cm_lr[1][0]\n",
    "tp = cm_lr[1][1]\n",
    "\n",
    "recall = tp/(tp+fn)\n",
    "specificity = tn/(tn+fp)\n",
    "\n",
    "# sensitivity, hit rate, recall, or true positive rate\n",
    "print('Accuracy',(tp+tn)/(tp+fp+fn+tn))\n",
    "\n",
    "# sensitivity, hit rate, recall, or true positive rate\n",
    "recall = recall_score(yTest, predictions_lr) \n",
    "print(\"The Recall is {}\".format(recall)) \n",
    "\n",
    "# specificity or true negative rate\n",
    "print('Specificity', tn/(tn+fp) )\n",
    "\n",
    "#F1 Score\n",
    "f1score = f1_score(yTest, predictions_lr) \n",
    "print(\"The F1 Score is {}\".format(f1score)) \n",
    "\n",
    "#Precision\n",
    "print(\"Precision: \" ,tp/(tp+fp) )\n",
    "precision = precision_score(yTest, predictions_lr) \n",
    "print(\"The precision Score is {}\".format(precision)) \n",
    "\n",
    "\n",
    "roc_auc = roc_auc_score(yTest, predictions_lr) \n",
    "print(\"The ROC AUC Score is {}\".format(roc_auc)) \n",
    "\n",
    "avg_prec = average_precision_score(yTest, predictions_lr) \n",
    "print(\"The Average precision Score is {}\".format(avg_prec)) \n",
    "\n",
    "#Gmean\n",
    "print('G-Mean',sqrt(recall*specificity))"
   ]
  },
  {
   "cell_type": "code",
   "execution_count": 17,
   "metadata": {},
   "outputs": [],
   "source": []
  },
  {
   "cell_type": "code",
   "execution_count": 17,
   "metadata": {},
   "outputs": [],
   "source": []
  },
  {
   "cell_type": "code",
   "execution_count": 17,
   "metadata": {},
   "outputs": [],
   "source": []
  },
  {
   "cell_type": "code",
   "execution_count": 17,
   "metadata": {},
   "outputs": [],
   "source": []
  },
  {
   "cell_type": "code",
   "execution_count": 17,
   "metadata": {},
   "outputs": [],
   "source": []
  },
  {
   "cell_type": "code",
   "execution_count": 18,
   "metadata": {},
   "outputs": [],
   "source": [
    "from sklearn.model_selection import GridSearchCV\n",
    "# Create the parameter grid based on the results of random search \n",
    "param_grid = {\n",
    "    'max_depth': [6,8,10],\n",
    "    'n_estimators': [100, 200, 300]\n",
    "}\n",
    "# Create a based model\n",
    "xgb = XGBClassifier(random_state=0,n_jobs=-1,objective='binary:logistic', \n",
    "                    eval_metric = 'logloss',use_label_encoder =False)\n",
    "# Instantiate the grid search model\n",
    "grid_search = GridSearchCV(estimator = xgb, param_grid = param_grid, \n",
    "                          cv = 3)"
   ]
  },
  {
   "cell_type": "code",
   "execution_count": null,
   "metadata": {
    "pycharm": {
     "is_executing": true
    }
   },
   "outputs": [],
   "source": [
    "# Fit the grid search to the data\n",
    "grid_search.fit(xTrain, yTrain)\n",
    "grid_search.best_params_"
   ]
  },
  {
   "cell_type": "code",
   "execution_count": null,
   "metadata": {
    "pycharm": {
     "is_executing": true
    }
   },
   "outputs": [],
   "source": [
    "#For XGB\n",
    "# Make predictions on validation dataset\n",
    "XGB = XGBClassifier(random_state=0,n_jobs=-1,use_label_encoder =False, eval_metric = 'logloss')\n",
    "XGB.fit(xTrain,yTrain)\n",
    "predictions_xgb = XGB.predict(xTest)\n",
    "print(accuracy_score(yTest, predictions_xgb))\n",
    "print(confusion_matrix(yTest, predictions_xgb))\n",
    "print(classification_report(yTest, predictions_xgb))"
   ]
  },
  {
   "cell_type": "code",
   "execution_count": null,
   "metadata": {
    "pycharm": {
     "is_executing": true
    }
   },
   "outputs": [],
   "source": [
    "cm_xgb = confusion_matrix(yTest, predictions_xgb)\n",
    "\n",
    "tn = cm_xgb[0][0]\n",
    "fp = cm_xgb[0][1]\n",
    "fn = cm_xgb[1][0]\n",
    "tp = cm_xgb[1][1]\n",
    "\n",
    "recall = tp/(tp+fn)\n",
    "specificity = tn/(tn+fp)\n",
    "\n",
    "# sensitivity, hit rate, recall, or true positive rate\n",
    "print('Accuracy',(tp+tn)/(tp+fp+fn+tn))\n",
    "\n",
    "# sensitivity, hit rate, recall, or true positive rate\n",
    "recall = recall_score(yTest, predictions_xgb) \n",
    "print(\"The Recall is {}\".format(recall)) \n",
    "\n",
    "# specificity or true negative rate\n",
    "print('Specificity', tn/(tn+fp) )\n",
    "\n",
    "#F1 Score\n",
    "f1score = f1_score(yTest, predictions_xgb) \n",
    "print(\"The F1 Score is {}\".format(f1score)) \n",
    "\n",
    "#Precision\n",
    "print(\"Precision: \" ,tp/(tp+fp) )\n",
    "precision = precision_score(yTest, predictions_xgb) \n",
    "print(\"The precision Score is {}\".format(precision)) \n",
    "\n",
    "\n",
    "roc_auc = roc_auc_score(yTest, predictions_xgb) \n",
    "print(\"The ROC AUC Score is {}\".format(roc_auc)) \n",
    "\n",
    "avg_prec = average_precision_score(yTest, predictions_xgb) \n",
    "print(\"The Average precision Score is {}\".format(avg_prec)) \n",
    "\n",
    "#Gmean\n",
    "print('G-Mean',sqrt(recall*specificity))\n"
   ]
  },
  {
   "cell_type": "code",
   "execution_count": null,
   "metadata": {
    "pycharm": {
     "is_executing": true
    }
   },
   "outputs": [],
   "source": []
  },
  {
   "cell_type": "code",
   "execution_count": null,
   "metadata": {
    "pycharm": {
     "is_executing": true
    }
   },
   "outputs": [],
   "source": [
    "#For XGB\n",
    "# Make predictions on validation dataset\n",
    "XGB = XGBClassifier(random_state=0,n_jobs=-1,objective='binary:logistic', \n",
    "                    max_depth = 6, n_estimators = 100, eval_metric = 'logloss',use_label_encoder =False)\n",
    "XGB.fit(xTrain,yTrain)\n",
    "predictions_xgb = XGB.predict(xTest)\n",
    "print(accuracy_score(yTest, predictions_xgb))\n",
    "print(confusion_matrix(yTest, predictions_xgb))\n",
    "print(classification_report(yTest, predictions_xgb))"
   ]
  },
  {
   "cell_type": "code",
   "execution_count": null,
   "metadata": {
    "pycharm": {
     "is_executing": true
    }
   },
   "outputs": [],
   "source": [
    "cm_xgb = confusion_matrix(yTest, predictions_xgb)\n",
    "\n",
    "tn = cm_xgb[0][0]\n",
    "fp = cm_xgb[0][1]\n",
    "fn = cm_xgb[1][0]\n",
    "tp = cm_xgb[1][1]\n",
    "\n",
    "recall = tp/(tp+fn)\n",
    "specificity = tn/(tn+fp)\n",
    "\n",
    "# sensitivity, hit rate, recall, or true positive rate\n",
    "print('Accuracy',(tp+tn)/(tp+fp+fn+tn))\n",
    "\n",
    "# sensitivity, hit rate, recall, or true positive rate\n",
    "recall = recall_score(yTest, predictions_xgb) \n",
    "print(\"The Recall is {}\".format(recall)) \n",
    "\n",
    "# specificity or true negative rate\n",
    "print('Specificity', tn/(tn+fp) )\n",
    "\n",
    "#F1 Score\n",
    "f1score = f1_score(yTest, predictions_xgb) \n",
    "print(\"The F1 Score is {}\".format(f1score)) \n",
    "\n",
    "#Precision\n",
    "print(\"Precision: \" ,tp/(tp+fp) )\n",
    "precision = precision_score(yTest, predictions_xgb) \n",
    "print(\"The precision Score is {}\".format(precision)) \n",
    "\n",
    "\n",
    "roc_auc = roc_auc_score(yTest, predictions_xgb) \n",
    "print(\"The ROC AUC Score is {}\".format(roc_auc)) \n",
    "\n",
    "avg_prec = average_precision_score(yTest, predictions_xgb) \n",
    "print(\"The Average precision Score is {}\".format(avg_prec)) \n",
    "\n",
    "#Gmean\n",
    "print('G-Mean',sqrt(recall*specificity))\n"
   ]
  },
  {
   "cell_type": "code",
   "execution_count": null,
   "metadata": {
    "pycharm": {
     "is_executing": true
    }
   },
   "outputs": [],
   "source": []
  },
  {
   "cell_type": "code",
   "execution_count": null,
   "metadata": {
    "pycharm": {
     "is_executing": true
    }
   },
   "outputs": [],
   "source": []
  },
  {
   "cell_type": "code",
   "execution_count": null,
   "metadata": {
    "pycharm": {
     "is_executing": true
    }
   },
   "outputs": [],
   "source": [
    "from sklearn.model_selection import GridSearchCV\n",
    "# Create the parameter grid based on the results of random search \n",
    "param_grid = {\n",
    "    'bootstrap': [True],\n",
    "    'max_depth': [6,8,10],\n",
    "    'max_features': [2,3],\n",
    "    'n_estimators': [100, 200, 300]\n",
    "}\n",
    "# Create a based model\n",
    "rf = RandomForestClassifier(random_state=0)\n",
    "# Instantiate the grid search model\n",
    "grid_search = GridSearchCV(estimator = rf, param_grid = param_grid, \n",
    "                          cv = 3, n_jobs = -1, verbose = 2)"
   ]
  },
  {
   "cell_type": "code",
   "execution_count": null,
   "metadata": {
    "pycharm": {
     "is_executing": true
    },
    "scrolled": true
   },
   "outputs": [],
   "source": [
    "# Fit the grid search to the data\n",
    "grid_search.fit(xTrain, yTrain)\n",
    "grid_search.best_params_"
   ]
  },
  {
   "cell_type": "code",
   "execution_count": null,
   "metadata": {
    "pycharm": {
     "is_executing": true
    }
   },
   "outputs": [],
   "source": [
    "print (f'Train Accuracy - : {grid_search.score(xTrain,yTrain):.3f}')\n",
    "print (f'Test Accuracy - : {grid_search.score(xValid,yValid):.3f}')"
   ]
  },
  {
   "cell_type": "code",
   "execution_count": null,
   "metadata": {
    "pycharm": {
     "is_executing": true
    }
   },
   "outputs": [],
   "source": [
    "from sklearn.model_selection import GridSearchCV\n",
    "# Create the parameter grid based on the results of random search \n",
    "param_grid = {\n",
    "    'bootstrap': [True],\n",
    "    'max_depth': [8,10,12],\n",
    "    'max_features': [2,3,4],\n",
    "    'n_estimators': [100, 200]\n",
    "}\n",
    "# Create a based model\n",
    "rf = RandomForestClassifier(random_state=0)\n",
    "# Instantiate the grid search model\n",
    "grid_search = GridSearchCV(estimator = rf, param_grid = param_grid, \n",
    "                          cv = 3, n_jobs = -1, verbose = 2)"
   ]
  },
  {
   "cell_type": "code",
   "execution_count": null,
   "metadata": {
    "pycharm": {
     "is_executing": true
    }
   },
   "outputs": [],
   "source": [
    "# Fit the grid search to the data\n",
    "grid_search.fit(xTrain, yTrain)\n",
    "grid_search.best_params_"
   ]
  },
  {
   "cell_type": "code",
   "execution_count": null,
   "metadata": {
    "pycharm": {
     "is_executing": true
    }
   },
   "outputs": [],
   "source": []
  },
  {
   "cell_type": "code",
   "execution_count": null,
   "metadata": {
    "pycharm": {
     "is_executing": true
    }
   },
   "outputs": [],
   "source": [
    "#building the Random Forest Classifier\n",
    "\n",
    "from sklearn.ensemble import RandomForestClassifier \n",
    "#random forest model creation \n",
    "rfc = RandomForestClassifier(bootstrap = True, random_state=0,\n",
    "                             max_features = 2, max_depth = 12, n_estimators = 100)\n",
    "rfc.fit(xTrain,yTrain)\n",
    "predictions = rfc.predict(xTest)\n",
    "print(accuracy_score(yTest, predictions))\n",
    "print(confusion_matrix(yTest, predictions))\n",
    "print(classification_report(yTest, predictions))"
   ]
  },
  {
   "cell_type": "code",
   "execution_count": null,
   "metadata": {
    "pycharm": {
     "is_executing": true
    }
   },
   "outputs": [],
   "source": [
    "import numpy as np\n",
    "cm = confusion_matrix(yTest, predictions)\n",
    "\n",
    "tn = cm[0][0]\n",
    "fp = cm[0][1]\n",
    "fn = cm[1][0]\n",
    "tp = cm[1][1]\n",
    "\n",
    "recall = tp/(tp+fn)\n",
    "specificity = tn/(tn+fp)\n",
    "\n",
    "# sensitivity, hit rate, recall, or true positive rate\n",
    "print('Accuracy',(tp+tn)/(tp+fp+fn+tn))\n",
    "\n",
    "# sensitivity, hit rate, recall, or true positive rate\n",
    "print('Recall',tp/(tp+fn))\n",
    "\n",
    "# specificity or true negative rate\n",
    "print('Specificity', tn/(tn+fp) )\n",
    "\n",
    "#F1 Score\n",
    "print(\"F1 Score: \" ,tp/(tp+((fn+fp)/2)))\n",
    "\n",
    "#Precision\n",
    "print(\"Precision: \" ,tp/(tp+fp) )\n",
    "\n",
    "roc_auc = roc_auc_score(yTest, predictions) \n",
    "print(\"The ROC AUC Score is {}\".format(roc_auc)) \n",
    "\n",
    "avg_prec = average_precision_score(yTest, predictions) \n",
    "print(\"The Average precision Score is {}\".format(avg_prec)) \n",
    "\n",
    "#Gmean\n",
    "print('G-Mean',sqrt(recall*specificity))\n",
    "\n",
    "# precision or positive predictive value\n",
    "ppv = tp/(tp+fp)\n",
    "# negative predictive value\n",
    "npv = tn/(tn+fn)\n",
    "# fall out or false positive rate\n",
    "fpr = fp/(fp+tn)\n",
    "# false negative rate\n",
    "fnr = fn/(tp+fn)\n",
    "# false discovery rate\n",
    "fdr = fp/(tp+fp)\n",
    "\n",
    "# overall accuracy\n",
    "acc = (tp+tn)/(tp+fp+fn+tn)"
   ]
  },
  {
   "cell_type": "code",
   "execution_count": null,
   "metadata": {
    "pycharm": {
     "is_executing": true
    }
   },
   "outputs": [],
   "source": [
    "print (f'Train Accuracy - : {grid_search.score(xTrain,yTrain):.3f}')\n",
    "print (f'Test Accuracy - : {grid_search.score(xValid,yValid):.3f}')"
   ]
  },
  {
   "cell_type": "code",
   "execution_count": null,
   "metadata": {
    "pycharm": {
     "is_executing": true
    }
   },
   "outputs": [],
   "source": [
    "from sklearn.model_selection import GridSearchCV\n",
    "# Create the parameter grid based on the results of random search \n",
    "param_grid = {\n",
    "    'bootstrap': [True],\n",
    "    'max_depth': [10,12,14],\n",
    "    'max_features': [2,3,4],\n",
    "    'n_estimators': [100, 200, 300]\n",
    "}\n",
    "# Create a based model\n",
    "rf = RandomForestClassifier(random_state=0)\n",
    "# Instantiate the grid search model\n",
    "grid_search = GridSearchCV(estimator = rf, param_grid = param_grid, \n",
    "                          cv = 3, n_jobs = -1, verbose = 2)"
   ]
  },
  {
   "cell_type": "code",
   "execution_count": null,
   "metadata": {
    "pycharm": {
     "is_executing": true
    }
   },
   "outputs": [],
   "source": [
    "# Fit the grid search to the data\n",
    "grid_search.fit(xTrain, yTrain)\n",
    "grid_search.best_params_"
   ]
  },
  {
   "cell_type": "code",
   "execution_count": null,
   "metadata": {
    "pycharm": {
     "is_executing": true
    },
    "scrolled": true
   },
   "outputs": [],
   "source": [
    "#building the Random Forest Classifier\n",
    "\n",
    "from sklearn.ensemble import RandomForestClassifier \n",
    "#random forest model creation \n",
    "rfc = RandomForestClassifier(bootstrap = True, random_state=0,\n",
    "                             max_features = 4, max_depth = 14, n_estimators = 200)\n",
    "rfc.fit(xTrain,yTrain)\n",
    "predictions = rfc.predict(xTest)\n",
    "print(accuracy_score(yTest, predictions))\n",
    "print(confusion_matrix(yTest, predictions))\n",
    "print(classification_report(yTest, predictions))"
   ]
  },
  {
   "cell_type": "code",
   "execution_count": null,
   "metadata": {
    "pycharm": {
     "is_executing": true
    }
   },
   "outputs": [],
   "source": [
    "import numpy as np\n",
    "cm = confusion_matrix(yTest, predictions)\n",
    "\n",
    "tn = cm[0][0]\n",
    "fp = cm[0][1]\n",
    "fn = cm[1][0]\n",
    "tp = cm[1][1]\n",
    "\n",
    "recall = tp/(tp+fn)\n",
    "specificity = tn/(tn+fp)\n",
    "\n",
    "# sensitivity, hit rate, recall, or true positive rate\n",
    "print('Accuracy',(tp+tn)/(tp+fp+fn+tn))\n",
    "\n",
    "# sensitivity, hit rate, recall, or true positive rate\n",
    "print('Recall',tp/(tp+fn))\n",
    "\n",
    "# specificity or true negative rate\n",
    "print('Specificity', tn/(tn+fp) )\n",
    "\n",
    "#F1 Score\n",
    "print(\"F1 Score: \" ,tp/(tp+((fn+fp)/2)))\n",
    "\n",
    "#Precision\n",
    "print(\"Precision: \" ,tp/(tp+fp) )\n",
    "\n",
    "roc_auc = roc_auc_score(yTest, predictions) \n",
    "print(\"The ROC AUC Score is {}\".format(roc_auc)) \n",
    "\n",
    "avg_prec = average_precision_score(yTest, predictions) \n",
    "print(\"The Average precision Score is {}\".format(avg_prec)) \n",
    "\n",
    "#Gmean\n",
    "print('G-Mean',sqrt(recall*specificity))\n",
    "\n",
    "# precision or positive predictive value\n",
    "ppv = tp/(tp+fp)\n",
    "# negative predictive value\n",
    "npv = tn/(tn+fn)\n",
    "# fall out or false positive rate\n",
    "fpr = fp/(fp+tn)\n",
    "# false negative rate\n",
    "fnr = fn/(tp+fn)\n",
    "# false discovery rate\n",
    "fdr = fp/(tp+fp)\n",
    "\n",
    "# overall accuracy\n",
    "acc = (tp+tn)/(tp+fp+fn+tn)"
   ]
  },
  {
   "cell_type": "code",
   "execution_count": null,
   "metadata": {
    "pycharm": {
     "is_executing": true
    }
   },
   "outputs": [],
   "source": []
  },
  {
   "cell_type": "code",
   "execution_count": null,
   "metadata": {
    "pycharm": {
     "is_executing": true
    }
   },
   "outputs": [],
   "source": [
    "rfc.get_params().keys()"
   ]
  },
  {
   "cell_type": "code",
   "execution_count": null,
   "metadata": {
    "pycharm": {
     "is_executing": true
    }
   },
   "outputs": [],
   "source": [
    "#building the Random Forest Classifier\n",
    "\n",
    "from sklearn.ensemble import RandomForestClassifier \n",
    "#random forest model creation \n",
    "rfc = RandomForestClassifier(bootstrap = True, random_state=0,\n",
    "                             max_features = 2, max_depth = 14, n_estimators = 200)\n",
    "\n",
    "rfc.fit(xTrain,yTrain)\n",
    "predictions = rfc.predict(xTest)\n",
    "print(accuracy_score(yTest, predictions))\n",
    "print(confusion_matrix(yTest, predictions))\n",
    "print(classification_report(yTest, predictions))"
   ]
  },
  {
   "cell_type": "code",
   "execution_count": null,
   "metadata": {
    "pycharm": {
     "is_executing": true
    }
   },
   "outputs": [],
   "source": [
    "import numpy as np\n",
    "cm = confusion_matrix(yTest, predictions)\n",
    "\n",
    "tn = cm[0][0]\n",
    "fp = cm[0][1]\n",
    "fn = cm[1][0]\n",
    "tp = cm[1][1]\n",
    "\n",
    "recall = tp/(tp+fn)\n",
    "specificity = tn/(tn+fp)\n",
    "\n",
    "# sensitivity, hit rate, recall, or true positive rate\n",
    "print('Accuracy',(tp+tn)/(tp+fp+fn+tn))\n",
    "\n",
    "# sensitivity, hit rate, recall, or true positive rate\n",
    "print('Recall',tp/(tp+fn))\n",
    "\n",
    "# specificity or true negative rate\n",
    "print('Specificity', tn/(tn+fp) )\n",
    "\n",
    "#F1 Score\n",
    "print(\"F1 Score: \" ,tp/(tp+((fn+fp)/2)))\n",
    "\n",
    "#Precision\n",
    "print(\"Precision: \" ,tp/(tp+fp) )\n",
    "\n",
    "roc_auc = roc_auc_score(yTest, predictions) \n",
    "print(\"The ROC AUC Score is {}\".format(roc_auc)) \n",
    "\n",
    "avg_prec = average_precision_score(yTest, predictions) \n",
    "print(\"The Average precision Score is {}\".format(avg_prec)) \n",
    "\n",
    "#Gmean\n",
    "print('G-Mean',sqrt(recall*specificity))\n",
    "\n",
    "# precision or positive predictive value\n",
    "ppv = tp/(tp+fp)\n",
    "# negative predictive value\n",
    "npv = tn/(tn+fn)\n",
    "# fall out or false positive rate\n",
    "fpr = fp/(fp+tn)\n",
    "# false negative rate\n",
    "fnr = fn/(tp+fn)\n",
    "# false discovery rate\n",
    "fdr = fp/(tp+fp)\n",
    "\n",
    "# overall accuracy\n",
    "acc = (tp+tn)/(tp+fp+fn+tn)"
   ]
  },
  {
   "cell_type": "code",
   "execution_count": null,
   "metadata": {
    "pycharm": {
     "is_executing": true
    }
   },
   "outputs": [],
   "source": []
  },
  {
   "cell_type": "code",
   "execution_count": null,
   "metadata": {
    "pycharm": {
     "is_executing": true
    }
   },
   "outputs": [],
   "source": [
    "#For easy\n",
    "# Make predictions on validation dataset\n",
    "from imblearn.ensemble import EasyEnsembleClassifier\n",
    "easy = EasyEnsembleClassifier(random_state=0)"
   ]
  },
  {
   "cell_type": "code",
   "execution_count": null,
   "metadata": {
    "pycharm": {
     "is_executing": true
    }
   },
   "outputs": [],
   "source": [
    "easy.fit(xTrain,yTrain)\n",
    "predictions_easy = easy.predict(xTest)\n",
    "print(accuracy_score(yTest, predictions_easy))\n",
    "print(confusion_matrix(yTest, predictions_easy))\n",
    "print(classification_report(yTest, predictions_easy))"
   ]
  },
  {
   "cell_type": "code",
   "execution_count": null,
   "metadata": {
    "pycharm": {
     "is_executing": true
    }
   },
   "outputs": [],
   "source": [
    "cm = confusion_matrix(yTest, predictions_easy)\n",
    "\n",
    "tn = cm[0][0]\n",
    "fp = cm[0][1]\n",
    "fn = cm[1][0]\n",
    "tp = cm[1][1]\n",
    "\n",
    "recall = tp/(tp+fn)\n",
    "specificity = tn/(tn+fp)\n",
    "\n",
    "# sensitivity, hit rate, recall, or true positive rate\n",
    "print('Accuracy',(tp+tn)/(tp+fp+fn+tn))\n",
    "\n",
    "# sensitivity, hit rate, recall, or true positive rate\n",
    "recall = recall_score(yTest, predictions_easy, average='weighted') \n",
    "print(\"The Recall is {}\".format(recall)) \n",
    "\n",
    "# specificity or true negative rate\n",
    "print('Specificity', tn/(tn+fp) )\n",
    "\n",
    "#F1 Score\n",
    "f1score = f1_score(yTest, predictions_easy, average='weighted') \n",
    "print(\"The F1 Score is {}\".format(f1score)) \n",
    "\n",
    "#Precision\n",
    "print(\"Precision: \" ,tp/(tp+fp) )\n",
    "\n",
    "roc_auc = roc_auc_score(yTest, predictions_easy) \n",
    "print(\"The ROC AUC Score is {}\".format(roc_auc)) \n",
    "\n",
    "roc_auc = roc_auc_score(yTest, easy.predict_proba(xTest)[:,1]) \n",
    "print(\"AUC probability {}\".format(roc_auc)) \n",
    "\n",
    "roc_auc = roc_auc_score(yTest, easy.predict_proba(xTest)[:,1]) \n",
    "print(\"ROC AUC {}\".format(sklearn.metrics.auc))\n",
    "\n",
    "roc_auc = roc_auc_score(yTest,predictions_easy ) \n",
    "print(\"ROC AUC {}\".format(sklearn.metrics.auc))\n",
    "\n",
    "avg_prec = average_precision_score(yTest, predictions_easy) \n",
    "print(\"The Average precision Score is {}\".format(avg_prec)) \n",
    "\n",
    "#Gmean\n",
    "print('G-Mean',sqrt(recall*specificity))"
   ]
  },
  {
   "cell_type": "code",
   "execution_count": null,
   "metadata": {
    "pycharm": {
     "is_executing": true
    }
   },
   "outputs": [],
   "source": [
    "predictions_easy"
   ]
  },
  {
   "cell_type": "code",
   "execution_count": null,
   "metadata": {
    "pycharm": {
     "is_executing": true
    }
   },
   "outputs": [],
   "source": [
    "easy.predict_proba(xTest)[:,1]"
   ]
  },
  {
   "cell_type": "code",
   "execution_count": null,
   "metadata": {
    "pycharm": {
     "is_executing": true
    }
   },
   "outputs": [],
   "source": [
    "from sklearn.metrics import plot_roc_curve\n",
    "ax = plt.gca()\n",
    "\n",
    "LR_disp = plot_roc_curve(lr, xTest, yTest, ax=ax, alpha=0.8)\n",
    "rfc_disp = plot_roc_curve(rfc, xTest, yTest, ax=ax, alpha=0.8)\n",
    "xgb_disp = plot_roc_curve(XGB, xTest, yTest, ax=ax, alpha=0.8)\n",
    "ada_disp = plot_roc_curve(easy, xTest, yTest, ax=ax, alpha=0.8)\n",
    "\n",
    "\n",
    "plt.show()"
   ]
  },
  {
   "cell_type": "code",
   "execution_count": null,
   "metadata": {
    "pycharm": {
     "is_executing": true
    }
   },
   "outputs": [],
   "source": [
    "from sklearn.metrics import plot_precision_recall_curve\n",
    "ax = plt.gca()\n",
    "\n",
    "LR_disp = plot_precision_recall_curve(lr, xTest, yTest, ax=ax, alpha=0.8)\n",
    "rfc_disp = plot_precision_recall_curve(rfc, xTest, yTest, ax=ax, alpha=0.8)\n",
    "xgb_disp = plot_precision_recall_curve(XGB, xTest, yTest, ax=ax, alpha=0.8)\n",
    "ada_disp = plot_precision_recall_curve(easy, xTest, yTest, ax=ax, alpha=0.8)\n",
    "\n",
    "plt.show()"
   ]
  },
  {
   "cell_type": "code",
   "execution_count": null,
   "metadata": {
    "pycharm": {
     "is_executing": true
    }
   },
   "outputs": [],
   "source": []
  },
  {
   "cell_type": "code",
   "execution_count": null,
   "metadata": {
    "pycharm": {
     "is_executing": true
    }
   },
   "outputs": [],
   "source": []
  },
  {
   "cell_type": "markdown",
   "metadata": {},
   "source": [
    "## thresholds"
   ]
  },
  {
   "cell_type": "code",
   "execution_count": null,
   "metadata": {
    "pycharm": {
     "is_executing": true
    }
   },
   "outputs": [],
   "source": [
    "from sklearn.metrics import precision_recall_curve\n",
    "# predict probabilities\n",
    "rfc_probs = rfc.predict_proba(xTest)\n",
    "rfc_probs"
   ]
  },
  {
   "cell_type": "code",
   "execution_count": null,
   "metadata": {
    "pycharm": {
     "is_executing": true
    }
   },
   "outputs": [],
   "source": [
    "from sklearn.metrics import f1_score\n",
    "from numpy import arange\n",
    "\n",
    "# apply threshold to positive probabilities to create labels\n",
    "def to_labels(pos_probs, threshold):\n",
    "\treturn (pos_probs >= threshold).astype('int')\n",
    "\n",
    "probs = rfc_probs[:,1]\n",
    "# define thresholds\n",
    "thresholds = arange(0, 1, 0.001)\n",
    "# evaluate each threshold\n",
    "scores = [f1_score(yTest, to_labels(probs, t)) for t in thresholds]\n",
    "# get best threshold\n",
    "ix = argmax(scores)\n",
    "print('Threshold=%.3f, F-Score=%.5f' % (thresholds[ix], scores[ix]))"
   ]
  },
  {
   "cell_type": "code",
   "execution_count": null,
   "metadata": {
    "pycharm": {
     "is_executing": true
    }
   },
   "outputs": [],
   "source": [
    "from sklearn.metrics import f1_score\n",
    "from numpy import arange\n",
    "\n",
    "# apply threshold to positive probabilities to create labels\n",
    "def to_labels(pos_probs, threshold):\n",
    "\treturn (pos_probs >= threshold).astype('int')\n",
    "\n",
    "probs = rfc_probs[:,1]\n",
    "# define thresholds\n",
    "thresholds = arange(0, 1, 0.001)\n",
    "# evaluate each threshold\n",
    "scores = [roc_auc_score(yTest, to_labels(probs, t)) for t in thresholds]\n",
    "# get best threshold\n",
    "ix = argmax(scores)\n",
    "print('Threshold=%.3f, AucScore=%.5f' % (thresholds[ix], scores[ix]))"
   ]
  },
  {
   "cell_type": "code",
   "execution_count": null,
   "metadata": {
    "pycharm": {
     "is_executing": true
    }
   },
   "outputs": [],
   "source": [
    "from sklearn.metrics import f1_score\n",
    "from numpy import arange\n",
    "\n",
    "# apply threshold to positive probabilities to create labels\n",
    "def to_labels(pos_probs, threshold):\n",
    "\treturn (pos_probs >= threshold).astype('int')\n",
    "\n",
    "probs = rfc_probs[:,0]\n",
    "# define thresholds\n",
    "thresholds = arange(0, 1, 0.001)\n",
    "# evaluate each threshold\n",
    "scores = [accuracy_score(yTest, to_labels(probs, t)) for t in thresholds]\n",
    "# get best threshold\n",
    "ix = argmax(scores)\n",
    "print('Threshold=%.3f, accuracy_score=%.5f' % (thresholds[ix], scores[ix]))"
   ]
  },
  {
   "cell_type": "code",
   "execution_count": null,
   "metadata": {
    "pycharm": {
     "is_executing": true
    }
   },
   "outputs": [],
   "source": [
    "rfc_probs"
   ]
  },
  {
   "cell_type": "code",
   "execution_count": null,
   "metadata": {
    "pycharm": {
     "is_executing": true
    }
   },
   "outputs": [],
   "source": [
    "probs"
   ]
  },
  {
   "cell_type": "code",
   "execution_count": null,
   "metadata": {
    "pycharm": {
     "is_executing": true
    }
   },
   "outputs": [],
   "source": []
  },
  {
   "cell_type": "code",
   "execution_count": null,
   "metadata": {
    "pycharm": {
     "is_executing": true
    }
   },
   "outputs": [],
   "source": []
  },
  {
   "cell_type": "code",
   "execution_count": null,
   "metadata": {
    "pycharm": {
     "is_executing": true
    }
   },
   "outputs": [],
   "source": [
    "from sklearn.metrics import roc_curve, auc\n",
    "from numpy import argmax\n",
    "\n",
    "preds = rfc_probs[:,1]\n",
    "fpr, tpr, threshold = roc_curve(yTest, preds)\n",
    "roc_auc = auc(fpr, tpr)\n",
    "\n",
    "# get the best threshold\n",
    "J = tpr - fpr\n",
    "ix = argmax(J)\n",
    "best_thresh = threshold[ix]\n",
    "print('Best Threshold=%f' % (best_thresh))"
   ]
  }
 ],
 "metadata": {
  "kernelspec": {
   "display_name": "Python 3",
   "language": "python",
   "name": "python3"
  },
  "language_info": {
   "codemirror_mode": {
    "name": "ipython",
    "version": 3
   },
   "file_extension": ".py",
   "mimetype": "text/x-python",
   "name": "python",
   "nbconvert_exporter": "python",
   "pygments_lexer": "ipython3",
   "version": "3.7.9"
  }
 },
 "nbformat": 4,
 "nbformat_minor": 1
}
