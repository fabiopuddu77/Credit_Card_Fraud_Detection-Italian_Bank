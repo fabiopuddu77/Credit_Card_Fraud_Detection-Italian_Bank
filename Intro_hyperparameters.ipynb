{
 "cells": [
  {
   "cell_type": "code",
   "execution_count": 1,
   "metadata": {},
   "outputs": [],
   "source": [
    "import numpy as np # linear algebra\n",
    "import pandas as pd\n",
    "import seaborn as sns\n",
    "import matplotlib.pyplot as plt\n",
    "import time\n",
    "import sklearn\n",
    "import sklearn.metrics\n",
    "\n",
    "import warnings\n",
    "warnings.simplefilter(action='ignore', category=FutureWarning)\n",
    "warnings.filterwarnings(\"ignore\", category=DeprecationWarning)"
   ]
  },
  {
   "cell_type": "code",
   "execution_count": 23,
   "metadata": {},
   "outputs": [],
   "source": [
    "from sklearn.linear_model import LogisticRegression\n",
    "from sklearn.discriminant_analysis import LinearDiscriminantAnalysis \n",
    "from sklearn.neighbors import KNeighborsClassifier\n",
    "from sklearn.tree import DecisionTreeClassifier\n",
    "from sklearn.naive_bayes import GaussianNB\n",
    "from sklearn.svm import SVC\n",
    "from xgboost import XGBClassifier\n",
    "from math import sqrt"
   ]
  },
  {
   "cell_type": "code",
   "execution_count": 21,
   "metadata": {},
   "outputs": [],
   "source": [
    "#building all kinds of evaluating parameters\n",
    "from sklearn.metrics import classification_report, accuracy_score  \n",
    "from sklearn.metrics import precision_score, recall_score \n",
    "from sklearn.metrics import roc_curve,auc, roc_auc_score, average_precision_score\n",
    "from sklearn.metrics import f1_score, matthews_corrcoef \n",
    "from sklearn.metrics import roc_curve,auc\n",
    "from sklearn.metrics import confusion_matrix "
   ]
  },
  {
   "cell_type": "code",
   "execution_count": 4,
   "metadata": {},
   "outputs": [],
   "source": [
    "from imblearn.pipeline import make_pipeline as make_pipeline_imb # To do our transformation in a unique time\n",
    "from imblearn.over_sampling import SMOTE\n",
    "from sklearn.pipeline import make_pipeline\n",
    "from sklearn.ensemble import RandomForestClassifier\n",
    "from collections import Counter\n",
    "from sklearn.model_selection import train_test_split\n",
    "classifier = RandomForestClassifier"
   ]
  },
  {
   "cell_type": "code",
   "execution_count": 5,
   "metadata": {
    "pycharm": {
     "is_executing": true
    }
   },
   "outputs": [],
   "source": [
    "import pandas as pd\n",
    "\n",
    "url2 = 'Dataset/PRFI_4M_DEF_HEAD.txt'\n",
    "df = pd.read_table(url2, sep=';')"
   ]
  },
  {
   "cell_type": "code",
   "execution_count": 6,
   "metadata": {
    "pycharm": {
     "is_executing": true
    }
   },
   "outputs": [],
   "source": [
    "df[\"FLAG_FRODE\"].replace({\"T\": 1, \"F\": 0}, inplace=True)"
   ]
  },
  {
   "cell_type": "code",
   "execution_count": 7,
   "metadata": {
    "pycharm": {
     "is_executing": true
    }
   },
   "outputs": [
    {
     "name": "stdout",
     "output_type": "stream",
     "text": [
      "            ID_OPER  DT_OP_GMT ORA_OP_GMT COD_CANA  COD_CABC  COD_ESITO  \\\n",
      "0        6231261973 2016-03-14   11:27:28      ATM      6011          0   \n",
      "1        6217512045 2016-03-09   09:48:09      INT      5942          0   \n",
      "2        6204998318 2016-03-04   12:01:47      INT      5192          0   \n",
      "3        6260986375 2016-03-25   08:29:03      INT      5968          0   \n",
      "4        6214969493 2016-03-08   10:36:09      POS      5411          0   \n",
      "...             ...        ...        ...      ...       ...        ...   \n",
      "5438812  6443141702 2016-05-30   19:07:33      INT      7273          0   \n",
      "5439277  6442518610 2016-05-30   15:57:05      INT      5045          0   \n",
      "5439283  6442463929 2016-05-30   17:44:10      INT      8999          0   \n",
      "5439406  6442771077 2016-05-30   16:54:51      ATM      6011          0   \n",
      "5439830  6396976594 2016-05-13   17:07:03      ATM      6011          0   \n",
      "\n",
      "         PROCESSING_COD  IMP_TRZ_RECON FL_AUTORIZZAZIONE COD_ABC_PAES  ...  \\\n",
      "0                366100           0.00                 T          ITA  ...   \n",
      "1                  6300           9.35                 T          ITA  ...   \n",
      "2                  6300          17.90                 T          ITA  ...   \n",
      "3                  6300           9.99                 T          NLD  ...   \n",
      "4                     0          22.25                 T          ITA  ...   \n",
      "...                 ...            ...               ...          ...  ...   \n",
      "5438812            6300          54.99                 T          NLD  ...   \n",
      "5439277            6300          71.93                 T          ROM  ...   \n",
      "5439283            6300         100.00                 T          ITA  ...   \n",
      "5439406           16100         100.00                 T          ITA  ...   \n",
      "5439830          366100           0.00                 T          ITA  ...   \n",
      "\n",
      "         PERC_ESITO_ALL_G  PERC_ESITO_ALL_M DEV_MEDIA_AUT_SEC_4  \\\n",
      "0                     0.0               0.0           -1.000000   \n",
      "1                     0.0               0.0            2.418578   \n",
      "2                     0.0               0.0            0.864804   \n",
      "3                     0.0               0.0           -0.279195   \n",
      "4                     0.0               0.0            0.306757   \n",
      "...                   ...               ...                 ...   \n",
      "5438812               0.0               0.0           -0.688740   \n",
      "5439277               0.0               0.0            0.000000   \n",
      "5439283               0.0               0.0            0.000000   \n",
      "5439406               0.0               0.0            0.000000   \n",
      "5439830               0.0               0.0            0.000000   \n",
      "\n",
      "        DEV_MEDIA_AUT_TO_SEC_4  MEDIA_NON_AUT_SEC_4 MEDIA_NON_AUT_SEC_3  \\\n",
      "0                    -1.000000           3433466.75        3.764000e+03   \n",
      "1                     1.092245           1375101.00        1.411049e+06   \n",
      "2                     2.990299           1375101.00        1.411049e+06   \n",
      "3                    -0.279195           1375101.00        1.411049e+06   \n",
      "4                    -0.103120           1964559.50        2.573075e+06   \n",
      "...                        ...                  ...                 ...   \n",
      "5438812              -0.688740                 0.00        0.000000e+00   \n",
      "5439277               0.000000                 0.00        0.000000e+00   \n",
      "5439283               0.000000                 0.00        0.000000e+00   \n",
      "5439406               0.000000             66881.00        6.688100e+04   \n",
      "5439830               0.000000                 0.00        0.000000e+00   \n",
      "\n",
      "         MEDIA_NON_AUT_SEC_2  TIME_NON_AUT_SEC_LAST  ANNO  MESE  \n",
      "0                     5644.5                4498501  2016     3  \n",
      "1                  2070957.5                 423982  2016     3  \n",
      "2                  2070957.5                 685390  2016     3  \n",
      "3                  2070957.5                1377654  2016     3  \n",
      "4                  3425734.0                 136317  2016     3  \n",
      "...                      ...                    ...   ...   ...  \n",
      "5438812                  0.0                   1563  2016     5  \n",
      "5439277                  0.0                  22121  2016     5  \n",
      "5439283                  0.0               31104000  2016     5  \n",
      "5439406              66881.0                  31439  2016     5  \n",
      "5439830                  0.0               31104000  2016     5  \n",
      "\n",
      "[4462847 rows x 96 columns]\n"
     ]
    }
   ],
   "source": [
    "df[\"DT_OP_GMT\"] = pd.to_datetime(df[\"DT_OP_GMT\"])\n",
    "\n",
    "start_datetr = '2016-03-01'\n",
    "end_datetr = '2016-05-31'\n",
    "\n",
    "mask_tr = (df['DT_OP_GMT'] >= start_datetr) & (df['DT_OP_GMT'] < end_datetr) \n",
    "df_train = df.loc[mask_tr]\n",
    "\n",
    "print(df_train)"
   ]
  },
  {
   "cell_type": "code",
   "execution_count": 8,
   "metadata": {
    "pycharm": {
     "is_executing": true
    }
   },
   "outputs": [],
   "source": [
    "start_datevl = '2016-06-14'\n",
    "end_datevl = '2016-06-22'\n",
    "\n",
    "start_datets = '2016-06-22'\n",
    "end_datets = '2016-06-30'\n",
    "\n",
    "#greater than the start date and smaller than the end date\n",
    "mask_vl = (df['DT_OP_GMT'] >= start_datevl) & (df['DT_OP_GMT'] < end_datevl)\n",
    "df_valid = df.loc[mask_vl]\n",
    "\n",
    "#greater than the start date and smaller than the end date\n",
    "mask = (df['DT_OP_GMT'] >= start_datets) & (df['DT_OP_GMT'] < end_datets)\n",
    "df_test = df.loc[mask]\n"
   ]
  },
  {
   "cell_type": "code",
   "execution_count": 9,
   "metadata": {
    "pycharm": {
     "is_executing": true
    }
   },
   "outputs": [],
   "source": [
    "df_train = df_train[['ID_OPER', 'DT_OP_GMT', 'ORA_OP_GMT', 'COD_CANA', 'COD_CABC',\n",
    "                'PROCESSING_COD', 'IMP_TRZ_RECON', 'FL_AUTORIZZAZIONE',\n",
    "                'COD_ABC_PAES', 'ID_TIPO_CARTA', 'TIPO_INPUT_MODE',\n",
    "                'COD_CIRC', 'FLAG_FRODE', 'TRX_TYPE', 'Row_Num', 'TIME_ORA_OP','DEV_MEDIA_IMP_TC_1M','PERC_RISK_CIRC_TC_TO_1M',\n",
    "               'DEV_MEDIA_IMP_CAN_1M','DEV_MEDIA_IMP_TO_1M','PERC_OPER_NON_AUTOR_1M','PERC_OPER_NON_AUTOR_2M','MEDIA_NON_AUT_SEC_4',\n",
    "               'DEV_IMP_MEDIA_ULTIME_3', 'PERC_RISK_MCC_1M','FLAG_IMP_PREC_0','TREND_3_5','FLAG_CAMBIO_PAESE_AUT',\n",
    "               'FLAG_CAMBIO_PAESE_NON_AUT','PERC_ESITO_NSF_G','PERC_ESITO_CV2_G',\n",
    "               'PERC_ESITO_PIN_G','PERC_ESITO_SCUDO_G','PERC_ESITO_DT_SCAD_G','PERC_ESITO_ALTRO_G',\n",
    "               'DEV_MEDIA_AUT_SEC_4']]"
   ]
  },
  {
   "cell_type": "code",
   "execution_count": 10,
   "metadata": {
    "pycharm": {
     "is_executing": true
    }
   },
   "outputs": [],
   "source": [
    "from sklearn.preprocessing import RobustScaler\n",
    "\n",
    "rob_scaler = RobustScaler()\n",
    "\n",
    "df_train['IMP_TRZ_RECON_NORM'] = rob_scaler.fit_transform(df_train['IMP_TRZ_RECON'].values.reshape(-1,1)) \n",
    "\n",
    "df_train.drop(['IMP_TRZ_RECON'], axis=1, inplace=True)"
   ]
  },
  {
   "cell_type": "code",
   "execution_count": 11,
   "metadata": {
    "pycharm": {
     "is_executing": true
    }
   },
   "outputs": [],
   "source": [
    "# Number of data points in the minority class\n",
    "df_train = df_train.reset_index()\n",
    "number_records_fraud = len(df_train[df_train.FLAG_FRODE == 1])\n",
    "fraud_indices = np.array(df_train[df_train.FLAG_FRODE == 1].index)"
   ]
  },
  {
   "cell_type": "code",
   "execution_count": 12,
   "metadata": {
    "pycharm": {
     "is_executing": true
    }
   },
   "outputs": [
    {
     "data": {
      "text/html": [
       "<div>\n",
       "<style scoped>\n",
       "    .dataframe tbody tr th:only-of-type {\n",
       "        vertical-align: middle;\n",
       "    }\n",
       "\n",
       "    .dataframe tbody tr th {\n",
       "        vertical-align: top;\n",
       "    }\n",
       "\n",
       "    .dataframe thead th {\n",
       "        text-align: right;\n",
       "    }\n",
       "</style>\n",
       "<table border=\"1\" class=\"dataframe\">\n",
       "  <thead>\n",
       "    <tr style=\"text-align: right;\">\n",
       "      <th></th>\n",
       "      <th>index</th>\n",
       "      <th>ID_OPER</th>\n",
       "      <th>DT_OP_GMT</th>\n",
       "      <th>ORA_OP_GMT</th>\n",
       "      <th>COD_CANA</th>\n",
       "      <th>COD_CABC</th>\n",
       "      <th>PROCESSING_COD</th>\n",
       "      <th>FL_AUTORIZZAZIONE</th>\n",
       "      <th>COD_ABC_PAES</th>\n",
       "      <th>ID_TIPO_CARTA</th>\n",
       "      <th>...</th>\n",
       "      <th>FLAG_CAMBIO_PAESE_AUT</th>\n",
       "      <th>FLAG_CAMBIO_PAESE_NON_AUT</th>\n",
       "      <th>PERC_ESITO_NSF_G</th>\n",
       "      <th>PERC_ESITO_CV2_G</th>\n",
       "      <th>PERC_ESITO_PIN_G</th>\n",
       "      <th>PERC_ESITO_SCUDO_G</th>\n",
       "      <th>PERC_ESITO_DT_SCAD_G</th>\n",
       "      <th>PERC_ESITO_ALTRO_G</th>\n",
       "      <th>DEV_MEDIA_AUT_SEC_4</th>\n",
       "      <th>IMP_TRZ_RECON_NORM</th>\n",
       "    </tr>\n",
       "  </thead>\n",
       "  <tbody>\n",
       "    <tr>\n",
       "      <th>36</th>\n",
       "      <td>38</td>\n",
       "      <td>6226002651</td>\n",
       "      <td>2016-03-12</td>\n",
       "      <td>09:16:37</td>\n",
       "      <td>INT</td>\n",
       "      <td>7399</td>\n",
       "      <td>360000</td>\n",
       "      <td>T</td>\n",
       "      <td>BMU</td>\n",
       "      <td>1009</td>\n",
       "      <td>...</td>\n",
       "      <td>1</td>\n",
       "      <td>0</td>\n",
       "      <td>0.0</td>\n",
       "      <td>0.0</td>\n",
       "      <td>0.0</td>\n",
       "      <td>0.0</td>\n",
       "      <td>0.0</td>\n",
       "      <td>0.0</td>\n",
       "      <td>-1.000000</td>\n",
       "      <td>-0.319642</td>\n",
       "    </tr>\n",
       "    <tr>\n",
       "      <th>38</th>\n",
       "      <td>40</td>\n",
       "      <td>6251120205</td>\n",
       "      <td>2016-03-21</td>\n",
       "      <td>16:55:41</td>\n",
       "      <td>INT</td>\n",
       "      <td>5968</td>\n",
       "      <td>0</td>\n",
       "      <td>T</td>\n",
       "      <td>GBR</td>\n",
       "      <td>1028</td>\n",
       "      <td>...</td>\n",
       "      <td>0</td>\n",
       "      <td>0</td>\n",
       "      <td>0.0</td>\n",
       "      <td>0.0</td>\n",
       "      <td>0.0</td>\n",
       "      <td>0.0</td>\n",
       "      <td>0.0</td>\n",
       "      <td>0.0</td>\n",
       "      <td>0.061449</td>\n",
       "      <td>-0.171264</td>\n",
       "    </tr>\n",
       "    <tr>\n",
       "      <th>60</th>\n",
       "      <td>71</td>\n",
       "      <td>6277642583</td>\n",
       "      <td>2016-03-31</td>\n",
       "      <td>19:43:54</td>\n",
       "      <td>INT</td>\n",
       "      <td>5499</td>\n",
       "      <td>6300</td>\n",
       "      <td>T</td>\n",
       "      <td>GBR</td>\n",
       "      <td>1028</td>\n",
       "      <td>...</td>\n",
       "      <td>1</td>\n",
       "      <td>0</td>\n",
       "      <td>0.0</td>\n",
       "      <td>0.0</td>\n",
       "      <td>0.0</td>\n",
       "      <td>0.0</td>\n",
       "      <td>0.0</td>\n",
       "      <td>0.0</td>\n",
       "      <td>2.039607</td>\n",
       "      <td>-0.308585</td>\n",
       "    </tr>\n",
       "    <tr>\n",
       "      <th>101</th>\n",
       "      <td>112</td>\n",
       "      <td>6197847455</td>\n",
       "      <td>2016-03-02</td>\n",
       "      <td>01:47:32</td>\n",
       "      <td>INT</td>\n",
       "      <td>7995</td>\n",
       "      <td>116300</td>\n",
       "      <td>T</td>\n",
       "      <td>MLT</td>\n",
       "      <td>1028</td>\n",
       "      <td>...</td>\n",
       "      <td>0</td>\n",
       "      <td>0</td>\n",
       "      <td>0.0</td>\n",
       "      <td>0.0</td>\n",
       "      <td>0.0</td>\n",
       "      <td>0.0</td>\n",
       "      <td>0.0</td>\n",
       "      <td>0.0</td>\n",
       "      <td>2052.826531</td>\n",
       "      <td>0.786003</td>\n",
       "    </tr>\n",
       "    <tr>\n",
       "      <th>102</th>\n",
       "      <td>113</td>\n",
       "      <td>6197847677</td>\n",
       "      <td>2016-03-02</td>\n",
       "      <td>01:46:43</td>\n",
       "      <td>INT</td>\n",
       "      <td>7995</td>\n",
       "      <td>116300</td>\n",
       "      <td>T</td>\n",
       "      <td>MLT</td>\n",
       "      <td>1028</td>\n",
       "      <td>...</td>\n",
       "      <td>1</td>\n",
       "      <td>0</td>\n",
       "      <td>0.0</td>\n",
       "      <td>0.0</td>\n",
       "      <td>0.0</td>\n",
       "      <td>0.0</td>\n",
       "      <td>0.0</td>\n",
       "      <td>0.0</td>\n",
       "      <td>1057.342105</td>\n",
       "      <td>0.786003</td>\n",
       "    </tr>\n",
       "    <tr>\n",
       "      <th>...</th>\n",
       "      <td>...</td>\n",
       "      <td>...</td>\n",
       "      <td>...</td>\n",
       "      <td>...</td>\n",
       "      <td>...</td>\n",
       "      <td>...</td>\n",
       "      <td>...</td>\n",
       "      <td>...</td>\n",
       "      <td>...</td>\n",
       "      <td>...</td>\n",
       "      <td>...</td>\n",
       "      <td>...</td>\n",
       "      <td>...</td>\n",
       "      <td>...</td>\n",
       "      <td>...</td>\n",
       "      <td>...</td>\n",
       "      <td>...</td>\n",
       "      <td>...</td>\n",
       "      <td>...</td>\n",
       "      <td>...</td>\n",
       "      <td>...</td>\n",
       "    </tr>\n",
       "    <tr>\n",
       "      <th>1220993</th>\n",
       "      <td>1463305</td>\n",
       "      <td>6215878143</td>\n",
       "      <td>2016-03-08</td>\n",
       "      <td>15:39:37</td>\n",
       "      <td>ATM</td>\n",
       "      <td>6011</td>\n",
       "      <td>16100</td>\n",
       "      <td>T</td>\n",
       "      <td>ITA</td>\n",
       "      <td>1063</td>\n",
       "      <td>...</td>\n",
       "      <td>0</td>\n",
       "      <td>0</td>\n",
       "      <td>0.0</td>\n",
       "      <td>0.0</td>\n",
       "      <td>0.0</td>\n",
       "      <td>0.0</td>\n",
       "      <td>0.0</td>\n",
       "      <td>0.0</td>\n",
       "      <td>634.189716</td>\n",
       "      <td>0.233180</td>\n",
       "    </tr>\n",
       "    <tr>\n",
       "      <th>3843025</th>\n",
       "      <td>4631165</td>\n",
       "      <td>6438369121</td>\n",
       "      <td>2016-05-28</td>\n",
       "      <td>17:47:52</td>\n",
       "      <td>ATM</td>\n",
       "      <td>6011</td>\n",
       "      <td>16100</td>\n",
       "      <td>T</td>\n",
       "      <td>ITA</td>\n",
       "      <td>1063</td>\n",
       "      <td>...</td>\n",
       "      <td>0</td>\n",
       "      <td>0</td>\n",
       "      <td>0.0</td>\n",
       "      <td>0.0</td>\n",
       "      <td>0.0</td>\n",
       "      <td>0.0</td>\n",
       "      <td>0.0</td>\n",
       "      <td>0.0</td>\n",
       "      <td>-0.171098</td>\n",
       "      <td>-0.098513</td>\n",
       "    </tr>\n",
       "    <tr>\n",
       "      <th>3361889</th>\n",
       "      <td>4050776</td>\n",
       "      <td>6244354101</td>\n",
       "      <td>2016-03-18</td>\n",
       "      <td>23:32:20</td>\n",
       "      <td>I3D</td>\n",
       "      <td>7995</td>\n",
       "      <td>6300</td>\n",
       "      <td>T</td>\n",
       "      <td>GBR</td>\n",
       "      <td>1085</td>\n",
       "      <td>...</td>\n",
       "      <td>0</td>\n",
       "      <td>1</td>\n",
       "      <td>0.0</td>\n",
       "      <td>0.0</td>\n",
       "      <td>0.0</td>\n",
       "      <td>0.0</td>\n",
       "      <td>0.0</td>\n",
       "      <td>0.0</td>\n",
       "      <td>3.599343</td>\n",
       "      <td>2.997291</td>\n",
       "    </tr>\n",
       "    <tr>\n",
       "      <th>1116990</th>\n",
       "      <td>1337722</td>\n",
       "      <td>6316630238</td>\n",
       "      <td>2016-04-14</td>\n",
       "      <td>23:04:44</td>\n",
       "      <td>INT</td>\n",
       "      <td>6211</td>\n",
       "      <td>0</td>\n",
       "      <td>T</td>\n",
       "      <td>ITA</td>\n",
       "      <td>1028</td>\n",
       "      <td>...</td>\n",
       "      <td>1</td>\n",
       "      <td>1</td>\n",
       "      <td>0.0</td>\n",
       "      <td>0.0</td>\n",
       "      <td>0.0</td>\n",
       "      <td>0.0</td>\n",
       "      <td>0.0</td>\n",
       "      <td>0.0</td>\n",
       "      <td>-0.350765</td>\n",
       "      <td>2.814860</td>\n",
       "    </tr>\n",
       "    <tr>\n",
       "      <th>1835690</th>\n",
       "      <td>2205780</td>\n",
       "      <td>6343543942</td>\n",
       "      <td>2016-04-25</td>\n",
       "      <td>07:23:22</td>\n",
       "      <td>ATM</td>\n",
       "      <td>6011</td>\n",
       "      <td>16100</td>\n",
       "      <td>T</td>\n",
       "      <td>ITA</td>\n",
       "      <td>1017</td>\n",
       "      <td>...</td>\n",
       "      <td>0</td>\n",
       "      <td>0</td>\n",
       "      <td>0.0</td>\n",
       "      <td>0.0</td>\n",
       "      <td>0.0</td>\n",
       "      <td>0.0</td>\n",
       "      <td>0.0</td>\n",
       "      <td>0.0</td>\n",
       "      <td>1.929605</td>\n",
       "      <td>0.786003</td>\n",
       "    </tr>\n",
       "  </tbody>\n",
       "</table>\n",
       "<p>76724 rows × 37 columns</p>\n",
       "</div>"
      ],
      "text/plain": [
       "           index     ID_OPER  DT_OP_GMT ORA_OP_GMT COD_CANA  COD_CABC  \\\n",
       "36            38  6226002651 2016-03-12   09:16:37      INT      7399   \n",
       "38            40  6251120205 2016-03-21   16:55:41      INT      5968   \n",
       "60            71  6277642583 2016-03-31   19:43:54      INT      5499   \n",
       "101          112  6197847455 2016-03-02   01:47:32      INT      7995   \n",
       "102          113  6197847677 2016-03-02   01:46:43      INT      7995   \n",
       "...          ...         ...        ...        ...      ...       ...   \n",
       "1220993  1463305  6215878143 2016-03-08   15:39:37      ATM      6011   \n",
       "3843025  4631165  6438369121 2016-05-28   17:47:52      ATM      6011   \n",
       "3361889  4050776  6244354101 2016-03-18   23:32:20      I3D      7995   \n",
       "1116990  1337722  6316630238 2016-04-14   23:04:44      INT      6211   \n",
       "1835690  2205780  6343543942 2016-04-25   07:23:22      ATM      6011   \n",
       "\n",
       "         PROCESSING_COD FL_AUTORIZZAZIONE COD_ABC_PAES  ID_TIPO_CARTA  ...  \\\n",
       "36               360000                 T          BMU           1009  ...   \n",
       "38                    0                 T          GBR           1028  ...   \n",
       "60                 6300                 T          GBR           1028  ...   \n",
       "101              116300                 T          MLT           1028  ...   \n",
       "102              116300                 T          MLT           1028  ...   \n",
       "...                 ...               ...          ...            ...  ...   \n",
       "1220993           16100                 T          ITA           1063  ...   \n",
       "3843025           16100                 T          ITA           1063  ...   \n",
       "3361889            6300                 T          GBR           1085  ...   \n",
       "1116990               0                 T          ITA           1028  ...   \n",
       "1835690           16100                 T          ITA           1017  ...   \n",
       "\n",
       "        FLAG_CAMBIO_PAESE_AUT FLAG_CAMBIO_PAESE_NON_AUT  PERC_ESITO_NSF_G  \\\n",
       "36                          1                         0               0.0   \n",
       "38                          0                         0               0.0   \n",
       "60                          1                         0               0.0   \n",
       "101                         0                         0               0.0   \n",
       "102                         1                         0               0.0   \n",
       "...                       ...                       ...               ...   \n",
       "1220993                     0                         0               0.0   \n",
       "3843025                     0                         0               0.0   \n",
       "3361889                     0                         1               0.0   \n",
       "1116990                     1                         1               0.0   \n",
       "1835690                     0                         0               0.0   \n",
       "\n",
       "        PERC_ESITO_CV2_G  PERC_ESITO_PIN_G  PERC_ESITO_SCUDO_G  \\\n",
       "36                   0.0               0.0                 0.0   \n",
       "38                   0.0               0.0                 0.0   \n",
       "60                   0.0               0.0                 0.0   \n",
       "101                  0.0               0.0                 0.0   \n",
       "102                  0.0               0.0                 0.0   \n",
       "...                  ...               ...                 ...   \n",
       "1220993              0.0               0.0                 0.0   \n",
       "3843025              0.0               0.0                 0.0   \n",
       "3361889              0.0               0.0                 0.0   \n",
       "1116990              0.0               0.0                 0.0   \n",
       "1835690              0.0               0.0                 0.0   \n",
       "\n",
       "         PERC_ESITO_DT_SCAD_G  PERC_ESITO_ALTRO_G  DEV_MEDIA_AUT_SEC_4  \\\n",
       "36                        0.0                 0.0            -1.000000   \n",
       "38                        0.0                 0.0             0.061449   \n",
       "60                        0.0                 0.0             2.039607   \n",
       "101                       0.0                 0.0          2052.826531   \n",
       "102                       0.0                 0.0          1057.342105   \n",
       "...                       ...                 ...                  ...   \n",
       "1220993                   0.0                 0.0           634.189716   \n",
       "3843025                   0.0                 0.0            -0.171098   \n",
       "3361889                   0.0                 0.0             3.599343   \n",
       "1116990                   0.0                 0.0            -0.350765   \n",
       "1835690                   0.0                 0.0             1.929605   \n",
       "\n",
       "         IMP_TRZ_RECON_NORM  \n",
       "36                -0.319642  \n",
       "38                -0.171264  \n",
       "60                -0.308585  \n",
       "101                0.786003  \n",
       "102                0.786003  \n",
       "...                     ...  \n",
       "1220993            0.233180  \n",
       "3843025           -0.098513  \n",
       "3361889            2.997291  \n",
       "1116990            2.814860  \n",
       "1835690            0.786003  \n",
       "\n",
       "[76724 rows x 37 columns]"
      ]
     },
     "execution_count": 12,
     "metadata": {},
     "output_type": "execute_result"
    }
   ],
   "source": [
    "# Picking the indices of the normal classes\n",
    "normal_indices = df_train[df_train.FLAG_FRODE == 0].index\n",
    "\n",
    "# Out of the indices we picked, randomly select \"x\" number (number_records_fraud)\n",
    "random_normal_indices = np.random.choice(normal_indices, number_records_fraud, replace = False)\n",
    "random_normal_indices = np.array(random_normal_indices)\n",
    "\n",
    "# Appending the 2 indices\n",
    "under_sample_indices = np.concatenate([fraud_indices,random_normal_indices])\n",
    "\n",
    "# Under sample dfset\n",
    "df_train_undersample = df_train.iloc[under_sample_indices,:]\n",
    "\n",
    "#X_undersample = under_sample_df.loc[:, under_sample_df.columns != 'FLAG_FRODE']\n",
    "#y_undersample = under_sample_df.loc[:, under_sample_df.columns == 'FLAG_FRODE']\n",
    "df_train_undersample"
   ]
  },
  {
   "cell_type": "code",
   "execution_count": null,
   "metadata": {
    "pycharm": {
     "is_executing": true
    }
   },
   "outputs": [],
   "source": []
  },
  {
   "cell_type": "code",
   "execution_count": 13,
   "metadata": {
    "pycharm": {
     "is_executing": true
    }
   },
   "outputs": [
    {
     "name": "stderr",
     "output_type": "stream",
     "text": [
      "c:\\users\\fap91\\pycharmprojects\\tesitirocinio\\venv\\lib\\site-packages\\ipykernel_launcher.py:5: SettingWithCopyWarning: \n",
      "A value is trying to be set on a copy of a slice from a DataFrame.\n",
      "Try using .loc[row_indexer,col_indexer] = value instead\n",
      "\n",
      "See the caveats in the documentation: https://pandas.pydata.org/pandas-docs/stable/user_guide/indexing.html#returning-a-view-versus-a-copy\n",
      "  \"\"\"\n",
      "c:\\users\\fap91\\pycharmprojects\\tesitirocinio\\venv\\lib\\site-packages\\pandas\\core\\frame.py:4315: SettingWithCopyWarning: \n",
      "A value is trying to be set on a copy of a slice from a DataFrame\n",
      "\n",
      "See the caveats in the documentation: https://pandas.pydata.org/pandas-docs/stable/user_guide/indexing.html#returning-a-view-versus-a-copy\n",
      "  errors=errors,\n"
     ]
    }
   ],
   "source": [
    "# Normalizziamo la variabile importo\n",
    "\n",
    "rob_scaler = RobustScaler()\n",
    "\n",
    "df_valid['IMP_TRZ_RECON_NORM'] = rob_scaler.fit_transform(df_valid['IMP_TRZ_RECON'].values.reshape(-1,1)) \n",
    "\n",
    "df_valid.drop(['IMP_TRZ_RECON'], axis=1, inplace=True)"
   ]
  },
  {
   "cell_type": "code",
   "execution_count": 14,
   "metadata": {
    "pycharm": {
     "is_executing": true
    }
   },
   "outputs": [
    {
     "data": {
      "text/html": [
       "<div>\n",
       "<style scoped>\n",
       "    .dataframe tbody tr th:only-of-type {\n",
       "        vertical-align: middle;\n",
       "    }\n",
       "\n",
       "    .dataframe tbody tr th {\n",
       "        vertical-align: top;\n",
       "    }\n",
       "\n",
       "    .dataframe thead th {\n",
       "        text-align: right;\n",
       "    }\n",
       "</style>\n",
       "<table border=\"1\" class=\"dataframe\">\n",
       "  <thead>\n",
       "    <tr style=\"text-align: right;\">\n",
       "      <th></th>\n",
       "      <th>ID_OPER</th>\n",
       "      <th>DT_OP_GMT</th>\n",
       "      <th>ORA_OP_GMT</th>\n",
       "      <th>COD_CANA</th>\n",
       "      <th>COD_CABC</th>\n",
       "      <th>COD_ESITO</th>\n",
       "      <th>PROCESSING_COD</th>\n",
       "      <th>IMP_TRZ_RECON</th>\n",
       "      <th>FL_AUTORIZZAZIONE</th>\n",
       "      <th>COD_ABC_PAES</th>\n",
       "      <th>...</th>\n",
       "      <th>PERC_ESITO_ALL_G</th>\n",
       "      <th>PERC_ESITO_ALL_M</th>\n",
       "      <th>DEV_MEDIA_AUT_SEC_4</th>\n",
       "      <th>DEV_MEDIA_AUT_TO_SEC_4</th>\n",
       "      <th>MEDIA_NON_AUT_SEC_4</th>\n",
       "      <th>MEDIA_NON_AUT_SEC_3</th>\n",
       "      <th>MEDIA_NON_AUT_SEC_2</th>\n",
       "      <th>TIME_NON_AUT_SEC_LAST</th>\n",
       "      <th>ANNO</th>\n",
       "      <th>MESE</th>\n",
       "    </tr>\n",
       "  </thead>\n",
       "  <tbody>\n",
       "    <tr>\n",
       "      <th>52</th>\n",
       "      <td>6517267568</td>\n",
       "      <td>2016-06-25</td>\n",
       "      <td>21:33:08</td>\n",
       "      <td>INT</td>\n",
       "      <td>5735</td>\n",
       "      <td>0</td>\n",
       "      <td>6300</td>\n",
       "      <td>2.28</td>\n",
       "      <td>T</td>\n",
       "      <td>LUX</td>\n",
       "      <td>...</td>\n",
       "      <td>0.0</td>\n",
       "      <td>0.111111</td>\n",
       "      <td>-0.978184</td>\n",
       "      <td>1.403085</td>\n",
       "      <td>3403015.75</td>\n",
       "      <td>3.860554e+06</td>\n",
       "      <td>2874068.0</td>\n",
       "      <td>794691</td>\n",
       "      <td>2016</td>\n",
       "      <td>6</td>\n",
       "    </tr>\n",
       "    <tr>\n",
       "      <th>605</th>\n",
       "      <td>6520176282</td>\n",
       "      <td>2016-06-27</td>\n",
       "      <td>10:00:59</td>\n",
       "      <td>INT</td>\n",
       "      <td>5968</td>\n",
       "      <td>0</td>\n",
       "      <td>0</td>\n",
       "      <td>1.00</td>\n",
       "      <td>T</td>\n",
       "      <td>LUX</td>\n",
       "      <td>...</td>\n",
       "      <td>0.0</td>\n",
       "      <td>0.000000</td>\n",
       "      <td>2.224835</td>\n",
       "      <td>2.630098</td>\n",
       "      <td>3798059.75</td>\n",
       "      <td>4.920078e+06</td>\n",
       "      <td>7163729.5</td>\n",
       "      <td>561800</td>\n",
       "      <td>2016</td>\n",
       "      <td>6</td>\n",
       "    </tr>\n",
       "    <tr>\n",
       "      <th>1037</th>\n",
       "      <td>6526204408</td>\n",
       "      <td>2016-06-29</td>\n",
       "      <td>10:16:29</td>\n",
       "      <td>POS</td>\n",
       "      <td>5946</td>\n",
       "      <td>0</td>\n",
       "      <td>0</td>\n",
       "      <td>100.00</td>\n",
       "      <td>T</td>\n",
       "      <td>ITA</td>\n",
       "      <td>...</td>\n",
       "      <td>0.0</td>\n",
       "      <td>0.923077</td>\n",
       "      <td>-0.967212</td>\n",
       "      <td>-0.993849</td>\n",
       "      <td>138550.50</td>\n",
       "      <td>1.847340e+05</td>\n",
       "      <td>277101.0</td>\n",
       "      <td>36</td>\n",
       "      <td>2016</td>\n",
       "      <td>6</td>\n",
       "    </tr>\n",
       "    <tr>\n",
       "      <th>1117</th>\n",
       "      <td>6526179755</td>\n",
       "      <td>2016-06-29</td>\n",
       "      <td>10:10:29</td>\n",
       "      <td>POS</td>\n",
       "      <td>5411</td>\n",
       "      <td>0</td>\n",
       "      <td>0</td>\n",
       "      <td>14.70</td>\n",
       "      <td>T</td>\n",
       "      <td>ITA</td>\n",
       "      <td>...</td>\n",
       "      <td>0.0</td>\n",
       "      <td>0.000000</td>\n",
       "      <td>138.043493</td>\n",
       "      <td>1.122938</td>\n",
       "      <td>2993654.50</td>\n",
       "      <td>3.991535e+06</td>\n",
       "      <td>5987230.0</td>\n",
       "      <td>730</td>\n",
       "      <td>2016</td>\n",
       "      <td>6</td>\n",
       "    </tr>\n",
       "    <tr>\n",
       "      <th>1118</th>\n",
       "      <td>6513804107</td>\n",
       "      <td>2016-06-24</td>\n",
       "      <td>17:11:32</td>\n",
       "      <td>INT</td>\n",
       "      <td>5735</td>\n",
       "      <td>0</td>\n",
       "      <td>6300</td>\n",
       "      <td>0.99</td>\n",
       "      <td>T</td>\n",
       "      <td>LUX</td>\n",
       "      <td>...</td>\n",
       "      <td>0.0</td>\n",
       "      <td>0.000000</td>\n",
       "      <td>-0.846943</td>\n",
       "      <td>-0.654957</td>\n",
       "      <td>2993654.50</td>\n",
       "      <td>3.991535e+06</td>\n",
       "      <td>5987230.0</td>\n",
       "      <td>624958</td>\n",
       "      <td>2016</td>\n",
       "      <td>6</td>\n",
       "    </tr>\n",
       "    <tr>\n",
       "      <th>...</th>\n",
       "      <td>...</td>\n",
       "      <td>...</td>\n",
       "      <td>...</td>\n",
       "      <td>...</td>\n",
       "      <td>...</td>\n",
       "      <td>...</td>\n",
       "      <td>...</td>\n",
       "      <td>...</td>\n",
       "      <td>...</td>\n",
       "      <td>...</td>\n",
       "      <td>...</td>\n",
       "      <td>...</td>\n",
       "      <td>...</td>\n",
       "      <td>...</td>\n",
       "      <td>...</td>\n",
       "      <td>...</td>\n",
       "      <td>...</td>\n",
       "      <td>...</td>\n",
       "      <td>...</td>\n",
       "      <td>...</td>\n",
       "      <td>...</td>\n",
       "    </tr>\n",
       "    <tr>\n",
       "      <th>5442896</th>\n",
       "      <td>6514848090</td>\n",
       "      <td>2016-06-25</td>\n",
       "      <td>07:53:22</td>\n",
       "      <td>ATM</td>\n",
       "      <td>6011</td>\n",
       "      <td>0</td>\n",
       "      <td>16100</td>\n",
       "      <td>20.00</td>\n",
       "      <td>T</td>\n",
       "      <td>ITA</td>\n",
       "      <td>...</td>\n",
       "      <td>0.0</td>\n",
       "      <td>0.000000</td>\n",
       "      <td>-0.827383</td>\n",
       "      <td>0.000000</td>\n",
       "      <td>0.00</td>\n",
       "      <td>0.000000e+00</td>\n",
       "      <td>0.0</td>\n",
       "      <td>491092</td>\n",
       "      <td>2016</td>\n",
       "      <td>6</td>\n",
       "    </tr>\n",
       "    <tr>\n",
       "      <th>5442897</th>\n",
       "      <td>6527172347</td>\n",
       "      <td>2016-06-29</td>\n",
       "      <td>15:54:46</td>\n",
       "      <td>POS</td>\n",
       "      <td>5511</td>\n",
       "      <td>0</td>\n",
       "      <td>0</td>\n",
       "      <td>11.50</td>\n",
       "      <td>T</td>\n",
       "      <td>ITA</td>\n",
       "      <td>...</td>\n",
       "      <td>0.0</td>\n",
       "      <td>0.000000</td>\n",
       "      <td>1.565676</td>\n",
       "      <td>0.000000</td>\n",
       "      <td>0.00</td>\n",
       "      <td>0.000000e+00</td>\n",
       "      <td>0.0</td>\n",
       "      <td>84380</td>\n",
       "      <td>2016</td>\n",
       "      <td>6</td>\n",
       "    </tr>\n",
       "    <tr>\n",
       "      <th>5442899</th>\n",
       "      <td>6518417168</td>\n",
       "      <td>2016-06-26</td>\n",
       "      <td>14:58:45</td>\n",
       "      <td>ATM</td>\n",
       "      <td>6011</td>\n",
       "      <td>0</td>\n",
       "      <td>16100</td>\n",
       "      <td>40.00</td>\n",
       "      <td>T</td>\n",
       "      <td>ITA</td>\n",
       "      <td>...</td>\n",
       "      <td>0.0</td>\n",
       "      <td>0.000000</td>\n",
       "      <td>1.572586</td>\n",
       "      <td>0.000000</td>\n",
       "      <td>0.00</td>\n",
       "      <td>0.000000e+00</td>\n",
       "      <td>0.0</td>\n",
       "      <td>111923</td>\n",
       "      <td>2016</td>\n",
       "      <td>6</td>\n",
       "    </tr>\n",
       "    <tr>\n",
       "      <th>5442900</th>\n",
       "      <td>6527197771</td>\n",
       "      <td>2016-06-29</td>\n",
       "      <td>16:01:02</td>\n",
       "      <td>ATM</td>\n",
       "      <td>6011</td>\n",
       "      <td>0</td>\n",
       "      <td>16100</td>\n",
       "      <td>40.00</td>\n",
       "      <td>T</td>\n",
       "      <td>ITA</td>\n",
       "      <td>...</td>\n",
       "      <td>0.0</td>\n",
       "      <td>0.000000</td>\n",
       "      <td>574.515957</td>\n",
       "      <td>0.000000</td>\n",
       "      <td>0.00</td>\n",
       "      <td>0.000000e+00</td>\n",
       "      <td>0.0</td>\n",
       "      <td>376</td>\n",
       "      <td>2016</td>\n",
       "      <td>6</td>\n",
       "    </tr>\n",
       "    <tr>\n",
       "      <th>5442905</th>\n",
       "      <td>6519424430</td>\n",
       "      <td>2016-06-27</td>\n",
       "      <td>06:58:48</td>\n",
       "      <td>ATM</td>\n",
       "      <td>5550</td>\n",
       "      <td>0</td>\n",
       "      <td>306100</td>\n",
       "      <td>0.00</td>\n",
       "      <td>T</td>\n",
       "      <td>ITA</td>\n",
       "      <td>...</td>\n",
       "      <td>0.0</td>\n",
       "      <td>0.000000</td>\n",
       "      <td>0.000000</td>\n",
       "      <td>0.000000</td>\n",
       "      <td>0.00</td>\n",
       "      <td>0.000000e+00</td>\n",
       "      <td>0.0</td>\n",
       "      <td>740595</td>\n",
       "      <td>2016</td>\n",
       "      <td>6</td>\n",
       "    </tr>\n",
       "  </tbody>\n",
       "</table>\n",
       "<p>251043 rows × 96 columns</p>\n",
       "</div>"
      ],
      "text/plain": [
       "            ID_OPER  DT_OP_GMT ORA_OP_GMT COD_CANA  COD_CABC  COD_ESITO  \\\n",
       "52       6517267568 2016-06-25   21:33:08      INT      5735          0   \n",
       "605      6520176282 2016-06-27   10:00:59      INT      5968          0   \n",
       "1037     6526204408 2016-06-29   10:16:29      POS      5946          0   \n",
       "1117     6526179755 2016-06-29   10:10:29      POS      5411          0   \n",
       "1118     6513804107 2016-06-24   17:11:32      INT      5735          0   \n",
       "...             ...        ...        ...      ...       ...        ...   \n",
       "5442896  6514848090 2016-06-25   07:53:22      ATM      6011          0   \n",
       "5442897  6527172347 2016-06-29   15:54:46      POS      5511          0   \n",
       "5442899  6518417168 2016-06-26   14:58:45      ATM      6011          0   \n",
       "5442900  6527197771 2016-06-29   16:01:02      ATM      6011          0   \n",
       "5442905  6519424430 2016-06-27   06:58:48      ATM      5550          0   \n",
       "\n",
       "         PROCESSING_COD  IMP_TRZ_RECON FL_AUTORIZZAZIONE COD_ABC_PAES  ...  \\\n",
       "52                 6300           2.28                 T          LUX  ...   \n",
       "605                   0           1.00                 T          LUX  ...   \n",
       "1037                  0         100.00                 T          ITA  ...   \n",
       "1117                  0          14.70                 T          ITA  ...   \n",
       "1118               6300           0.99                 T          LUX  ...   \n",
       "...                 ...            ...               ...          ...  ...   \n",
       "5442896           16100          20.00                 T          ITA  ...   \n",
       "5442897               0          11.50                 T          ITA  ...   \n",
       "5442899           16100          40.00                 T          ITA  ...   \n",
       "5442900           16100          40.00                 T          ITA  ...   \n",
       "5442905          306100           0.00                 T          ITA  ...   \n",
       "\n",
       "         PERC_ESITO_ALL_G  PERC_ESITO_ALL_M DEV_MEDIA_AUT_SEC_4  \\\n",
       "52                    0.0          0.111111           -0.978184   \n",
       "605                   0.0          0.000000            2.224835   \n",
       "1037                  0.0          0.923077           -0.967212   \n",
       "1117                  0.0          0.000000          138.043493   \n",
       "1118                  0.0          0.000000           -0.846943   \n",
       "...                   ...               ...                 ...   \n",
       "5442896               0.0          0.000000           -0.827383   \n",
       "5442897               0.0          0.000000            1.565676   \n",
       "5442899               0.0          0.000000            1.572586   \n",
       "5442900               0.0          0.000000          574.515957   \n",
       "5442905               0.0          0.000000            0.000000   \n",
       "\n",
       "        DEV_MEDIA_AUT_TO_SEC_4  MEDIA_NON_AUT_SEC_4 MEDIA_NON_AUT_SEC_3  \\\n",
       "52                    1.403085           3403015.75        3.860554e+06   \n",
       "605                   2.630098           3798059.75        4.920078e+06   \n",
       "1037                 -0.993849            138550.50        1.847340e+05   \n",
       "1117                  1.122938           2993654.50        3.991535e+06   \n",
       "1118                 -0.654957           2993654.50        3.991535e+06   \n",
       "...                        ...                  ...                 ...   \n",
       "5442896               0.000000                 0.00        0.000000e+00   \n",
       "5442897               0.000000                 0.00        0.000000e+00   \n",
       "5442899               0.000000                 0.00        0.000000e+00   \n",
       "5442900               0.000000                 0.00        0.000000e+00   \n",
       "5442905               0.000000                 0.00        0.000000e+00   \n",
       "\n",
       "         MEDIA_NON_AUT_SEC_2  TIME_NON_AUT_SEC_LAST  ANNO  MESE  \n",
       "52                 2874068.0                 794691  2016     6  \n",
       "605                7163729.5                 561800  2016     6  \n",
       "1037                277101.0                     36  2016     6  \n",
       "1117               5987230.0                    730  2016     6  \n",
       "1118               5987230.0                 624958  2016     6  \n",
       "...                      ...                    ...   ...   ...  \n",
       "5442896                  0.0                 491092  2016     6  \n",
       "5442897                  0.0                  84380  2016     6  \n",
       "5442899                  0.0                 111923  2016     6  \n",
       "5442900                  0.0                    376  2016     6  \n",
       "5442905                  0.0                 740595  2016     6  \n",
       "\n",
       "[251043 rows x 96 columns]"
      ]
     },
     "execution_count": 14,
     "metadata": {},
     "output_type": "execute_result"
    }
   ],
   "source": [
    "df_test"
   ]
  },
  {
   "cell_type": "code",
   "execution_count": 15,
   "metadata": {
    "pycharm": {
     "is_executing": true
    }
   },
   "outputs": [
    {
     "name": "stderr",
     "output_type": "stream",
     "text": [
      "c:\\users\\fap91\\pycharmprojects\\tesitirocinio\\venv\\lib\\site-packages\\ipykernel_launcher.py:5: SettingWithCopyWarning: \n",
      "A value is trying to be set on a copy of a slice from a DataFrame.\n",
      "Try using .loc[row_indexer,col_indexer] = value instead\n",
      "\n",
      "See the caveats in the documentation: https://pandas.pydata.org/pandas-docs/stable/user_guide/indexing.html#returning-a-view-versus-a-copy\n",
      "  \"\"\"\n",
      "c:\\users\\fap91\\pycharmprojects\\tesitirocinio\\venv\\lib\\site-packages\\pandas\\core\\frame.py:4315: SettingWithCopyWarning: \n",
      "A value is trying to be set on a copy of a slice from a DataFrame\n",
      "\n",
      "See the caveats in the documentation: https://pandas.pydata.org/pandas-docs/stable/user_guide/indexing.html#returning-a-view-versus-a-copy\n",
      "  errors=errors,\n"
     ]
    }
   ],
   "source": [
    "# Normalizziamo la variabile importo\n",
    "\n",
    "rob_scaler = RobustScaler()\n",
    "\n",
    "df_test['IMP_TRZ_RECON_NORM'] = rob_scaler.fit_transform(df_test['IMP_TRZ_RECON'].values.reshape(-1,1)) \n",
    "\n",
    "df_test.drop(['IMP_TRZ_RECON'], axis=1, inplace=True)"
   ]
  },
  {
   "cell_type": "code",
   "execution_count": 16,
   "metadata": {
    "pycharm": {
     "is_executing": true
    }
   },
   "outputs": [],
   "source": [
    "#separating the X and the Y values\n",
    "    \n",
    "xTrain = df_train_undersample[['TIME_ORA_OP','ID_TIPO_CARTA','DEV_MEDIA_IMP_TC_1M', 'PERC_RISK_CIRC_TC_TO_1M',\n",
    "       'DEV_MEDIA_IMP_CAN_1M', 'DEV_MEDIA_IMP_TO_1M', 'PERC_OPER_NON_AUTOR_1M',\n",
    "       'PERC_OPER_NON_AUTOR_2M', 'MEDIA_NON_AUT_SEC_4',\n",
    "       'DEV_IMP_MEDIA_ULTIME_3', 'PERC_RISK_MCC_1M', 'FLAG_IMP_PREC_0',\n",
    "       'TREND_3_5','FLAG_CAMBIO_PAESE_NON_AUT',\n",
    "       'PERC_ESITO_NSF_G', 'PERC_ESITO_CV2_G', 'PERC_ESITO_PIN_G',\n",
    "       'PERC_ESITO_SCUDO_G', 'PERC_ESITO_DT_SCAD_G', 'PERC_ESITO_ALTRO_G',\n",
    "       'DEV_MEDIA_AUT_SEC_4','IMP_TRZ_RECON_NORM']]\n",
    "\n",
    "xValid = df_valid[['TIME_ORA_OP','ID_TIPO_CARTA','DEV_MEDIA_IMP_TC_1M', 'PERC_RISK_CIRC_TC_TO_1M',\n",
    "       'DEV_MEDIA_IMP_CAN_1M', 'DEV_MEDIA_IMP_TO_1M', 'PERC_OPER_NON_AUTOR_1M',\n",
    "       'PERC_OPER_NON_AUTOR_2M', 'MEDIA_NON_AUT_SEC_4',\n",
    "       'DEV_IMP_MEDIA_ULTIME_3', 'PERC_RISK_MCC_1M', 'FLAG_IMP_PREC_0',\n",
    "       'TREND_3_5','FLAG_CAMBIO_PAESE_NON_AUT',\n",
    "       'PERC_ESITO_NSF_G', 'PERC_ESITO_CV2_G', 'PERC_ESITO_PIN_G',\n",
    "       'PERC_ESITO_SCUDO_G', 'PERC_ESITO_DT_SCAD_G', 'PERC_ESITO_ALTRO_G',\n",
    "       'DEV_MEDIA_AUT_SEC_4','IMP_TRZ_RECON_NORM']]\n",
    "\n",
    "xTest = df_test[['TIME_ORA_OP','ID_TIPO_CARTA','DEV_MEDIA_IMP_TC_1M', 'PERC_RISK_CIRC_TC_TO_1M',\n",
    "       'DEV_MEDIA_IMP_CAN_1M', 'DEV_MEDIA_IMP_TO_1M', 'PERC_OPER_NON_AUTOR_1M',\n",
    "       'PERC_OPER_NON_AUTOR_2M', 'MEDIA_NON_AUT_SEC_4',\n",
    "       'DEV_IMP_MEDIA_ULTIME_3', 'PERC_RISK_MCC_1M', 'FLAG_IMP_PREC_0',\n",
    "       'TREND_3_5','FLAG_CAMBIO_PAESE_NON_AUT',\n",
    "       'PERC_ESITO_NSF_G', 'PERC_ESITO_CV2_G', 'PERC_ESITO_PIN_G',\n",
    "       'PERC_ESITO_SCUDO_G', 'PERC_ESITO_DT_SCAD_G', 'PERC_ESITO_ALTRO_G',\n",
    "       'DEV_MEDIA_AUT_SEC_4','IMP_TRZ_RECON_NORM']]\n",
    "\n",
    "yTrain = df_train_undersample[\"FLAG_FRODE\"]\n",
    "\n",
    "yValid = df_valid[\"FLAG_FRODE\"]\n",
    "\n",
    "yTest = df_test[\"FLAG_FRODE\"]"
   ]
  },
  {
   "cell_type": "code",
   "execution_count": null,
   "metadata": {
    "pycharm": {
     "is_executing": true
    }
   },
   "outputs": [],
   "source": []
  },
  {
   "cell_type": "code",
   "execution_count": null,
   "metadata": {
    "pycharm": {
     "is_executing": true
    }
   },
   "outputs": [],
   "source": [
    "from sklearn.model_selection import GridSearchCV\n",
    "# Create the parameter grid based on the results of random search \n",
    "param_grid = {\n",
    "    'bootstrap': [True],\n",
    "    'max_depth': [6,8,10],\n",
    "    'max_features': [2,3],\n",
    "    'n_estimators': [100, 200, 300]\n",
    "}\n",
    "# Create a based model\n",
    "rf = RandomForestClassifier(random_state=0)\n",
    "# Instantiate the grid search model\n",
    "grid_search = GridSearchCV(estimator = rf, param_grid = param_grid, \n",
    "                          cv = 3, n_jobs = -1, verbose = 2)"
   ]
  },
  {
   "cell_type": "code",
   "execution_count": null,
   "metadata": {
    "pycharm": {
     "is_executing": true
    }
   },
   "outputs": [],
   "source": [
    "# Fit the grid search to the data\n",
    "grid_search.fit(xTrain, yTrain)\n",
    "grid_search.best_params_"
   ]
  },
  {
   "cell_type": "code",
   "execution_count": null,
   "metadata": {
    "pycharm": {
     "is_executing": true
    }
   },
   "outputs": [],
   "source": [
    "print (f'Train Accuracy - : {grid_search.score(xTrain,yTrain):.3f}')\n",
    "print (f'Test Accuracy - : {grid_search.score(xValid,yValid):.3f}')"
   ]
  },
  {
   "cell_type": "code",
   "execution_count": null,
   "metadata": {
    "pycharm": {
     "is_executing": true
    }
   },
   "outputs": [],
   "source": [
    "from sklearn.model_selection import GridSearchCV\n",
    "# Create the parameter grid based on the results of random search \n",
    "param_grid = {\n",
    "    'bootstrap': [True],\n",
    "    'max_depth': [6,8,10,12],\n",
    "    'max_features': [2,3,4],\n",
    "    'n_estimators': [100, 200, 300]\n",
    "}\n",
    "# Create a based model\n",
    "rf = RandomForestClassifier(random_state=0)\n",
    "# Instantiate the grid search model\n",
    "grid_search = GridSearchCV(estimator = rf, param_grid = param_grid, \n",
    "                          cv = 3, n_jobs = -1, verbose = 2)"
   ]
  },
  {
   "cell_type": "code",
   "execution_count": null,
   "metadata": {
    "pycharm": {
     "is_executing": true
    }
   },
   "outputs": [],
   "source": [
    "# Fit the grid search to the data\n",
    "grid_search.fit(xTrain, yTrain)\n",
    "grid_search.best_params_"
   ]
  },
  {
   "cell_type": "code",
   "execution_count": null,
   "metadata": {
    "pycharm": {
     "is_executing": true
    }
   },
   "outputs": [],
   "source": [
    "print (f'Train Accuracy - : {grid_search.score(xTrain,yTrain):.3f}')\n",
    "print (f'Test Accuracy - : {grid_search.score(xValid,yValid):.3f}')"
   ]
  },
  {
   "cell_type": "code",
   "execution_count": null,
   "metadata": {
    "pycharm": {
     "is_executing": true
    }
   },
   "outputs": [],
   "source": [
    "from sklearn.model_selection import GridSearchCV\n",
    "# Create the parameter grid based on the results of random search \n",
    "param_grid = {\n",
    "    'bootstrap': [True],\n",
    "    'max_depth': [10,12,14],\n",
    "    'max_features': [2,3,4],\n",
    "    'n_estimators': [100, 200, 300]\n",
    "}\n",
    "# Create a based model\n",
    "rf = RandomForestClassifier(random_state=0)\n",
    "# Instantiate the grid search model\n",
    "grid_search = GridSearchCV(estimator = rf, param_grid = param_grid, \n",
    "                          cv = 3, n_jobs = -1, verbose = 2)"
   ]
  },
  {
   "cell_type": "code",
   "execution_count": null,
   "metadata": {
    "pycharm": {
     "is_executing": true
    }
   },
   "outputs": [],
   "source": [
    "# Fit the grid search to the data\n",
    "grid_search.fit(xTrain, yTrain)\n",
    "grid_search.best_params_"
   ]
  },
  {
   "cell_type": "code",
   "execution_count": 17,
   "metadata": {
    "pycharm": {
     "is_executing": true
    }
   },
   "outputs": [
    {
     "name": "stdout",
     "output_type": "stream",
     "text": [
      "0.7897332329521237\n",
      "[[195395  52647]\n",
      " [   139   2862]]\n",
      "              precision    recall  f1-score   support\n",
      "\n",
      "           0       1.00      0.79      0.88    248042\n",
      "           1       0.05      0.95      0.10      3001\n",
      "\n",
      "    accuracy                           0.79    251043\n",
      "   macro avg       0.53      0.87      0.49    251043\n",
      "weighted avg       0.99      0.79      0.87    251043\n",
      "\n"
     ]
    }
   ],
   "source": [
    "#building the Random Forest Classifier\n",
    "\n",
    "from sklearn.ensemble import RandomForestClassifier \n",
    "#random forest model creation \n",
    "rfc = RandomForestClassifier(bootstrap = True, random_state=0,\n",
    "                             max_features = 4, max_depth = 12, n_estimators = 200)\n",
    "rfc.fit(xTrain,yTrain)\n",
    "predictions = rfc.predict(xTest)\n",
    "print(accuracy_score(yTest, predictions))\n",
    "print(confusion_matrix(yTest, predictions))\n",
    "print(classification_report(yTest, predictions))"
   ]
  },
  {
   "cell_type": "code",
   "execution_count": 28,
   "metadata": {
    "pycharm": {
     "is_executing": true
    }
   },
   "outputs": [
    {
     "data": {
      "text/plain": [
       "dict_keys(['bootstrap', 'ccp_alpha', 'class_weight', 'criterion', 'max_depth', 'max_features', 'max_leaf_nodes', 'max_samples', 'min_impurity_decrease', 'min_impurity_split', 'min_samples_leaf', 'min_samples_split', 'min_weight_fraction_leaf', 'n_estimators', 'n_jobs', 'oob_score', 'random_state', 'verbose', 'warm_start'])"
      ]
     },
     "execution_count": 28,
     "metadata": {},
     "output_type": "execute_result"
    }
   ],
   "source": [
    "rfc.get_params().keys()"
   ]
  },
  {
   "cell_type": "code",
   "execution_count": 18,
   "metadata": {
    "pycharm": {
     "is_executing": true
    }
   },
   "outputs": [
    {
     "name": "stdout",
     "output_type": "stream",
     "text": [
      "0.7898607011547822\n",
      "[[195425  52617]\n",
      " [   137   2864]]\n",
      "              precision    recall  f1-score   support\n",
      "\n",
      "           0       1.00      0.79      0.88    248042\n",
      "           1       0.05      0.95      0.10      3001\n",
      "\n",
      "    accuracy                           0.79    251043\n",
      "   macro avg       0.53      0.87      0.49    251043\n",
      "weighted avg       0.99      0.79      0.87    251043\n",
      "\n"
     ]
    }
   ],
   "source": [
    "#building the Random Forest Classifier\n",
    "\n",
    "from sklearn.ensemble import RandomForestClassifier \n",
    "#random forest model creation \n",
    "rfc = RandomForestClassifier(bootstrap = True, random_state=0,\n",
    "                             max_features = 2, max_depth = 14, n_estimators = 200)\n",
    "\n",
    "rfc.fit(xTrain,yTrain)\n",
    "predictions = rfc.predict(xTest)\n",
    "print(accuracy_score(yTest, predictions))\n",
    "print(confusion_matrix(yTest, predictions))\n",
    "print(classification_report(yTest, predictions))"
   ]
  },
  {
   "cell_type": "code",
   "execution_count": 27,
   "metadata": {},
   "outputs": [
    {
     "name": "stdout",
     "output_type": "stream",
     "text": [
      "Accuracy 0.7898607011547822\n",
      "Recall 0.9543485504831722\n",
      "Specificity 0.787870602559244\n",
      "F1 Score:  0.09794466673506377\n",
      "Precision:  0.05162127575205926\n",
      "The ROC AUC Score is 0.8711095765212081\n",
      "The Average precision Score is 0.049810412930701625\n",
      "G-Mean 0.8671235018846613\n"
     ]
    }
   ],
   "source": [
    "import numpy as np\n",
    "cm = confusion_matrix(yTest, predictions)\n",
    "\n",
    "tn = cm[0][0]\n",
    "fp = cm[0][1]\n",
    "fn = cm[1][0]\n",
    "tp = cm[1][1]\n",
    "\n",
    "recall = tp/(tp+fn)\n",
    "specificity = tn/(tn+fp)\n",
    "\n",
    "# sensitivity, hit rate, recall, or true positive rate\n",
    "print('Accuracy',(tp+tn)/(tp+fp+fn+tn))\n",
    "\n",
    "# sensitivity, hit rate, recall, or true positive rate\n",
    "print('Recall',tp/(tp+fn))\n",
    "\n",
    "# specificity or true negative rate\n",
    "print('Specificity', tn/(tn+fp) )\n",
    "\n",
    "#F1 Score\n",
    "print(\"F1 Score: \" ,tp/(tp+((fn+fp)/2)))\n",
    "\n",
    "#Precision\n",
    "print(\"Precision: \" ,tp/(tp+fp) )\n",
    "\n",
    "roc_auc = roc_auc_score(yTest, predictions) \n",
    "print(\"The ROC AUC Score is {}\".format(roc_auc)) \n",
    "\n",
    "avg_prec = average_precision_score(yTest, predictions) \n",
    "print(\"The Average precision Score is {}\".format(avg_prec)) \n",
    "\n",
    "#Gmean\n",
    "print('G-Mean',sqrt(recall*specificity))\n",
    "\n",
    "# precision or positive predictive value\n",
    "ppv = tp/(tp+fp)\n",
    "# negative predictive value\n",
    "npv = tn/(tn+fn)\n",
    "# fall out or false positive rate\n",
    "fpr = fp/(fp+tn)\n",
    "# false negative rate\n",
    "fnr = fn/(tp+fn)\n",
    "# false discovery rate\n",
    "fdr = fp/(tp+fp)\n",
    "\n",
    "# overall accuracy\n",
    "acc = (tp+tn)/(tp+fp+fn+tn)"
   ]
  },
  {
   "cell_type": "code",
   "execution_count": null,
   "metadata": {},
   "outputs": [],
   "source": []
  },
  {
   "cell_type": "markdown",
   "metadata": {},
   "source": [
    "## thresholds"
   ]
  },
  {
   "cell_type": "code",
   "execution_count": 1,
   "metadata": {},
   "outputs": [
    {
     "ename": "NameError",
     "evalue": "name 'rfc' is not defined",
     "output_type": "error",
     "traceback": [
      "\u001B[1;31m---------------------------------------------------------------------------\u001B[0m",
      "\u001B[1;31mNameError\u001B[0m                                 Traceback (most recent call last)",
      "\u001B[1;32m<ipython-input-1-95e864294c3c>\u001B[0m in \u001B[0;36m<module>\u001B[1;34m\u001B[0m\n\u001B[0;32m      1\u001B[0m \u001B[1;32mfrom\u001B[0m \u001B[0msklearn\u001B[0m\u001B[1;33m.\u001B[0m\u001B[0mmetrics\u001B[0m \u001B[1;32mimport\u001B[0m \u001B[0mprecision_recall_curve\u001B[0m\u001B[1;33m\u001B[0m\u001B[1;33m\u001B[0m\u001B[0m\n\u001B[0;32m      2\u001B[0m \u001B[1;31m# predict probabilities\u001B[0m\u001B[1;33m\u001B[0m\u001B[1;33m\u001B[0m\u001B[1;33m\u001B[0m\u001B[0m\n\u001B[1;32m----> 3\u001B[1;33m \u001B[0mrfc_probs\u001B[0m \u001B[1;33m=\u001B[0m \u001B[0mrfc\u001B[0m\u001B[1;33m.\u001B[0m\u001B[0mpredict_proba\u001B[0m\u001B[1;33m(\u001B[0m\u001B[0mxTest\u001B[0m\u001B[1;33m)\u001B[0m\u001B[1;33m\u001B[0m\u001B[1;33m\u001B[0m\u001B[0m\n\u001B[0m\u001B[0;32m      4\u001B[0m \u001B[0mrfc_probs\u001B[0m\u001B[1;33m\u001B[0m\u001B[1;33m\u001B[0m\u001B[0m\n",
      "\u001B[1;31mNameError\u001B[0m: name 'rfc' is not defined"
     ]
    }
   ],
   "source": [
    "from sklearn.metrics import precision_recall_curve\n",
    "# predict probabilities\n",
    "rfc_probs = rfc.predict_proba(xTest)\n",
    "rfc_probs"
   ]
  },
  {
   "cell_type": "code",
   "execution_count": 37,
   "metadata": {},
   "outputs": [
    {
     "name": "stdout",
     "output_type": "stream",
     "text": [
      "Threshold=0.719, F-Score=0.17233\n"
     ]
    }
   ],
   "source": [
    "from sklearn.metrics import f1_score\n",
    "from numpy import arange\n",
    "\n",
    "# apply threshold to positive probabilities to create labels\n",
    "def to_labels(pos_probs, threshold):\n",
    "\treturn (pos_probs >= threshold).astype('int')\n",
    "\n",
    "probs = rfc_probs[:,1]\n",
    "# define thresholds\n",
    "thresholds = arange(0, 1, 0.001)\n",
    "# evaluate each threshold\n",
    "scores = [f1_score(yTest, to_labels(probs, t)) for t in thresholds]\n",
    "# get best threshold\n",
    "ix = argmax(scores)\n",
    "print('Threshold=%.3f, F-Score=%.5f' % (thresholds[ix], scores[ix]))"
   ]
  },
  {
   "cell_type": "code",
   "execution_count": 39,
   "metadata": {},
   "outputs": [
    {
     "name": "stdout",
     "output_type": "stream",
     "text": [
      "Threshold=0.552, AucScore=0.87701\n"
     ]
    }
   ],
   "source": [
    "from sklearn.metrics import f1_score\n",
    "from numpy import arange\n",
    "\n",
    "# apply threshold to positive probabilities to create labels\n",
    "def to_labels(pos_probs, threshold):\n",
    "\treturn (pos_probs >= threshold).astype('int')\n",
    "\n",
    "probs = rfc_probs[:,1]\n",
    "# define thresholds\n",
    "thresholds = arange(0, 1, 0.001)\n",
    "# evaluate each threshold\n",
    "scores = [roc_auc_score(yTest, to_labels(probs, t)) for t in thresholds]\n",
    "# get best threshold\n",
    "ix = argmax(scores)\n",
    "print('Threshold=%.3f, AucScore=%.5f' % (thresholds[ix], scores[ix]))"
   ]
  },
  {
   "cell_type": "code",
   "execution_count": 44,
   "metadata": {},
   "outputs": [
    {
     "name": "stdout",
     "output_type": "stream",
     "text": [
      "Threshold=0.998, accuracy_score=0.98805\n"
     ]
    }
   ],
   "source": [
    "from sklearn.metrics import f1_score\n",
    "from numpy import arange\n",
    "\n",
    "# apply threshold to positive probabilities to create labels\n",
    "def to_labels(pos_probs, threshold):\n",
    "\treturn (pos_probs >= threshold).astype('int')\n",
    "\n",
    "probs = rfc_probs[:,0]\n",
    "# define thresholds\n",
    "thresholds = arange(0, 1, 0.001)\n",
    "# evaluate each threshold\n",
    "scores = [accuracy_score(yTest, to_labels(probs, t)) for t in thresholds]\n",
    "# get best threshold\n",
    "ix = argmax(scores)\n",
    "print('Threshold=%.3f, accuracy_score=%.5f' % (thresholds[ix], scores[ix]))"
   ]
  },
  {
   "cell_type": "code",
   "execution_count": 43,
   "metadata": {},
   "outputs": [
    {
     "data": {
      "text/plain": [
       "array([[0.79269889, 0.20730111],\n",
       "       [0.62647589, 0.37352411],\n",
       "       [0.39858304, 0.60141696],\n",
       "       ...,\n",
       "       [0.85499379, 0.14500621],\n",
       "       [0.64097246, 0.35902754],\n",
       "       [0.9903395 , 0.0096605 ]])"
      ]
     },
     "execution_count": 43,
     "metadata": {},
     "output_type": "execute_result"
    }
   ],
   "source": [
    "rfc_probs"
   ]
  },
  {
   "cell_type": "code",
   "execution_count": 45,
   "metadata": {},
   "outputs": [
    {
     "data": {
      "text/plain": [
       "array([0.79269889, 0.62647589, 0.39858304, ..., 0.85499379, 0.64097246,\n",
       "       0.9903395 ])"
      ]
     },
     "execution_count": 45,
     "metadata": {},
     "output_type": "execute_result"
    }
   ],
   "source": [
    "probs"
   ]
  },
  {
   "cell_type": "code",
   "execution_count": null,
   "metadata": {},
   "outputs": [],
   "source": []
  },
  {
   "cell_type": "code",
   "execution_count": null,
   "metadata": {},
   "outputs": [],
   "source": []
  },
  {
   "cell_type": "code",
   "execution_count": 34,
   "metadata": {},
   "outputs": [
    {
     "name": "stdout",
     "output_type": "stream",
     "text": [
      "Best Threshold=0.550770\n"
     ]
    }
   ],
   "source": [
    "from sklearn.metrics import roc_curve, auc\n",
    "from numpy import argmax\n",
    "\n",
    "preds = rfc_probs[:,1]\n",
    "fpr, tpr, threshold = roc_curve(yTest, preds)\n",
    "roc_auc = auc(fpr, tpr)\n",
    "\n",
    "# get the best threshold\n",
    "J = tpr - fpr\n",
    "ix = argmax(J)\n",
    "best_thresh = threshold[ix]\n",
    "print('Best Threshold=%f' % (best_thresh))"
   ]
  },
  {
   "cell_type": "code",
   "execution_count": null,
   "metadata": {
    "pycharm": {
     "is_executing": true
    }
   },
   "outputs": [],
   "source": [
    "df[\"DT_OP_GMT\"] = pd.to_datetime(df[\"DT_OP_GMT\"])\n",
    "\n",
    "start_datetr = '2016-03-01'\n",
    "end_datetr = '2016-03-15'\n",
    "\n",
    "mask_tr = (df['DT_OP_GMT'] >= start_datetr) & (df['DT_OP_GMT'] < end_datetr) \n",
    "df_train = df.loc[mask_tr]\n",
    "\n",
    "print(df_train)"
   ]
  },
  {
   "cell_type": "code",
   "execution_count": null,
   "metadata": {
    "pycharm": {
     "is_executing": true
    }
   },
   "outputs": [],
   "source": [
    "start_datevl = '2016-03-14'\n",
    "end_datevl = '2016-03-22'\n",
    "\n",
    "#greater than the start date and smaller than the end date\n",
    "mask = (df['DT_OP_GMT'] >= start_datets) & (df['DT_OP_GMT'] < end_datets)\n",
    "df_test = df.loc[mask]"
   ]
  },
  {
   "cell_type": "code",
   "execution_count": null,
   "metadata": {
    "pycharm": {
     "is_executing": true
    }
   },
   "outputs": [],
   "source": [
    "xTrain = df_train[['TIME_ORA_OP','ID_TIPO_CARTA','DEV_MEDIA_IMP_TC_1M', 'PERC_RISK_CIRC_TC_TO_1M',\n",
    "       'DEV_MEDIA_IMP_CAN_1M', 'DEV_MEDIA_IMP_TO_1M', 'PERC_OPER_NON_AUTOR_1M',\n",
    "       'PERC_OPER_NON_AUTOR_2M', 'MEDIA_NON_AUT_SEC_4',\n",
    "       'DEV_IMP_MEDIA_ULTIME_3', 'PERC_RISK_MCC_1M', 'FLAG_IMP_PREC_0',\n",
    "       'TREND_3_5','FLAG_CAMBIO_PAESE_NON_AUT',\n",
    "       'PERC_ESITO_NSF_G', 'PERC_ESITO_CV2_G', 'PERC_ESITO_PIN_G',\n",
    "       'PERC_ESITO_SCUDO_G', 'PERC_ESITO_DT_SCAD_G', 'PERC_ESITO_ALTRO_G',\n",
    "       'DEV_MEDIA_AUT_SEC_4','IMP_TRZ_RECON']]\n",
    "\n",
    "xTest = df_test[['TIME_ORA_OP','ID_TIPO_CARTA','DEV_MEDIA_IMP_TC_1M', 'PERC_RISK_CIRC_TC_TO_1M',\n",
    "       'DEV_MEDIA_IMP_CAN_1M', 'DEV_MEDIA_IMP_TO_1M', 'PERC_OPER_NON_AUTOR_1M',\n",
    "       'PERC_OPER_NON_AUTOR_2M', 'MEDIA_NON_AUT_SEC_4',\n",
    "       'DEV_IMP_MEDIA_ULTIME_3', 'PERC_RISK_MCC_1M', 'FLAG_IMP_PREC_0',\n",
    "       'TREND_3_5','FLAG_CAMBIO_PAESE_NON_AUT',\n",
    "       'PERC_ESITO_NSF_G', 'PERC_ESITO_CV2_G', 'PERC_ESITO_PIN_G',\n",
    "       'PERC_ESITO_SCUDO_G', 'PERC_ESITO_DT_SCAD_G', 'PERC_ESITO_ALTRO_G',\n",
    "       'DEV_MEDIA_AUT_SEC_4','IMP_TRZ_RECON']]\n",
    "\n",
    "yTrain = df_train[\"FLAG_FRODE\"]\n",
    "\n",
    "yTest = df_test[\"FLAG_FRODE\"]"
   ]
  },
  {
   "cell_type": "code",
   "execution_count": null,
   "metadata": {
    "pycharm": {
     "is_executing": true
    }
   },
   "outputs": [],
   "source": [
    "#building the Random Forest Classifier\n",
    "\n",
    "from sklearn.ensemble import RandomForestClassifier \n",
    "#random forest model creation \n",
    "rfc = RandomForestClassifier(bootstrap = True, random_state=0,\n",
    "                             max_features = 2, max_depth = 14, n_estimators = 200, class_weight = 'balanced')\n",
    "rfc.fit(xTrain,yTrain)\n",
    "predictions = rfc.predict(xTest)\n",
    "print(accuracy_score(yTest, predictions))\n",
    "print(confusion_matrix(yTest, predictions))\n",
    "print(classification_report(yTest, predictions))"
   ]
  },
  {
   "cell_type": "code",
   "execution_count": null,
   "metadata": {
    "pycharm": {
     "is_executing": true
    }
   },
   "outputs": [],
   "source": [
    "#building the Random Forest Classifier\n",
    "\n",
    "from sklearn.ensemble import RandomForestClassifier \n",
    "#random forest model creation \n",
    "rfc = RandomForestClassifier(bootstrap = True, random_state=0,\n",
    "                             max_features = 2, max_depth = 14, n_estimators = 200, class_weight = 'balanced_subsample')\n",
    "rfc.fit(xTrain,yTrain)\n",
    "predictions = rfc.predict(xTest)\n",
    "print(accuracy_score(yTest, predictions))\n",
    "print(confusion_matrix(yTest, predictions))\n",
    "print(classification_report(yTest, predictions))"
   ]
  },
  {
   "cell_type": "code",
   "execution_count": null,
   "metadata": {
    "pycharm": {
     "is_executing": true
    }
   },
   "outputs": [],
   "source": []
  },
  {
   "cell_type": "code",
   "execution_count": null,
   "metadata": {
    "pycharm": {
     "is_executing": true
    }
   },
   "outputs": [],
   "source": []
  },
  {
   "cell_type": "code",
   "execution_count": null,
   "metadata": {
    "pycharm": {
     "is_executing": true
    }
   },
   "outputs": [],
   "source": []
  },
  {
   "cell_type": "code",
   "execution_count": null,
   "metadata": {
    "pycharm": {
     "is_executing": true
    }
   },
   "outputs": [],
   "source": []
  },
  {
   "cell_type": "code",
   "execution_count": null,
   "metadata": {
    "pycharm": {
     "is_executing": true
    }
   },
   "outputs": [],
   "source": [
    "from sklearn.model_selection import GridSearchCV\n",
    "# Create the parameter grid based on the results of random search \n",
    "param_grid = {\n",
    "    'max_depth': [6,8,10],\n",
    "    'n_estimators': [100, 200, 300]\n",
    "}\n",
    "# Create a based model\n",
    "xgb = XGBClassifier(random_state=0,n_jobs=-1,objective='binary:logistic', eval_metric = 'logloss',use_label_encoder =False)\n",
    "# Instantiate the grid search model\n",
    "grid_search = GridSearchCV(estimator = xgb, param_grid = param_grid, \n",
    "                          cv = 3)"
   ]
  },
  {
   "cell_type": "code",
   "execution_count": null,
   "metadata": {
    "pycharm": {
     "is_executing": true
    }
   },
   "outputs": [],
   "source": [
    "# Fit the grid search to the data\n",
    "grid_search.fit(xTrain, yTrain)\n",
    "grid_search.best_params_"
   ]
  },
  {
   "cell_type": "code",
   "execution_count": null,
   "metadata": {
    "pycharm": {
     "is_executing": true
    }
   },
   "outputs": [],
   "source": [
    "print (f'Train Accuracy - : {grid_search.score(xTrain,yTrain):.3f}')\n",
    "print (f'Test Accuracy - : {grid_search.score(xValid,yValid):.3f}')"
   ]
  },
  {
   "cell_type": "code",
   "execution_count": null,
   "metadata": {
    "pycharm": {
     "is_executing": true
    }
   },
   "outputs": [],
   "source": [
    "#For XGB\n",
    "# Make predictions on validation dataset\n",
    "XGB = XGBClassifier(random_state=0,n_jobs=-1,use_label_encoder =False, eval_metric = 'logloss')\n",
    "XGB.fit(xTrain,yTrain)\n",
    "predictions_xgb = XGB.predict(xTest)\n",
    "print(accuracy_score(yTest, predictions_xgb))\n",
    "print(confusion_matrix(yTest, predictions_xgb))\n",
    "print(classification_report(yTest, predictions_xgb))"
   ]
  },
  {
   "cell_type": "code",
   "execution_count": null,
   "metadata": {
    "pycharm": {
     "is_executing": true
    }
   },
   "outputs": [],
   "source": [
    "#For XGB\n",
    "# Make predictions on validation dataset\n",
    "XGB = XGBClassifier(random_state=0,n_jobs=-1,objective='binary:logistic', \n",
    "                    max_depth = 6, n_estimators = 100, eval_metric = 'logloss',use_label_encoder =False)\n",
    "XGB.fit(xTrain,yTrain)\n",
    "predictions_xgb = XGB.predict(xTest)\n",
    "print(accuracy_score(yTest, predictions_xgb))\n",
    "print(confusion_matrix(yTest, predictions_xgb))\n",
    "print(classification_report(yTest, predictions_xgb))"
   ]
  },
  {
   "cell_type": "code",
   "execution_count": null,
   "metadata": {
    "pycharm": {
     "is_executing": true
    }
   },
   "outputs": [],
   "source": []
  },
  {
   "cell_type": "code",
   "execution_count": null,
   "metadata": {
    "pycharm": {
     "is_executing": true
    }
   },
   "outputs": [],
   "source": [
    "xgb.get_params().keys()"
   ]
  },
  {
   "cell_type": "code",
   "execution_count": null,
   "metadata": {
    "pycharm": {
     "is_executing": true
    }
   },
   "outputs": [],
   "source": [
    "rf.get_params().keys()"
   ]
  },
  {
   "cell_type": "code",
   "execution_count": null,
   "metadata": {
    "pycharm": {
     "is_executing": true
    }
   },
   "outputs": [],
   "source": []
  }
 ],
 "metadata": {
  "kernelspec": {
   "display_name": "Python 3",
   "language": "python",
   "name": "python3"
  },
  "language_info": {
   "codemirror_mode": {
    "name": "ipython",
    "version": 3
   },
   "file_extension": ".py",
   "mimetype": "text/x-python",
   "name": "python",
   "nbconvert_exporter": "python",
   "pygments_lexer": "ipython3",
   "version": "3.7.9"
  }
 },
 "nbformat": 4,
 "nbformat_minor": 1
}