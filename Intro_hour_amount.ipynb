{
 "cells": [
  {
   "cell_type": "code",
   "execution_count": 1,
   "metadata": {},
   "outputs": [],
   "source": [
    "import numpy as np # linear algebra\n",
    "import pandas as pd\n",
    "import seaborn as sns\n",
    "import matplotlib.pyplot as plt\n",
    "import time\n",
    "from datetime import datetime"
   ]
  },
  {
   "cell_type": "code",
   "execution_count": 2,
   "metadata": {},
   "outputs": [],
   "source": [
    "from sklearn.linear_model import LogisticRegression\n",
    "from sklearn.discriminant_analysis import LinearDiscriminantAnalysis \n",
    "from sklearn.neighbors import KNeighborsClassifier\n",
    "from sklearn.tree import DecisionTreeClassifier\n",
    "from sklearn.naive_bayes import GaussianNB\n",
    "from sklearn.svm import SVC\n",
    "from xgboost import XGBClassifier\n",
    "from sklearn.ensemble import AdaBoostClassifier"
   ]
  },
  {
   "cell_type": "code",
   "execution_count": 3,
   "metadata": {},
   "outputs": [],
   "source": [
    "#building all kinds of evaluating parameters\n",
    "from sklearn.metrics import classification_report, accuracy_score  \n",
    "from sklearn.metrics import precision_score, recall_score \n",
    "from sklearn.metrics import f1_score, matthews_corrcoef \n",
    "from sklearn.metrics import roc_curve,auc\n",
    "from sklearn.metrics import confusion_matrix "
   ]
  },
  {
   "cell_type": "code",
   "execution_count": 4,
   "metadata": {},
   "outputs": [],
   "source": [
    "from imblearn.pipeline import make_pipeline as make_pipeline_imb # To do our transformation in a unique time\n",
    "from imblearn.over_sampling import SMOTE\n",
    "from sklearn.pipeline import make_pipeline\n",
    "from sklearn.ensemble import RandomForestClassifier\n",
    "from collections import Counter\n",
    "from sklearn.model_selection import train_test_split\n",
    "classifier = RandomForestClassifier"
   ]
  },
  {
   "cell_type": "code",
   "execution_count": 5,
   "metadata": {
    "pycharm": {
     "is_executing": true,
     "name": "#%%\n"
    },
    "scrolled": false
   },
   "outputs": [
    {
     "data": {
      "text/html": [
       "<div>\n",
       "<style scoped>\n",
       "    .dataframe tbody tr th:only-of-type {\n",
       "        vertical-align: middle;\n",
       "    }\n",
       "\n",
       "    .dataframe tbody tr th {\n",
       "        vertical-align: top;\n",
       "    }\n",
       "\n",
       "    .dataframe thead th {\n",
       "        text-align: right;\n",
       "    }\n",
       "</style>\n",
       "<table border=\"1\" class=\"dataframe\">\n",
       "  <thead>\n",
       "    <tr style=\"text-align: right;\">\n",
       "      <th></th>\n",
       "      <th>ID_OPER</th>\n",
       "      <th>DT_OP_GMT</th>\n",
       "      <th>ORA_OP_GMT</th>\n",
       "      <th>COD_CANA</th>\n",
       "      <th>COD_CABC</th>\n",
       "      <th>COD_ESITO</th>\n",
       "      <th>PROCESSING_COD</th>\n",
       "      <th>IMP_TRZ_RECON</th>\n",
       "      <th>FL_AUTORIZZAZIONE</th>\n",
       "      <th>COD_ABC_PAES</th>\n",
       "      <th>...</th>\n",
       "      <th>PERC_ESITO_ALL_G</th>\n",
       "      <th>PERC_ESITO_ALL_M</th>\n",
       "      <th>DEV_MEDIA_AUT_SEC_4</th>\n",
       "      <th>DEV_MEDIA_AUT_TO_SEC_4</th>\n",
       "      <th>MEDIA_NON_AUT_SEC_4</th>\n",
       "      <th>MEDIA_NON_AUT_SEC_3</th>\n",
       "      <th>MEDIA_NON_AUT_SEC_2</th>\n",
       "      <th>TIME_NON_AUT_SEC_LAST</th>\n",
       "      <th>ANNO</th>\n",
       "      <th>MESE</th>\n",
       "    </tr>\n",
       "  </thead>\n",
       "  <tbody>\n",
       "    <tr>\n",
       "      <th>0</th>\n",
       "      <td>6231261973</td>\n",
       "      <td>2016-03-14</td>\n",
       "      <td>11:27:28</td>\n",
       "      <td>ATM</td>\n",
       "      <td>6011</td>\n",
       "      <td>0</td>\n",
       "      <td>366100</td>\n",
       "      <td>0.00</td>\n",
       "      <td>T</td>\n",
       "      <td>ITA</td>\n",
       "      <td>...</td>\n",
       "      <td>0.0</td>\n",
       "      <td>0.0</td>\n",
       "      <td>-1.000000</td>\n",
       "      <td>-1.000000</td>\n",
       "      <td>3433466.75</td>\n",
       "      <td>3.764000e+03</td>\n",
       "      <td>5644.5</td>\n",
       "      <td>4498501</td>\n",
       "      <td>2016</td>\n",
       "      <td>3</td>\n",
       "    </tr>\n",
       "    <tr>\n",
       "      <th>1</th>\n",
       "      <td>6217512045</td>\n",
       "      <td>2016-03-09</td>\n",
       "      <td>09:48:09</td>\n",
       "      <td>INT</td>\n",
       "      <td>5942</td>\n",
       "      <td>0</td>\n",
       "      <td>6300</td>\n",
       "      <td>9.35</td>\n",
       "      <td>T</td>\n",
       "      <td>ITA</td>\n",
       "      <td>...</td>\n",
       "      <td>0.0</td>\n",
       "      <td>0.0</td>\n",
       "      <td>2.418578</td>\n",
       "      <td>1.092245</td>\n",
       "      <td>1375101.00</td>\n",
       "      <td>1.411049e+06</td>\n",
       "      <td>2070957.5</td>\n",
       "      <td>423982</td>\n",
       "      <td>2016</td>\n",
       "      <td>3</td>\n",
       "    </tr>\n",
       "    <tr>\n",
       "      <th>2</th>\n",
       "      <td>6204998318</td>\n",
       "      <td>2016-03-04</td>\n",
       "      <td>12:01:47</td>\n",
       "      <td>INT</td>\n",
       "      <td>5192</td>\n",
       "      <td>0</td>\n",
       "      <td>6300</td>\n",
       "      <td>17.90</td>\n",
       "      <td>T</td>\n",
       "      <td>ITA</td>\n",
       "      <td>...</td>\n",
       "      <td>0.0</td>\n",
       "      <td>0.0</td>\n",
       "      <td>0.864804</td>\n",
       "      <td>2.990299</td>\n",
       "      <td>1375101.00</td>\n",
       "      <td>1.411049e+06</td>\n",
       "      <td>2070957.5</td>\n",
       "      <td>685390</td>\n",
       "      <td>2016</td>\n",
       "      <td>3</td>\n",
       "    </tr>\n",
       "    <tr>\n",
       "      <th>3</th>\n",
       "      <td>6260986375</td>\n",
       "      <td>2016-03-25</td>\n",
       "      <td>08:29:03</td>\n",
       "      <td>INT</td>\n",
       "      <td>5968</td>\n",
       "      <td>0</td>\n",
       "      <td>6300</td>\n",
       "      <td>9.99</td>\n",
       "      <td>T</td>\n",
       "      <td>NLD</td>\n",
       "      <td>...</td>\n",
       "      <td>0.0</td>\n",
       "      <td>0.0</td>\n",
       "      <td>-0.279195</td>\n",
       "      <td>-0.279195</td>\n",
       "      <td>1375101.00</td>\n",
       "      <td>1.411049e+06</td>\n",
       "      <td>2070957.5</td>\n",
       "      <td>1377654</td>\n",
       "      <td>2016</td>\n",
       "      <td>3</td>\n",
       "    </tr>\n",
       "    <tr>\n",
       "      <th>4</th>\n",
       "      <td>6214969493</td>\n",
       "      <td>2016-03-08</td>\n",
       "      <td>10:36:09</td>\n",
       "      <td>POS</td>\n",
       "      <td>5411</td>\n",
       "      <td>0</td>\n",
       "      <td>0</td>\n",
       "      <td>22.25</td>\n",
       "      <td>T</td>\n",
       "      <td>ITA</td>\n",
       "      <td>...</td>\n",
       "      <td>0.0</td>\n",
       "      <td>0.0</td>\n",
       "      <td>0.306757</td>\n",
       "      <td>-0.103120</td>\n",
       "      <td>1964559.50</td>\n",
       "      <td>2.573075e+06</td>\n",
       "      <td>3425734.0</td>\n",
       "      <td>136317</td>\n",
       "      <td>2016</td>\n",
       "      <td>3</td>\n",
       "    </tr>\n",
       "  </tbody>\n",
       "</table>\n",
       "<p>5 rows × 96 columns</p>\n",
       "</div>"
      ],
      "text/plain": [
       "      ID_OPER   DT_OP_GMT ORA_OP_GMT COD_CANA  COD_CABC  COD_ESITO  \\\n",
       "0  6231261973  2016-03-14   11:27:28      ATM      6011          0   \n",
       "1  6217512045  2016-03-09   09:48:09      INT      5942          0   \n",
       "2  6204998318  2016-03-04   12:01:47      INT      5192          0   \n",
       "3  6260986375  2016-03-25   08:29:03      INT      5968          0   \n",
       "4  6214969493  2016-03-08   10:36:09      POS      5411          0   \n",
       "\n",
       "   PROCESSING_COD  IMP_TRZ_RECON FL_AUTORIZZAZIONE COD_ABC_PAES  ...  \\\n",
       "0          366100           0.00                 T          ITA  ...   \n",
       "1            6300           9.35                 T          ITA  ...   \n",
       "2            6300          17.90                 T          ITA  ...   \n",
       "3            6300           9.99                 T          NLD  ...   \n",
       "4               0          22.25                 T          ITA  ...   \n",
       "\n",
       "   PERC_ESITO_ALL_G  PERC_ESITO_ALL_M DEV_MEDIA_AUT_SEC_4  \\\n",
       "0               0.0               0.0           -1.000000   \n",
       "1               0.0               0.0            2.418578   \n",
       "2               0.0               0.0            0.864804   \n",
       "3               0.0               0.0           -0.279195   \n",
       "4               0.0               0.0            0.306757   \n",
       "\n",
       "  DEV_MEDIA_AUT_TO_SEC_4 MEDIA_NON_AUT_SEC_4 MEDIA_NON_AUT_SEC_3  \\\n",
       "0              -1.000000          3433466.75        3.764000e+03   \n",
       "1               1.092245          1375101.00        1.411049e+06   \n",
       "2               2.990299          1375101.00        1.411049e+06   \n",
       "3              -0.279195          1375101.00        1.411049e+06   \n",
       "4              -0.103120          1964559.50        2.573075e+06   \n",
       "\n",
       "   MEDIA_NON_AUT_SEC_2  TIME_NON_AUT_SEC_LAST  ANNO  MESE  \n",
       "0               5644.5                4498501  2016     3  \n",
       "1            2070957.5                 423982  2016     3  \n",
       "2            2070957.5                 685390  2016     3  \n",
       "3            2070957.5                1377654  2016     3  \n",
       "4            3425734.0                 136317  2016     3  \n",
       "\n",
       "[5 rows x 96 columns]"
      ]
     },
     "execution_count": 5,
     "metadata": {},
     "output_type": "execute_result"
    }
   ],
   "source": [
    "import pandas as pd\n",
    "\n",
    "url2 = 'Dataset/PRFI_4M_DEF_HEAD.txt'\n",
    "df = pd.read_table(url2, sep=';')\n",
    "df.head(5)"
   ]
  },
  {
   "cell_type": "code",
   "execution_count": 6,
   "metadata": {},
   "outputs": [],
   "source": [
    "df[\"FLAG_FRODE\"].replace({\"T\": 1, \"F\": 0}, inplace=True)"
   ]
  },
  {
   "cell_type": "code",
   "execution_count": 7,
   "metadata": {
    "pycharm": {
     "is_executing": true,
     "name": "#%%\n"
    },
    "scrolled": true
   },
   "outputs": [
    {
     "data": {
      "text/html": [
       "<div>\n",
       "<style scoped>\n",
       "    .dataframe tbody tr th:only-of-type {\n",
       "        vertical-align: middle;\n",
       "    }\n",
       "\n",
       "    .dataframe tbody tr th {\n",
       "        vertical-align: top;\n",
       "    }\n",
       "\n",
       "    .dataframe thead th {\n",
       "        text-align: right;\n",
       "    }\n",
       "</style>\n",
       "<table border=\"1\" class=\"dataframe\">\n",
       "  <thead>\n",
       "    <tr style=\"text-align: right;\">\n",
       "      <th>FLAG_FRODE</th>\n",
       "      <th>0</th>\n",
       "      <th>1</th>\n",
       "    </tr>\n",
       "    <tr>\n",
       "      <th>TIME_ORA_OP</th>\n",
       "      <th></th>\n",
       "      <th></th>\n",
       "    </tr>\n",
       "  </thead>\n",
       "  <tbody>\n",
       "    <tr>\n",
       "      <th>0</th>\n",
       "      <td>19263</td>\n",
       "      <td>1126</td>\n",
       "    </tr>\n",
       "    <tr>\n",
       "      <th>1</th>\n",
       "      <td>12707</td>\n",
       "      <td>967</td>\n",
       "    </tr>\n",
       "    <tr>\n",
       "      <th>2</th>\n",
       "      <td>12035</td>\n",
       "      <td>776</td>\n",
       "    </tr>\n",
       "    <tr>\n",
       "      <th>3</th>\n",
       "      <td>15269</td>\n",
       "      <td>670</td>\n",
       "    </tr>\n",
       "    <tr>\n",
       "      <th>4</th>\n",
       "      <td>35598</td>\n",
       "      <td>810</td>\n",
       "    </tr>\n",
       "    <tr>\n",
       "      <th>5</th>\n",
       "      <td>79943</td>\n",
       "      <td>991</td>\n",
       "    </tr>\n",
       "    <tr>\n",
       "      <th>6</th>\n",
       "      <td>188506</td>\n",
       "      <td>1170</td>\n",
       "    </tr>\n",
       "    <tr>\n",
       "      <th>7</th>\n",
       "      <td>332329</td>\n",
       "      <td>1470</td>\n",
       "    </tr>\n",
       "    <tr>\n",
       "      <th>8</th>\n",
       "      <td>440136</td>\n",
       "      <td>1811</td>\n",
       "    </tr>\n",
       "    <tr>\n",
       "      <th>9</th>\n",
       "      <td>490823</td>\n",
       "      <td>1854</td>\n",
       "    </tr>\n",
       "    <tr>\n",
       "      <th>10</th>\n",
       "      <td>459375</td>\n",
       "      <td>2533</td>\n",
       "    </tr>\n",
       "    <tr>\n",
       "      <th>11</th>\n",
       "      <td>339715</td>\n",
       "      <td>2614</td>\n",
       "    </tr>\n",
       "    <tr>\n",
       "      <th>12</th>\n",
       "      <td>274564</td>\n",
       "      <td>2800</td>\n",
       "    </tr>\n",
       "    <tr>\n",
       "      <th>13</th>\n",
       "      <td>283564</td>\n",
       "      <td>2373</td>\n",
       "    </tr>\n",
       "    <tr>\n",
       "      <th>14</th>\n",
       "      <td>336932</td>\n",
       "      <td>2263</td>\n",
       "    </tr>\n",
       "    <tr>\n",
       "      <th>15</th>\n",
       "      <td>418409</td>\n",
       "      <td>2388</td>\n",
       "    </tr>\n",
       "    <tr>\n",
       "      <th>16</th>\n",
       "      <td>473229</td>\n",
       "      <td>2710</td>\n",
       "    </tr>\n",
       "    <tr>\n",
       "      <th>17</th>\n",
       "      <td>430043</td>\n",
       "      <td>2451</td>\n",
       "    </tr>\n",
       "    <tr>\n",
       "      <th>18</th>\n",
       "      <td>279515</td>\n",
       "      <td>2918</td>\n",
       "    </tr>\n",
       "    <tr>\n",
       "      <th>19</th>\n",
       "      <td>167997</td>\n",
       "      <td>3197</td>\n",
       "    </tr>\n",
       "    <tr>\n",
       "      <th>20</th>\n",
       "      <td>121253</td>\n",
       "      <td>2858</td>\n",
       "    </tr>\n",
       "    <tr>\n",
       "      <th>21</th>\n",
       "      <td>87973</td>\n",
       "      <td>2679</td>\n",
       "    </tr>\n",
       "    <tr>\n",
       "      <th>22</th>\n",
       "      <td>59552</td>\n",
       "      <td>2206</td>\n",
       "    </tr>\n",
       "    <tr>\n",
       "      <th>23</th>\n",
       "      <td>36514</td>\n",
       "      <td>2027</td>\n",
       "    </tr>\n",
       "  </tbody>\n",
       "</table>\n",
       "</div>"
      ],
      "text/plain": [
       "FLAG_FRODE        0     1\n",
       "TIME_ORA_OP              \n",
       "0             19263  1126\n",
       "1             12707   967\n",
       "2             12035   776\n",
       "3             15269   670\n",
       "4             35598   810\n",
       "5             79943   991\n",
       "6            188506  1170\n",
       "7            332329  1470\n",
       "8            440136  1811\n",
       "9            490823  1854\n",
       "10           459375  2533\n",
       "11           339715  2614\n",
       "12           274564  2800\n",
       "13           283564  2373\n",
       "14           336932  2263\n",
       "15           418409  2388\n",
       "16           473229  2710\n",
       "17           430043  2451\n",
       "18           279515  2918\n",
       "19           167997  3197\n",
       "20           121253  2858\n",
       "21            87973  2679\n",
       "22            59552  2206\n",
       "23            36514  2027"
      ]
     },
     "execution_count": 7,
     "metadata": {},
     "output_type": "execute_result"
    }
   ],
   "source": [
    "df.pivot_table(values='IMP_TRZ_RECON',index='TIME_ORA_OP',columns='FLAG_FRODE',aggfunc='count')"
   ]
  },
  {
   "cell_type": "code",
   "execution_count": 8,
   "metadata": {
    "pycharm": {
     "name": "#%%\n"
    }
   },
   "outputs": [],
   "source": [
    "def PlotHistogram(df,norm):\n",
    "    bins = np.arange(df['TIME_ORA_OP'].min(),df['TIME_ORA_OP'].max()+2)\n",
    "    plt.figure(figsize=(15,4))\n",
    "    sns.distplot(df[df['FLAG_FRODE']==0]['TIME_ORA_OP'],\n",
    "                 norm_hist=norm,\n",
    "                 bins=bins,\n",
    "                 kde=False,\n",
    "                 color='b',\n",
    "                 hist_kws={'alpha':.5},\n",
    "                 label='Legit')\n",
    "    sns.distplot(df[df['FLAG_FRODE']==1.0]['TIME_ORA_OP'],\n",
    "                 norm_hist=norm,\n",
    "                 bins=bins,\n",
    "                 kde=False,\n",
    "                 color='r',\n",
    "                 label='Fraud',\n",
    "                 hist_kws={'alpha':.5})\n",
    "    plt.xticks(range(0,24))\n",
    "    plt.legend()\n",
    "    plt.show()"
   ]
  },
  {
   "cell_type": "code",
   "execution_count": 9,
   "metadata": {
    "pycharm": {
     "name": "#%%\n"
    }
   },
   "outputs": [
    {
     "name": "stdout",
     "output_type": "stream",
     "text": [
      "Normalized histogram of Legit/Fraud over hour of the day\n"
     ]
    },
    {
     "data": {
      "image/png": "[encoded data removed]",
      "text/plain": [
       "<Figure size 1080x288 with 1 Axes>"
      ]
     },
     "metadata": {
      "needs_background": "light"
     },
     "output_type": "display_data"
    },
    {
     "name": "stdout",
     "output_type": "stream",
     "text": [
      "Counts histogram of Legit/Fraud over hour of the day\n",
      "*you can barely see the Fraud cases since there are so little of them.\n"
     ]
    },
    {
     "data": {
      "image/png": "[encoded data removed]",
      "text/plain": [
       "<Figure size 1080x288 with 1 Axes>"
      ]
     },
     "metadata": {
      "needs_background": "light"
     },
     "output_type": "display_data"
    },
    {
     "name": "stdout",
     "output_type": "stream",
     "text": [
      "20.670600175857544\n"
     ]
    }
   ],
   "source": [
    "import warnings\n",
    "warnings.simplefilter(action='ignore', category=FutureWarning)\n",
    "\n",
    "start = time.time()\n",
    "print('Normalized histogram of Legit/Fraud over hour of the day')\n",
    "PlotHistogram(df,True)\n",
    "print('Counts histogram of Legit/Fraud over hour of the day')\n",
    "print('*you can barely see the Fraud cases since there are so little of them.')\n",
    "PlotHistogram(df,False)\n",
    "print(time.time()-start)"
   ]
  },
  {
   "cell_type": "code",
   "execution_count": 10,
   "metadata": {},
   "outputs": [
    {
     "name": "stdout",
     "output_type": "stream",
     "text": [
      "            ID_OPER  DT_OP_GMT ORA_OP_GMT COD_CANA  COD_CABC  COD_ESITO  \\\n",
      "0        6231261973 2016-03-14   11:27:28      ATM      6011          0   \n",
      "2        6204998318 2016-03-04   12:01:47      INT      5192          0   \n",
      "4        6214969493 2016-03-08   10:36:09      POS      5411          0   \n",
      "5        6222279626 2016-03-10   18:57:56      INT      5812          0   \n",
      "6        6209338514 2016-03-05   19:18:48      POS      5411          0   \n",
      "...             ...        ...        ...      ...       ...        ...   \n",
      "5438812  6443141702 2016-05-30   19:07:33      INT      7273          0   \n",
      "5439277  6442518610 2016-05-30   15:57:05      INT      5045          0   \n",
      "5439283  6442463929 2016-05-30   17:44:10      INT      8999          0   \n",
      "5439406  6442771077 2016-05-30   16:54:51      ATM      6011          0   \n",
      "5439830  6396976594 2016-05-13   17:07:03      ATM      6011          0   \n",
      "\n",
      "         PROCESSING_COD  IMP_TRZ_RECON FL_AUTORIZZAZIONE COD_ABC_PAES  ...  \\\n",
      "0                366100           0.00                 T          ITA  ...   \n",
      "2                  6300          17.90                 T          ITA  ...   \n",
      "4                     0          22.25                 T          ITA  ...   \n",
      "5                  6300          15.00                 T          ITA  ...   \n",
      "6                     0          13.52                 T          ITA  ...   \n",
      "...                 ...            ...               ...          ...  ...   \n",
      "5438812            6300          54.99                 T          NLD  ...   \n",
      "5439277            6300          71.93                 T          ROM  ...   \n",
      "5439283            6300         100.00                 T          ITA  ...   \n",
      "5439406           16100         100.00                 T          ITA  ...   \n",
      "5439830          366100           0.00                 T          ITA  ...   \n",
      "\n",
      "         PERC_ESITO_ALL_G  PERC_ESITO_ALL_M DEV_MEDIA_AUT_SEC_4  \\\n",
      "0                     0.0               0.0           -1.000000   \n",
      "2                     0.0               0.0            0.864804   \n",
      "4                     0.0               0.0            0.306757   \n",
      "5                     0.5               0.2            8.763520   \n",
      "6                     0.0               0.0           -0.738304   \n",
      "...                   ...               ...                 ...   \n",
      "5438812               0.0               0.0           -0.688740   \n",
      "5439277               0.0               0.0            0.000000   \n",
      "5439283               0.0               0.0            0.000000   \n",
      "5439406               0.0               0.0            0.000000   \n",
      "5439830               0.0               0.0            0.000000   \n",
      "\n",
      "        DEV_MEDIA_AUT_TO_SEC_4  MEDIA_NON_AUT_SEC_4 MEDIA_NON_AUT_SEC_3  \\\n",
      "0                    -1.000000           3433466.75        3.764000e+03   \n",
      "2                     2.990299           1375101.00        1.411049e+06   \n",
      "4                    -0.103120           1964559.50        2.573075e+06   \n",
      "5                    -0.181150           2709691.25        3.323669e+06   \n",
      "6                     0.004347           1964559.50        2.573075e+06   \n",
      "...                        ...                  ...                 ...   \n",
      "5438812              -0.688740                 0.00        0.000000e+00   \n",
      "5439277               0.000000                 0.00        0.000000e+00   \n",
      "5439283               0.000000                 0.00        0.000000e+00   \n",
      "5439406               0.000000             66881.00        6.688100e+04   \n",
      "5439830               0.000000                 0.00        0.000000e+00   \n",
      "\n",
      "         MEDIA_NON_AUT_SEC_2  TIME_NON_AUT_SEC_LAST  ANNO  MESE  \n",
      "0                     5644.5                4498501  2016     3  \n",
      "2                  2070957.5                 685390  2016     3  \n",
      "4                  3425734.0                 136317  2016     3  \n",
      "5                  3232752.5                    198  2016     3  \n",
      "6                  3425734.0                 428372  2016     3  \n",
      "...                      ...                    ...   ...   ...  \n",
      "5438812                  0.0                   1563  2016     5  \n",
      "5439277                  0.0                  22121  2016     5  \n",
      "5439283                  0.0               31104000  2016     5  \n",
      "5439406              66881.0                  31439  2016     5  \n",
      "5439830                  0.0               31104000  2016     5  \n",
      "\n",
      "[3145975 rows x 96 columns]\n"
     ]
    }
   ],
   "source": [
    "df[\"DT_OP_GMT\"] = pd.to_datetime(df[\"DT_OP_GMT\"])\n",
    "\n",
    "start_datetr = '2016-03-01'\n",
    "end_datetr = '2016-05-31'\n",
    "\n",
    "start_hr = 10\n",
    "end_hr = 23\n",
    "mezzanotte = 0\n",
    "\n",
    "mask_tr = (df['DT_OP_GMT'] >= start_datetr) & (df['DT_OP_GMT'] < end_datetr) \n",
    "df_train = df.loc[mask_tr]\n",
    "\n",
    "mask_tr = (df_train['TIME_ORA_OP'] >= start_hr) & (df_train['TIME_ORA_OP'] <= end_hr)\n",
    "df_train = df_train.loc[mask_tr]\n",
    "print(df_train)"
   ]
  },
  {
   "cell_type": "code",
   "execution_count": 12,
   "metadata": {},
   "outputs": [
    {
     "name": "stdout",
     "output_type": "stream",
     "text": [
      "            ID_OPER  DT_OP_GMT ORA_OP_GMT COD_CANA  COD_CABC  COD_ESITO  \\\n",
      "47       6490500262 2016-06-16   11:20:09      ATM      6011          0   \n",
      "48       6491527622 2016-06-16   16:48:17      POS      5411          0   \n",
      "50       6489132049 2016-06-15   21:23:07      INT      5735          0   \n",
      "51       6491520771 2016-06-16   16:46:36      POS      5411          0   \n",
      "54       6489139644 2016-06-15   21:32:28      INT      5735          0   \n",
      "...             ...        ...        ...      ...       ...        ...   \n",
      "5442898  6497225417 2016-06-18   15:55:39      ATM      6011          0   \n",
      "5442901  6497210707 2016-06-18   15:51:41      ATM      5550          0   \n",
      "5442902  6499220800 2016-06-19   15:28:30      ATM      6011          0   \n",
      "5442903  6497533879 2016-06-18   17:15:33      ATM      5550          0   \n",
      "5442904  6497533290 2016-06-18   17:15:30      ATM      5550          0   \n",
      "\n",
      "         PROCESSING_COD  IMP_TRZ_RECON FL_AUTORIZZAZIONE COD_ABC_PAES  ...  \\\n",
      "47                16100          20.00                 T          ITA  ...   \n",
      "48                    0          30.17                 T          ITA  ...   \n",
      "50                 6300           7.68                 T          LUX  ...   \n",
      "51                    0          30.17                 T          ITA  ...   \n",
      "54                 6300           2.28                 T          LUX  ...   \n",
      "...                 ...            ...               ...          ...  ...   \n",
      "5442898           16100         150.00                 T          ITA  ...   \n",
      "5442901          926100           0.00                 T          ITA  ...   \n",
      "5442902           16100          20.00                 T          ITA  ...   \n",
      "5442903          926100           0.00                 T          ITA  ...   \n",
      "5442904          306100           0.00                 T          ITA  ...   \n",
      "\n",
      "         PERC_ESITO_ALL_G  PERC_ESITO_ALL_M DEV_MEDIA_AUT_SEC_4  \\\n",
      "47                    0.0          0.200000           12.909079   \n",
      "48                    0.0          0.125000          171.794554   \n",
      "50                    0.0          0.333333           17.025361   \n",
      "51                    0.0          0.166667            5.144011   \n",
      "54                    0.0          0.250000         3699.929144   \n",
      "...                   ...               ...                 ...   \n",
      "5442898               0.0          0.000000            0.000000   \n",
      "5442901               0.0          0.000000            0.000000   \n",
      "5442902               0.0          0.000000           -1.000000   \n",
      "5442903               0.0          0.000000            0.000000   \n",
      "5442904               0.0          0.000000            0.000000   \n",
      "\n",
      "        DEV_MEDIA_AUT_TO_SEC_4  MEDIA_NON_AUT_SEC_4 MEDIA_NON_AUT_SEC_3  \\\n",
      "47                   40.810707           3403015.75        3.860554e+06   \n",
      "48                   28.940756           3403015.75        3.860554e+06   \n",
      "50                    4.609863           3403015.75        3.860554e+06   \n",
      "51                   28.984426           3403015.75        3.860554e+06   \n",
      "54                 4084.960339           3403015.75        3.860554e+06   \n",
      "...                        ...                  ...                 ...   \n",
      "5442898               0.000000                 0.00        0.000000e+00   \n",
      "5442901               0.000000                 0.00        0.000000e+00   \n",
      "5442902               0.000000                 0.00        0.000000e+00   \n",
      "5442903               0.000000                 0.00        0.000000e+00   \n",
      "5442904               0.000000                 0.00        0.000000e+00   \n",
      "\n",
      "         MEDIA_NON_AUT_SEC_2  TIME_NON_AUT_SEC_LAST  ANNO  MESE  \n",
      "47                 2874068.0                  49661  2016     6  \n",
      "48                 2874068.0                    101  2016     6  \n",
      "50                 2874068.0                 125427  2016     6  \n",
      "51                 2874068.0                  19587  2016     6  \n",
      "54                 2874068.0                    561  2016     6  \n",
      "...                      ...                    ...   ...   ...  \n",
      "5442898                  0.0                     76  2016     6  \n",
      "5442901                  0.0                      2  2016     6  \n",
      "5442902                  0.0                  84771  2016     6  \n",
      "5442903                  0.0                      3  2016     6  \n",
      "5442904                  0.0               31104000  2016     6  \n",
      "\n",
      "[167583 rows x 96 columns]\n",
      "            ID_OPER  DT_OP_GMT ORA_OP_GMT COD_CANA  COD_CABC  COD_ESITO  \\\n",
      "52       6517267568 2016-06-25   21:33:08      INT      5735          0   \n",
      "605      6520176282 2016-06-27   10:00:59      INT      5968          0   \n",
      "1037     6526204408 2016-06-29   10:16:29      POS      5946          0   \n",
      "1117     6526179755 2016-06-29   10:10:29      POS      5411          0   \n",
      "1118     6513804107 2016-06-24   17:11:32      INT      5735          0   \n",
      "...             ...        ...        ...      ...       ...        ...   \n",
      "5442888  6516667787 2016-06-25   16:48:04      POS      5691          0   \n",
      "5442894  6524388704 2016-06-28   16:28:26      ATM      6011          0   \n",
      "5442897  6527172347 2016-06-29   15:54:46      POS      5511          0   \n",
      "5442899  6518417168 2016-06-26   14:58:45      ATM      6011          0   \n",
      "5442900  6527197771 2016-06-29   16:01:02      ATM      6011          0   \n",
      "\n",
      "         PROCESSING_COD  IMP_TRZ_RECON FL_AUTORIZZAZIONE COD_ABC_PAES  ...  \\\n",
      "52                 6300           2.28                 T          LUX  ...   \n",
      "605                   0           1.00                 T          LUX  ...   \n",
      "1037                  0         100.00                 T          ITA  ...   \n",
      "1117                  0          14.70                 T          ITA  ...   \n",
      "1118               6300           0.99                 T          LUX  ...   \n",
      "...                 ...            ...               ...          ...  ...   \n",
      "5442888               0         196.00                 T          ITA  ...   \n",
      "5442894           16100          50.00                 T          ITA  ...   \n",
      "5442897               0          11.50                 T          ITA  ...   \n",
      "5442899           16100          40.00                 T          ITA  ...   \n",
      "5442900           16100          40.00                 T          ITA  ...   \n",
      "\n",
      "         PERC_ESITO_ALL_G  PERC_ESITO_ALL_M DEV_MEDIA_AUT_SEC_4  \\\n",
      "52                    0.0          0.111111           -0.978184   \n",
      "605                   0.0          0.000000            2.224835   \n",
      "1037                  0.0          0.923077           -0.967212   \n",
      "1117                  0.0          0.000000          138.043493   \n",
      "1118                  0.0          0.000000           -0.846943   \n",
      "...                   ...               ...                 ...   \n",
      "5442888               0.0          0.000000           16.959083   \n",
      "5442894               0.0          0.000000            0.286680   \n",
      "5442897               0.0          0.000000            1.565676   \n",
      "5442899               0.0          0.000000            1.572586   \n",
      "5442900               0.0          0.000000          574.515957   \n",
      "\n",
      "        DEV_MEDIA_AUT_TO_SEC_4  MEDIA_NON_AUT_SEC_4 MEDIA_NON_AUT_SEC_3  \\\n",
      "52                    1.403085           3403015.75        3.860554e+06   \n",
      "605                   2.630098           3798059.75        4.920078e+06   \n",
      "1037                 -0.993849            138550.50        1.847340e+05   \n",
      "1117                  1.122938           2993654.50        3.991535e+06   \n",
      "1118                 -0.654957           2993654.50        3.991535e+06   \n",
      "...                        ...                  ...                 ...   \n",
      "5442888              -1.000000                 0.00        0.000000e+00   \n",
      "5442894               0.000000                 0.00        0.000000e+00   \n",
      "5442897               0.000000                 0.00        0.000000e+00   \n",
      "5442899               0.000000                 0.00        0.000000e+00   \n",
      "5442900               0.000000                 0.00        0.000000e+00   \n",
      "\n",
      "         MEDIA_NON_AUT_SEC_2  TIME_NON_AUT_SEC_LAST  ANNO  MESE  \n",
      "52                 2874068.0                 794691  2016     6  \n",
      "605                7163729.5                 561800  2016     6  \n",
      "1037                277101.0                     36  2016     6  \n",
      "1117               5987230.0                    730  2016     6  \n",
      "1118               5987230.0                 624958  2016     6  \n",
      "...                      ...                    ...   ...   ...  \n",
      "5442888                  0.0                   3611  2016     6  \n",
      "5442894                  0.0                 178181  2016     6  \n",
      "5442897                  0.0                  84380  2016     6  \n",
      "5442899                  0.0                 111923  2016     6  \n",
      "5442900                  0.0                    376  2016     6  \n",
      "\n",
      "[168012 rows x 96 columns]\n"
     ]
    }
   ],
   "source": [
    "start_datevl = '2016-06-14'\n",
    "end_datevl = '2016-06-22'\n",
    "\n",
    "start_datets = '2016-06-22'\n",
    "end_datets = '2016-06-30'\n",
    "\n",
    "#greater than the start date and smaller than the end date\n",
    "mask_vl = (df['DT_OP_GMT'] >= start_datevl) & (df['DT_OP_GMT'] < end_datevl)\n",
    "df_valid = df.loc[mask_vl]\n",
    "\n",
    "#greater than the start date and smaller than the end date\n",
    "mask_vl = (df_valid['TIME_ORA_OP'] >= start_hr) & (df_valid['TIME_ORA_OP'] <= end_hr)\n",
    "df_valid = df_valid.loc[mask_vl]\n",
    "print(df_valid)\n",
    "\n",
    "#greater than the start date and smaller than the end date\n",
    "mask = (df['DT_OP_GMT'] >= start_datets) & (df['DT_OP_GMT'] < end_datets)\n",
    "df_test = df.loc[mask]\n",
    "\n",
    "#greater than the start date and smaller than the end date\n",
    "mask = (df_test['TIME_ORA_OP'] >= start_hr) & (df_test['TIME_ORA_OP'] <= end_hr)\n",
    "df_test = df_test.loc[mask]\n",
    "print(df_test)"
   ]
  },
  {
   "cell_type": "code",
   "execution_count": 13,
   "metadata": {},
   "outputs": [],
   "source": [
    "df_train = df_train[['ID_OPER', 'DT_OP_GMT', 'ORA_OP_GMT', 'COD_CANA', 'COD_CABC',\n",
    "                'PROCESSING_COD', 'IMP_TRZ_RECON', 'FL_AUTORIZZAZIONE',\n",
    "                'COD_ABC_PAES', 'ID_TIPO_CARTA', 'TIPO_INPUT_MODE',\n",
    "                'COD_CIRC', 'FLAG_FRODE', 'TRX_TYPE', 'Row_Num', 'TIME_ORA_OP','DEV_MEDIA_IMP_TC_1M','PERC_RISK_CIRC_TC_TO_1M',\n",
    "               'DEV_MEDIA_IMP_CAN_1M','DEV_MEDIA_IMP_TO_1M','PERC_OPER_NON_AUTOR_1M','PERC_OPER_NON_AUTOR_2M','MEDIA_NON_AUT_SEC_4',\n",
    "               'DEV_IMP_MEDIA_ULTIME_3', 'PERC_RISK_MCC_1M','FLAG_IMP_PREC_0','TREND_3_5','FLAG_CAMBIO_PAESE_AUT',\n",
    "               'FLAG_CAMBIO_PAESE_NON_AUT','PERC_ESITO_NSF_G','PERC_ESITO_CV2_G',\n",
    "               'PERC_ESITO_PIN_G','PERC_ESITO_SCUDO_G','PERC_ESITO_DT_SCAD_G','PERC_ESITO_ALTRO_G',\n",
    "               'DEV_MEDIA_AUT_SEC_4']]"
   ]
  },
  {
   "cell_type": "code",
   "execution_count": 16,
   "metadata": {},
   "outputs": [],
   "source": [
    "from sklearn.preprocessing import RobustScaler\n",
    "\n",
    "rob_scaler = RobustScaler()\n",
    "\n",
    "df_train['IMP_TRZ_RECON_NORM'] = rob_scaler.fit_transform(df_train['IMP_TRZ_RECON'].values.reshape(-1,1)) \n",
    "\n",
    "df_train.drop(['IMP_TRZ_RECON'], axis=1, inplace=True)"
   ]
  },
  {
   "cell_type": "code",
   "execution_count": null,
   "metadata": {},
   "outputs": [],
   "source": []
  },
  {
   "cell_type": "code",
   "execution_count": null,
   "metadata": {},
   "outputs": [],
   "source": []
  },
  {
   "cell_type": "markdown",
   "metadata": {},
   "source": [
    "Come abbiamo detto prima, ci sono diversi modi per ricampionare i dati distorti. Oltre al sottocampionamento e al sovracampionamento, c'è un approccio molto popolare chiamato SMOTE (Synthetic Minority Over-Sampling Technique), che è una combinazione di sovracampionamento e sottocampionamento, ma l'approccio di sovracampionamento non consiste nel replicare la classe di minoranza\n",
    "ma costruendo una nuova istanza di dati della classe di minoranza tramite un algoritmo.\n",
    "\n",
    "Il modo in cui sotto-campioneremo il set di dati sarà quello di creare un rapporto 50/50. Questo sarà fatto selezionando casualmente \"x\", quantità di campione dalla classe di maggioranza, essendo \"x\" il numero totale di record con la classe di minoranza.\n"
   ]
  },
  {
   "cell_type": "code",
   "execution_count": 17,
   "metadata": {
    "pycharm": {
     "is_executing": true,
     "name": "#%%\n"
    }
   },
   "outputs": [],
   "source": [
    "# Number of data points in the minority class\n",
    "df_train = df_train.reset_index()\n",
    "number_records_fraud = len(df_train[df_train.FLAG_FRODE == 1])\n",
    "fraud_indices = np.array(df_train[df_train.FLAG_FRODE == 1].index)"
   ]
  },
  {
   "cell_type": "code",
   "execution_count": 18,
   "metadata": {
    "pycharm": {
     "is_executing": true,
     "name": "#%%\n"
    }
   },
   "outputs": [
    {
     "data": {
      "text/html": [
       "<div>\n",
       "<style scoped>\n",
       "    .dataframe tbody tr th:only-of-type {\n",
       "        vertical-align: middle;\n",
       "    }\n",
       "\n",
       "    .dataframe tbody tr th {\n",
       "        vertical-align: top;\n",
       "    }\n",
       "\n",
       "    .dataframe thead th {\n",
       "        text-align: right;\n",
       "    }\n",
       "</style>\n",
       "<table border=\"1\" class=\"dataframe\">\n",
       "  <thead>\n",
       "    <tr style=\"text-align: right;\">\n",
       "      <th></th>\n",
       "      <th>index</th>\n",
       "      <th>ID_OPER</th>\n",
       "      <th>DT_OP_GMT</th>\n",
       "      <th>ORA_OP_GMT</th>\n",
       "      <th>COD_CANA</th>\n",
       "      <th>COD_CABC</th>\n",
       "      <th>PROCESSING_COD</th>\n",
       "      <th>FL_AUTORIZZAZIONE</th>\n",
       "      <th>COD_ABC_PAES</th>\n",
       "      <th>ID_TIPO_CARTA</th>\n",
       "      <th>...</th>\n",
       "      <th>FLAG_CAMBIO_PAESE_AUT</th>\n",
       "      <th>FLAG_CAMBIO_PAESE_NON_AUT</th>\n",
       "      <th>PERC_ESITO_NSF_G</th>\n",
       "      <th>PERC_ESITO_CV2_G</th>\n",
       "      <th>PERC_ESITO_PIN_G</th>\n",
       "      <th>PERC_ESITO_SCUDO_G</th>\n",
       "      <th>PERC_ESITO_DT_SCAD_G</th>\n",
       "      <th>PERC_ESITO_ALTRO_G</th>\n",
       "      <th>DEV_MEDIA_AUT_SEC_4</th>\n",
       "      <th>IMP_TRZ_RECON_NORM</th>\n",
       "    </tr>\n",
       "  </thead>\n",
       "  <tbody>\n",
       "    <tr>\n",
       "      <th>26</th>\n",
       "      <td>40</td>\n",
       "      <td>6251120205</td>\n",
       "      <td>2016-03-21</td>\n",
       "      <td>16:55:41</td>\n",
       "      <td>INT</td>\n",
       "      <td>5968</td>\n",
       "      <td>0</td>\n",
       "      <td>T</td>\n",
       "      <td>GBR</td>\n",
       "      <td>1028</td>\n",
       "      <td>...</td>\n",
       "      <td>0</td>\n",
       "      <td>0</td>\n",
       "      <td>0.0</td>\n",
       "      <td>0.0</td>\n",
       "      <td>0.0</td>\n",
       "      <td>0.0</td>\n",
       "      <td>0.0</td>\n",
       "      <td>0.0</td>\n",
       "      <td>0.061449</td>\n",
       "      <td>-0.179118</td>\n",
       "    </tr>\n",
       "    <tr>\n",
       "      <th>45</th>\n",
       "      <td>71</td>\n",
       "      <td>6277642583</td>\n",
       "      <td>2016-03-31</td>\n",
       "      <td>19:43:54</td>\n",
       "      <td>INT</td>\n",
       "      <td>5499</td>\n",
       "      <td>6300</td>\n",
       "      <td>T</td>\n",
       "      <td>GBR</td>\n",
       "      <td>1028</td>\n",
       "      <td>...</td>\n",
       "      <td>1</td>\n",
       "      <td>0</td>\n",
       "      <td>0.0</td>\n",
       "      <td>0.0</td>\n",
       "      <td>0.0</td>\n",
       "      <td>0.0</td>\n",
       "      <td>0.0</td>\n",
       "      <td>0.0</td>\n",
       "      <td>2.039607</td>\n",
       "      <td>-0.361765</td>\n",
       "    </tr>\n",
       "    <tr>\n",
       "      <th>142</th>\n",
       "      <td>211</td>\n",
       "      <td>6197611312</td>\n",
       "      <td>2016-03-01</td>\n",
       "      <td>19:47:39</td>\n",
       "      <td>INT</td>\n",
       "      <td>5968</td>\n",
       "      <td>0</td>\n",
       "      <td>T</td>\n",
       "      <td>GBR</td>\n",
       "      <td>1028</td>\n",
       "      <td>...</td>\n",
       "      <td>1</td>\n",
       "      <td>1</td>\n",
       "      <td>0.0</td>\n",
       "      <td>0.0</td>\n",
       "      <td>0.0</td>\n",
       "      <td>0.0</td>\n",
       "      <td>0.0</td>\n",
       "      <td>0.0</td>\n",
       "      <td>-0.059709</td>\n",
       "      <td>-0.258235</td>\n",
       "    </tr>\n",
       "    <tr>\n",
       "      <th>162</th>\n",
       "      <td>243</td>\n",
       "      <td>6208432253</td>\n",
       "      <td>2016-03-05</td>\n",
       "      <td>14:45:15</td>\n",
       "      <td>INT</td>\n",
       "      <td>5968</td>\n",
       "      <td>0</td>\n",
       "      <td>T</td>\n",
       "      <td>LUX</td>\n",
       "      <td>1028</td>\n",
       "      <td>...</td>\n",
       "      <td>0</td>\n",
       "      <td>0</td>\n",
       "      <td>0.0</td>\n",
       "      <td>0.0</td>\n",
       "      <td>0.0</td>\n",
       "      <td>0.0</td>\n",
       "      <td>0.0</td>\n",
       "      <td>0.0</td>\n",
       "      <td>0.187753</td>\n",
       "      <td>-0.082500</td>\n",
       "    </tr>\n",
       "    <tr>\n",
       "      <th>177</th>\n",
       "      <td>262</td>\n",
       "      <td>6226346809</td>\n",
       "      <td>2016-03-12</td>\n",
       "      <td>10:24:17</td>\n",
       "      <td>INT</td>\n",
       "      <td>5968</td>\n",
       "      <td>6300</td>\n",
       "      <td>T</td>\n",
       "      <td>GBR</td>\n",
       "      <td>1028</td>\n",
       "      <td>...</td>\n",
       "      <td>0</td>\n",
       "      <td>1</td>\n",
       "      <td>0.0</td>\n",
       "      <td>0.0</td>\n",
       "      <td>0.0</td>\n",
       "      <td>0.0</td>\n",
       "      <td>0.0</td>\n",
       "      <td>0.0</td>\n",
       "      <td>-0.768935</td>\n",
       "      <td>-0.361765</td>\n",
       "    </tr>\n",
       "    <tr>\n",
       "      <th>...</th>\n",
       "      <td>...</td>\n",
       "      <td>...</td>\n",
       "      <td>...</td>\n",
       "      <td>...</td>\n",
       "      <td>...</td>\n",
       "      <td>...</td>\n",
       "      <td>...</td>\n",
       "      <td>...</td>\n",
       "      <td>...</td>\n",
       "      <td>...</td>\n",
       "      <td>...</td>\n",
       "      <td>...</td>\n",
       "      <td>...</td>\n",
       "      <td>...</td>\n",
       "      <td>...</td>\n",
       "      <td>...</td>\n",
       "      <td>...</td>\n",
       "      <td>...</td>\n",
       "      <td>...</td>\n",
       "      <td>...</td>\n",
       "      <td>...</td>\n",
       "    </tr>\n",
       "    <tr>\n",
       "      <th>2938484</th>\n",
       "      <td>5014719</td>\n",
       "      <td>6377410067</td>\n",
       "      <td>2016-05-06</td>\n",
       "      <td>17:51:12</td>\n",
       "      <td>ATM</td>\n",
       "      <td>6011</td>\n",
       "      <td>16100</td>\n",
       "      <td>T</td>\n",
       "      <td>ITA</td>\n",
       "      <td>1063</td>\n",
       "      <td>...</td>\n",
       "      <td>0</td>\n",
       "      <td>0</td>\n",
       "      <td>0.0</td>\n",
       "      <td>0.0</td>\n",
       "      <td>0.0</td>\n",
       "      <td>0.0</td>\n",
       "      <td>0.0</td>\n",
       "      <td>0.0</td>\n",
       "      <td>285.314313</td>\n",
       "      <td>-0.082353</td>\n",
       "    </tr>\n",
       "    <tr>\n",
       "      <th>1562786</th>\n",
       "      <td>2691016</td>\n",
       "      <td>6434943772</td>\n",
       "      <td>2016-05-27</td>\n",
       "      <td>16:19:06</td>\n",
       "      <td>ATM</td>\n",
       "      <td>6011</td>\n",
       "      <td>16100</td>\n",
       "      <td>T</td>\n",
       "      <td>ITA</td>\n",
       "      <td>1063</td>\n",
       "      <td>...</td>\n",
       "      <td>0</td>\n",
       "      <td>0</td>\n",
       "      <td>0.0</td>\n",
       "      <td>0.0</td>\n",
       "      <td>0.0</td>\n",
       "      <td>0.0</td>\n",
       "      <td>0.0</td>\n",
       "      <td>0.0</td>\n",
       "      <td>-0.354157</td>\n",
       "      <td>-0.082353</td>\n",
       "    </tr>\n",
       "    <tr>\n",
       "      <th>506119</th>\n",
       "      <td>855360</td>\n",
       "      <td>6349964776</td>\n",
       "      <td>2016-04-27</td>\n",
       "      <td>14:42:25</td>\n",
       "      <td>POS</td>\n",
       "      <td>7230</td>\n",
       "      <td>0</td>\n",
       "      <td>T</td>\n",
       "      <td>ITA</td>\n",
       "      <td>1017</td>\n",
       "      <td>...</td>\n",
       "      <td>0</td>\n",
       "      <td>0</td>\n",
       "      <td>0.0</td>\n",
       "      <td>0.0</td>\n",
       "      <td>0.0</td>\n",
       "      <td>0.0</td>\n",
       "      <td>0.0</td>\n",
       "      <td>0.0</td>\n",
       "      <td>-0.840023</td>\n",
       "      <td>0.211765</td>\n",
       "    </tr>\n",
       "    <tr>\n",
       "      <th>341682</th>\n",
       "      <td>563967</td>\n",
       "      <td>6274652116</td>\n",
       "      <td>2016-03-30</td>\n",
       "      <td>17:53:17</td>\n",
       "      <td>ATM</td>\n",
       "      <td>5554</td>\n",
       "      <td>276100</td>\n",
       "      <td>T</td>\n",
       "      <td>ITA</td>\n",
       "      <td>1017</td>\n",
       "      <td>...</td>\n",
       "      <td>0</td>\n",
       "      <td>0</td>\n",
       "      <td>0.0</td>\n",
       "      <td>0.0</td>\n",
       "      <td>0.0</td>\n",
       "      <td>0.0</td>\n",
       "      <td>0.0</td>\n",
       "      <td>0.0</td>\n",
       "      <td>-0.479385</td>\n",
       "      <td>5.520588</td>\n",
       "    </tr>\n",
       "    <tr>\n",
       "      <th>1196518</th>\n",
       "      <td>2068160</td>\n",
       "      <td>6202400020</td>\n",
       "      <td>2016-03-03</td>\n",
       "      <td>13:39:02</td>\n",
       "      <td>INT</td>\n",
       "      <td>5499</td>\n",
       "      <td>6300</td>\n",
       "      <td>T</td>\n",
       "      <td>USA</td>\n",
       "      <td>1082</td>\n",
       "      <td>...</td>\n",
       "      <td>0</td>\n",
       "      <td>1</td>\n",
       "      <td>0.0</td>\n",
       "      <td>0.0</td>\n",
       "      <td>0.0</td>\n",
       "      <td>0.0</td>\n",
       "      <td>0.0</td>\n",
       "      <td>0.0</td>\n",
       "      <td>0.703793</td>\n",
       "      <td>-0.268529</td>\n",
       "    </tr>\n",
       "  </tbody>\n",
       "</table>\n",
       "<p>58856 rows × 37 columns</p>\n",
       "</div>"
      ],
      "text/plain": [
       "           index     ID_OPER  DT_OP_GMT ORA_OP_GMT COD_CANA  COD_CABC  \\\n",
       "26            40  6251120205 2016-03-21   16:55:41      INT      5968   \n",
       "45            71  6277642583 2016-03-31   19:43:54      INT      5499   \n",
       "142          211  6197611312 2016-03-01   19:47:39      INT      5968   \n",
       "162          243  6208432253 2016-03-05   14:45:15      INT      5968   \n",
       "177          262  6226346809 2016-03-12   10:24:17      INT      5968   \n",
       "...          ...         ...        ...        ...      ...       ...   \n",
       "2938484  5014719  6377410067 2016-05-06   17:51:12      ATM      6011   \n",
       "1562786  2691016  6434943772 2016-05-27   16:19:06      ATM      6011   \n",
       "506119    855360  6349964776 2016-04-27   14:42:25      POS      7230   \n",
       "341682    563967  6274652116 2016-03-30   17:53:17      ATM      5554   \n",
       "1196518  2068160  6202400020 2016-03-03   13:39:02      INT      5499   \n",
       "\n",
       "         PROCESSING_COD FL_AUTORIZZAZIONE COD_ABC_PAES  ID_TIPO_CARTA  ...  \\\n",
       "26                    0                 T          GBR           1028  ...   \n",
       "45                 6300                 T          GBR           1028  ...   \n",
       "142                   0                 T          GBR           1028  ...   \n",
       "162                   0                 T          LUX           1028  ...   \n",
       "177                6300                 T          GBR           1028  ...   \n",
       "...                 ...               ...          ...            ...  ...   \n",
       "2938484           16100                 T          ITA           1063  ...   \n",
       "1562786           16100                 T          ITA           1063  ...   \n",
       "506119                0                 T          ITA           1017  ...   \n",
       "341682           276100                 T          ITA           1017  ...   \n",
       "1196518            6300                 T          USA           1082  ...   \n",
       "\n",
       "        FLAG_CAMBIO_PAESE_AUT FLAG_CAMBIO_PAESE_NON_AUT  PERC_ESITO_NSF_G  \\\n",
       "26                          0                         0               0.0   \n",
       "45                          1                         0               0.0   \n",
       "142                         1                         1               0.0   \n",
       "162                         0                         0               0.0   \n",
       "177                         0                         1               0.0   \n",
       "...                       ...                       ...               ...   \n",
       "2938484                     0                         0               0.0   \n",
       "1562786                     0                         0               0.0   \n",
       "506119                      0                         0               0.0   \n",
       "341682                      0                         0               0.0   \n",
       "1196518                     0                         1               0.0   \n",
       "\n",
       "        PERC_ESITO_CV2_G  PERC_ESITO_PIN_G  PERC_ESITO_SCUDO_G  \\\n",
       "26                   0.0               0.0                 0.0   \n",
       "45                   0.0               0.0                 0.0   \n",
       "142                  0.0               0.0                 0.0   \n",
       "162                  0.0               0.0                 0.0   \n",
       "177                  0.0               0.0                 0.0   \n",
       "...                  ...               ...                 ...   \n",
       "2938484              0.0               0.0                 0.0   \n",
       "1562786              0.0               0.0                 0.0   \n",
       "506119               0.0               0.0                 0.0   \n",
       "341682               0.0               0.0                 0.0   \n",
       "1196518              0.0               0.0                 0.0   \n",
       "\n",
       "         PERC_ESITO_DT_SCAD_G  PERC_ESITO_ALTRO_G  DEV_MEDIA_AUT_SEC_4  \\\n",
       "26                        0.0                 0.0             0.061449   \n",
       "45                        0.0                 0.0             2.039607   \n",
       "142                       0.0                 0.0            -0.059709   \n",
       "162                       0.0                 0.0             0.187753   \n",
       "177                       0.0                 0.0            -0.768935   \n",
       "...                       ...                 ...                  ...   \n",
       "2938484                   0.0                 0.0           285.314313   \n",
       "1562786                   0.0                 0.0            -0.354157   \n",
       "506119                    0.0                 0.0            -0.840023   \n",
       "341682                    0.0                 0.0            -0.479385   \n",
       "1196518                   0.0                 0.0             0.703793   \n",
       "\n",
       "         IMP_TRZ_RECON_NORM  \n",
       "26                -0.179118  \n",
       "45                -0.361765  \n",
       "142               -0.258235  \n",
       "162               -0.082500  \n",
       "177               -0.361765  \n",
       "...                     ...  \n",
       "2938484           -0.082353  \n",
       "1562786           -0.082353  \n",
       "506119             0.211765  \n",
       "341682             5.520588  \n",
       "1196518           -0.268529  \n",
       "\n",
       "[58856 rows x 37 columns]"
      ]
     },
     "execution_count": 18,
     "metadata": {},
     "output_type": "execute_result"
    }
   ],
   "source": [
    "# Picking the indices of the normal classes\n",
    "normal_indices = df_train[df_train.FLAG_FRODE == 0].index\n",
    "\n",
    "# Out of the indices we picked, randomly select \"x\" number (number_records_fraud)\n",
    "random_normal_indices = np.random.choice(normal_indices, number_records_fraud, replace = False)\n",
    "random_normal_indices = np.array(random_normal_indices)\n",
    "\n",
    "# Appending the 2 indices\n",
    "under_sample_indices = np.concatenate([fraud_indices,random_normal_indices])\n",
    "\n",
    "# Under sample dfset\n",
    "df_train_undersample = df_train.iloc[under_sample_indices,:]\n",
    "\n",
    "#X_undersample = under_sample_df.loc[:, under_sample_df.columns != 'FLAG_FRODE']\n",
    "#y_undersample = under_sample_df.loc[:, under_sample_df.columns == 'FLAG_FRODE']\n",
    "df_train_undersample"
   ]
  },
  {
   "cell_type": "code",
   "execution_count": 19,
   "metadata": {},
   "outputs": [],
   "source": [
    "# Normalizziamo la variabile importo\n",
    "\n",
    "rob_scaler = RobustScaler()\n",
    "\n",
    "df_valid['IMP_TRZ_RECON_NORM'] = rob_scaler.fit_transform(df_valid['IMP_TRZ_RECON'].values.reshape(-1,1)) \n",
    "\n",
    "df_valid.drop(['IMP_TRZ_RECON'], axis=1, inplace=True)"
   ]
  },
  {
   "cell_type": "code",
   "execution_count": 20,
   "metadata": {},
   "outputs": [],
   "source": [
    "# Normalizziamo la variabile importo\n",
    "\n",
    "rob_scaler = RobustScaler()\n",
    "\n",
    "df_test['IMP_TRZ_RECON_NORM'] = rob_scaler.fit_transform(df_test['IMP_TRZ_RECON'].values.reshape(-1,1)) \n",
    "\n",
    "df_test.drop(['IMP_TRZ_RECON'], axis=1, inplace=True)"
   ]
  },
  {
   "cell_type": "code",
   "execution_count": 24,
   "metadata": {},
   "outputs": [],
   "source": [
    "#separating the X and the Y values\n",
    "    \n",
    "xTrain = df_train_undersample[['TIME_ORA_OP','ID_TIPO_CARTA','DEV_MEDIA_IMP_TC_1M', 'PERC_RISK_CIRC_TC_TO_1M',\n",
    "       'DEV_MEDIA_IMP_CAN_1M', 'DEV_MEDIA_IMP_TO_1M', 'PERC_OPER_NON_AUTOR_1M',\n",
    "       'PERC_OPER_NON_AUTOR_2M', 'MEDIA_NON_AUT_SEC_4',\n",
    "       'DEV_IMP_MEDIA_ULTIME_3', 'PERC_RISK_MCC_1M', 'FLAG_IMP_PREC_0',\n",
    "       'TREND_3_5','FLAG_CAMBIO_PAESE_NON_AUT',\n",
    "       'PERC_ESITO_NSF_G', 'PERC_ESITO_CV2_G', 'PERC_ESITO_PIN_G',\n",
    "       'PERC_ESITO_SCUDO_G', 'PERC_ESITO_DT_SCAD_G', 'PERC_ESITO_ALTRO_G',\n",
    "       'DEV_MEDIA_AUT_SEC_4','IMP_TRZ_RECON_NORM']]\n",
    "\n",
    "xValid = df_valid[['TIME_ORA_OP','ID_TIPO_CARTA','DEV_MEDIA_IMP_TC_1M', 'PERC_RISK_CIRC_TC_TO_1M',\n",
    "       'DEV_MEDIA_IMP_CAN_1M', 'DEV_MEDIA_IMP_TO_1M', 'PERC_OPER_NON_AUTOR_1M',\n",
    "       'PERC_OPER_NON_AUTOR_2M', 'MEDIA_NON_AUT_SEC_4',\n",
    "       'DEV_IMP_MEDIA_ULTIME_3', 'PERC_RISK_MCC_1M', 'FLAG_IMP_PREC_0',\n",
    "       'TREND_3_5','FLAG_CAMBIO_PAESE_NON_AUT',\n",
    "       'PERC_ESITO_NSF_G', 'PERC_ESITO_CV2_G', 'PERC_ESITO_PIN_G',\n",
    "       'PERC_ESITO_SCUDO_G', 'PERC_ESITO_DT_SCAD_G', 'PERC_ESITO_ALTRO_G',\n",
    "       'DEV_MEDIA_AUT_SEC_4','IMP_TRZ_RECON_NORM']]\n",
    "\n",
    "xTest = df_test[['TIME_ORA_OP','ID_TIPO_CARTA','DEV_MEDIA_IMP_TC_1M', 'PERC_RISK_CIRC_TC_TO_1M',\n",
    "       'DEV_MEDIA_IMP_CAN_1M', 'DEV_MEDIA_IMP_TO_1M', 'PERC_OPER_NON_AUTOR_1M',\n",
    "       'PERC_OPER_NON_AUTOR_2M', 'MEDIA_NON_AUT_SEC_4',\n",
    "       'DEV_IMP_MEDIA_ULTIME_3', 'PERC_RISK_MCC_1M', 'FLAG_IMP_PREC_0',\n",
    "       'TREND_3_5','FLAG_CAMBIO_PAESE_NON_AUT',\n",
    "       'PERC_ESITO_NSF_G', 'PERC_ESITO_CV2_G', 'PERC_ESITO_PIN_G',\n",
    "       'PERC_ESITO_SCUDO_G', 'PERC_ESITO_DT_SCAD_G', 'PERC_ESITO_ALTRO_G',\n",
    "       'DEV_MEDIA_AUT_SEC_4','IMP_TRZ_RECON_NORM']]\n",
    "\n",
    "yTrain = df_train_undersample[\"FLAG_FRODE\"]\n",
    "\n",
    "yValid = df_valid[\"FLAG_FRODE\"]\n",
    "\n",
    "yTest = df_test[\"FLAG_FRODE\"]"
   ]
  },
  {
   "cell_type": "code",
   "execution_count": 28,
   "metadata": {},
   "outputs": [],
   "source": [
    "from sklearn.model_selection import GridSearchCV\n",
    "# Create the parameter grid based on the results of random search \n",
    "param_grid = {\n",
    "    'bootstrap': [True],\n",
    "    'max_depth': [4,6,8],\n",
    "    'max_features': [2,3],\n",
    "    'n_estimators': [100, 200, 300]\n",
    "}\n",
    "# Create a based model\n",
    "rf = RandomForestClassifier(random_state=0)\n",
    "# Instantiate the grid search model\n",
    "grid_search = GridSearchCV(estimator = rf, param_grid = param_grid, \n",
    "                          cv = 3, n_jobs = -1, verbose = 2)"
   ]
  },
  {
   "cell_type": "code",
   "execution_count": null,
   "metadata": {},
   "outputs": [],
   "source": [
    "# Fit the grid search to the data\n",
    "grid_search.fit(xTrain, yTrain)\n",
    "grid_search.best_params_"
   ]
  },
  {
   "cell_type": "code",
   "execution_count": null,
   "metadata": {},
   "outputs": [],
   "source": []
  },
  {
   "cell_type": "code",
   "execution_count": null,
   "metadata": {},
   "outputs": [],
   "source": []
  },
  {
   "cell_type": "code",
   "execution_count": null,
   "metadata": {},
   "outputs": [],
   "source": []
  },
  {
   "cell_type": "code",
   "execution_count": null,
   "metadata": {},
   "outputs": [],
   "source": []
  },
  {
   "cell_type": "code",
   "execution_count": null,
   "metadata": {},
   "outputs": [],
   "source": []
  },
  {
   "cell_type": "code",
   "execution_count": null,
   "metadata": {},
   "outputs": [],
   "source": []
  },
  {
   "cell_type": "code",
   "execution_count": null,
   "metadata": {},
   "outputs": [],
   "source": []
  },
  {
   "cell_type": "code",
   "execution_count": null,
   "metadata": {},
   "outputs": [],
   "source": []
  },
  {
   "cell_type": "code",
   "execution_count": null,
   "metadata": {},
   "outputs": [],
   "source": []
  },
  {
   "cell_type": "code",
   "execution_count": null,
   "metadata": {},
   "outputs": [],
   "source": []
  },
  {
   "cell_type": "code",
   "execution_count": null,
   "metadata": {},
   "outputs": [],
   "source": []
  },
  {
   "cell_type": "code",
   "execution_count": null,
   "metadata": {},
   "outputs": [],
   "source": []
  },
  {
   "cell_type": "code",
   "execution_count": 171,
   "metadata": {},
   "outputs": [
    {
     "name": "stdout",
     "output_type": "stream",
     "text": [
      "0.8264666960741067\n",
      "[[18615  3915]\n",
      " [   19   121]]\n",
      "              precision    recall  f1-score   support\n",
      "\n",
      "           0       1.00      0.83      0.90     22530\n",
      "           1       0.03      0.86      0.06       140\n",
      "\n",
      "    accuracy                           0.83     22670\n",
      "   macro avg       0.51      0.85      0.48     22670\n",
      "weighted avg       0.99      0.83      0.90     22670\n",
      "\n"
     ]
    }
   ],
   "source": [
    "#For XGB\n",
    "# Make predictions on validation dataset\n",
    "XGB = XGBClassifier(random_state=0,n_jobs=-1,max_depth = 11,\n",
    " min_child_weight = 5,\n",
    " eta = 0.01,\n",
    " subsample= 1.0,\n",
    " colsample_bytree =  1.0,\n",
    " objective = 'reg:squarederror')\n",
    "\n",
    "XGB.fit(xTrain,yTrain)\n",
    "predictions_xgb = XGB.predict(xTest)\n",
    "print(accuracy_score(yTest, predictions_xgb))\n",
    "print(confusion_matrix(yTest, predictions_xgb))\n",
    "print(classification_report(yTest, predictions_xgb))"
   ]
  },
  {
   "cell_type": "code",
   "execution_count": 81,
   "metadata": {},
   "outputs": [
    {
     "name": "stdout",
     "output_type": "stream",
     "text": [
      "0.8322011468901632\n",
      "[[18739  3791]\n",
      " [   13   127]]\n",
      "              precision    recall  f1-score   support\n",
      "\n",
      "           0       1.00      0.83      0.91     22530\n",
      "           1       0.03      0.91      0.06       140\n",
      "\n",
      "    accuracy                           0.83     22670\n",
      "   macro avg       0.52      0.87      0.49     22670\n",
      "weighted avg       0.99      0.83      0.90     22670\n",
      "\n"
     ]
    }
   ],
   "source": [
    "#building the Random Forest Classifier\n",
    "from sklearn.ensemble import RandomForestClassifier \n",
    "#random forest model creation \n",
    "rfc = RandomForestClassifier(random_state=0,n_jobs=-1)\n",
    "rfc.fit(xTrain,yTrain)\n",
    "yPred = rfc.predict(xTest)\n",
    "print(accuracy_score(yTest, yPred))\n",
    "print(confusion_matrix(yTest, yPred))\n",
    "print(classification_report(yTest, yPred))"
   ]
  },
  {
   "cell_type": "code",
   "execution_count": 82,
   "metadata": {},
   "outputs": [
    {
     "name": "stdout",
     "output_type": "stream",
     "text": [
      "0.8406263784737539\n",
      "[[18947  3583]\n",
      " [   30   110]]\n",
      "              precision    recall  f1-score   support\n",
      "\n",
      "           0       1.00      0.84      0.91     22530\n",
      "           1       0.03      0.79      0.06       140\n",
      "\n",
      "    accuracy                           0.84     22670\n",
      "   macro avg       0.51      0.81      0.49     22670\n",
      "weighted avg       0.99      0.84      0.91     22670\n",
      "\n"
     ]
    }
   ],
   "source": [
    "from sklearn.ensemble import AdaBoostClassifier\n",
    "adab = AdaBoostClassifier(n_estimators=100, random_state=0)\n",
    "adab.fit(xTrain,yTrain)\n",
    "yPred = adab.predict(xTest)\n",
    "print(accuracy_score(yTest, yPred))\n",
    "print(confusion_matrix(yTest, yPred))\n",
    "print(classification_report(yTest, yPred))"
   ]
  },
  {
   "cell_type": "code",
   "execution_count": null,
   "metadata": {},
   "outputs": [],
   "source": []
  },
  {
   "cell_type": "code",
   "execution_count": 83,
   "metadata": {},
   "outputs": [],
   "source": [
    "params = {\n",
    "    # Parameters that we are going to tune.\n",
    "    'max_depth':6,\n",
    "    'min_child_weight': 1,\n",
    "    'eta':.3,\n",
    "    'subsample': 1,\n",
    "    'colsample_bytree': 1,\n",
    "    # Other parameters\n",
    "    'objective':'reg:linear',\n",
    "}"
   ]
  },
  {
   "cell_type": "code",
   "execution_count": null,
   "metadata": {},
   "outputs": [],
   "source": []
  },
  {
   "cell_type": "code",
   "execution_count": null,
   "metadata": {},
   "outputs": [],
   "source": []
  },
  {
   "cell_type": "code",
   "execution_count": null,
   "metadata": {},
   "outputs": [],
   "source": []
  },
  {
   "cell_type": "code",
   "execution_count": 40,
   "metadata": {},
   "outputs": [
    {
     "name": "stdout",
     "output_type": "stream",
     "text": [
      "            ID_OPER  DT_OP_GMT ORA_OP_GMT COD_CANA  COD_CABC  COD_ESITO  \\\n",
      "1        6217512045 2016-03-09   09:48:09      INT      5942          0   \n",
      "3        6260986375 2016-03-25   08:29:03      INT      5968          0   \n",
      "4        6214969493 2016-03-08   10:36:09      POS      5411          0   \n",
      "7        6233723975 2016-03-15   09:55:14      POS      5411          0   \n",
      "10       6228819867 2016-03-13   10:02:40      POS      5912          0   \n",
      "...             ...        ...        ...      ...       ...        ...   \n",
      "5437120  6441468987 2016-05-30   10:06:43      ATM      5550          0   \n",
      "5437273  6441468847 2016-05-30   10:06:45      ATM      5550          0   \n",
      "5437480  6441570095 2016-05-30   10:33:53      POS      4900          0   \n",
      "5437548  6441583498 2016-05-30   10:37:43      POS      4900          0   \n",
      "5437550  6441559912 2016-05-30   10:31:01      POS      4900          0   \n",
      "\n",
      "         PROCESSING_COD  IMP_TRZ_RECON FL_AUTORIZZAZIONE COD_ABC_PAES  ...  \\\n",
      "1                  6300           9.35                 T          ITA  ...   \n",
      "3                  6300           9.99                 T          NLD  ...   \n",
      "4                     0          22.25                 T          ITA  ...   \n",
      "7                     0           9.58                 T          ITA  ...   \n",
      "10                    0           7.80                 T          ITA  ...   \n",
      "...                 ...            ...               ...          ...  ...   \n",
      "5437120          306100           0.00                 T          ITA  ...   \n",
      "5437273          926100           0.00                 T          ITA  ...   \n",
      "5437480           16200        1238.47                 T          ITA  ...   \n",
      "5437548           16200        1000.00                 T          ITA  ...   \n",
      "5437550            6200         358.96                 T          ITA  ...   \n",
      "\n",
      "         PERC_ESITO_ALL_G  PERC_ESITO_ALL_M DEV_MEDIA_AUT_SEC_4  \\\n",
      "1                     0.0          0.000000            2.418578   \n",
      "3                     0.0          0.000000           -0.279195   \n",
      "4                     0.0          0.000000            0.306757   \n",
      "7                     0.0          0.142857           -0.178569   \n",
      "10                    0.0          0.166667           -0.525783   \n",
      "...                   ...               ...                 ...   \n",
      "5437120               0.0          0.000000            0.000000   \n",
      "5437273               0.0          0.000000            0.000000   \n",
      "5437480               0.0          0.000000            0.000000   \n",
      "5437548               0.0          0.000000           -1.000000   \n",
      "5437550               0.0          0.000000            0.000000   \n",
      "\n",
      "        DEV_MEDIA_AUT_TO_SEC_4  MEDIA_NON_AUT_SEC_4 MEDIA_NON_AUT_SEC_3  \\\n",
      "1                     1.092245           1375101.00        1.411049e+06   \n",
      "3                    -0.279195           1375101.00        1.411049e+06   \n",
      "4                    -0.103120           1964559.50        2.573075e+06   \n",
      "7                     4.505311           2709691.25        3.323669e+06   \n",
      "10                    8.683775           2709691.25        3.323669e+06   \n",
      "...                        ...                  ...                 ...   \n",
      "5437120               0.000000                 0.00        0.000000e+00   \n",
      "5437273               0.000000                 0.00        0.000000e+00   \n",
      "5437480               0.000000                 0.00        0.000000e+00   \n",
      "5437548              -1.000000                 0.00        0.000000e+00   \n",
      "5437550               0.000000                 0.00        0.000000e+00   \n",
      "\n",
      "         MEDIA_NON_AUT_SEC_2  TIME_NON_AUT_SEC_LAST  ANNO  MESE  \n",
      "1                  2070957.5                 423982  2016     3  \n",
      "3                  2070957.5                1377654  2016     3  \n",
      "4                  3425734.0                 136317  2016     3  \n",
      "7                  3232752.5                 172354  2016     3  \n",
      "10                 3232752.5                 227084  2016     3  \n",
      "...                      ...                    ...   ...   ...  \n",
      "5437120                  0.0               31104000  2016     5  \n",
      "5437273                  0.0                      2  2016     5  \n",
      "5437480                  0.0               31104000  2016     5  \n",
      "5437548                  0.0                    402  2016     5  \n",
      "5437550                  0.0               31104000  2016     5  \n",
      "\n",
      "[1698892 rows x 96 columns]\n"
     ]
    }
   ],
   "source": [
    "df[\"DT_OP_GMT\"] = pd.to_datetime(df[\"DT_OP_GMT\"])\n",
    "\n",
    "start_datetr = '2016-03-01'\n",
    "end_datetr = '2016-05-31'\n",
    "\n",
    "start_hr = 0\n",
    "end_hr = 10\n",
    "\n",
    "mask_tr = (df['DT_OP_GMT'] >= start_datetr) & (df['DT_OP_GMT'] < end_datetr) \n",
    "df_train = df.loc[mask_tr]\n",
    "\n",
    "mask_tr = (df_train['TIME_ORA_OP'] >= start_hr) & (df_train['TIME_ORA_OP'] <= end_hr)\n",
    "df_train = df_train.loc[mask_tr]\n",
    "print(df_train)"
   ]
  },
  {
   "cell_type": "code",
   "execution_count": 41,
   "metadata": {},
   "outputs": [
    {
     "name": "stdout",
     "output_type": "stream",
     "text": [
      "            ID_OPER  DT_OP_GMT ORA_OP_GMT COD_CANA  COD_CABC  COD_ESITO  \\\n",
      "632      6500461920 2016-06-20   08:32:45      INT      5499          0   \n",
      "1130     6489958646 2016-06-16   09:04:46      INT      5999          0   \n",
      "1427     6493205138 2016-06-17   10:10:27      POS      5691          0   \n",
      "1442     6493072563 2016-06-17   09:39:21      POS      5411          0   \n",
      "1720     6486132355 2016-06-15   01:06:59      INT      4899          0   \n",
      "...             ...        ...        ...      ...       ...        ...   \n",
      "5442854  6496169805 2016-06-18   09:56:04      ATM      5550          0   \n",
      "5442865  6496240268 2016-06-18   10:10:22      ATM      5550          0   \n",
      "5442866  6496240175 2016-06-18   10:10:19      ATM      5550          0   \n",
      "5442867  6496354923 2016-06-18   10:35:36      ATM      5550          0   \n",
      "5442886  6500080280 2016-06-20   08:36:36      INT      4812          0   \n",
      "\n",
      "         PROCESSING_COD  IMP_TRZ_RECON FL_AUTORIZZAZIONE COD_ABC_PAES  ...  \\\n",
      "632                6300          32.00                 T          ITA  ...   \n",
      "1130               6300          69.50                 T          LUX  ...   \n",
      "1427                  0          23.32                 T          ITA  ...   \n",
      "1442                  0          77.75                 T          ITA  ...   \n",
      "1720               6300          10.75                 T          NLD  ...   \n",
      "...                 ...            ...               ...          ...  ...   \n",
      "5442854          926100           0.00                 T          ITA  ...   \n",
      "5442865          926100           0.00                 T          ITA  ...   \n",
      "5442866          306100           0.00                 T          ITA  ...   \n",
      "5442867          306100           0.00                 T          ITA  ...   \n",
      "5442886            6300          10.00                 T          ITA  ...   \n",
      "\n",
      "         PERC_ESITO_ALL_G  PERC_ESITO_ALL_M DEV_MEDIA_AUT_SEC_4  \\\n",
      "632                   0.0          0.538462           -0.438960   \n",
      "1130                  0.0          0.000000           -0.215438   \n",
      "1427                  0.0          0.000000           57.979904   \n",
      "1442                  0.0          0.000000           -0.260392   \n",
      "1720                  0.0          0.000000           -0.240024   \n",
      "...                   ...               ...                 ...   \n",
      "5442854               0.0          0.000000            0.000000   \n",
      "5442865               0.0          0.000000            0.000000   \n",
      "5442866               0.0          0.000000            0.000000   \n",
      "5442867               0.0          0.000000            0.000000   \n",
      "5442886               0.0          0.000000            0.000000   \n",
      "\n",
      "        DEV_MEDIA_AUT_TO_SEC_4  MEDIA_NON_AUT_SEC_4 MEDIA_NON_AUT_SEC_3  \\\n",
      "632                  -0.313029            107911.00        1.169083e+05   \n",
      "1130                 -0.215438           2993654.50        3.991535e+06   \n",
      "1427                 -0.942105           5559433.75        7.412563e+06   \n",
      "1442                 -0.942066           5559433.75        7.412563e+06   \n",
      "1720                  4.920146                 0.00        0.000000e+00   \n",
      "...                        ...                  ...                 ...   \n",
      "5442854               0.000000                 0.00        0.000000e+00   \n",
      "5442865               0.000000                59.00        5.900000e+01   \n",
      "5442866               0.000000                59.00        5.900000e+01   \n",
      "5442867               0.000000                 0.00        0.000000e+00   \n",
      "5442886               0.000000                 0.00        0.000000e+00   \n",
      "\n",
      "         MEDIA_NON_AUT_SEC_2  TIME_NON_AUT_SEC_LAST  ANNO  MESE  \n",
      "632                 174460.0                 226440  2016     6  \n",
      "1130               5987230.0                 242346  2016     6  \n",
      "1427              11118804.5                   1866  2016     6  \n",
      "1442              11118804.5                 154741  2016     6  \n",
      "1720                     0.0                 289508  2016     6  \n",
      "...                      ...                    ...   ...   ...  \n",
      "5442854                  0.0                      3  2016     6  \n",
      "5442865                 59.0                      3  2016     6  \n",
      "5442866                 59.0                2760509  2016     6  \n",
      "5442867                  0.0               31104000  2016     6  \n",
      "5442886                  0.0               31104000  2016     6  \n",
      "\n",
      "[85901 rows x 96 columns]\n"
     ]
    }
   ],
   "source": [
    "start_datets = '2016-06-15'\n",
    "end_datets = '2016-06-22'\n",
    "\n",
    "#greater than the start date and smaller than the end date\n",
    "mask = (df['DT_OP_GMT'] >= start_datets) & (df['DT_OP_GMT'] < end_datets)\n",
    "df_test = df.loc[mask]\n",
    "\n",
    "#greater than the start date and smaller than the end date\n",
    "mask = (df_test['TIME_ORA_OP'] >= start_hr) & (df_test['TIME_ORA_OP'] <= end_hr)\n",
    "df_test = df_test.loc[mask]\n",
    "print(df_test)"
   ]
  },
  {
   "cell_type": "code",
   "execution_count": 42,
   "metadata": {},
   "outputs": [],
   "source": [
    "df_train = df_train[['ID_OPER', 'DT_OP_GMT', 'ORA_OP_GMT', 'COD_CANA', 'COD_CABC',\n",
    "                'PROCESSING_COD', 'IMP_TRZ_RECON', 'FL_AUTORIZZAZIONE',\n",
    "                'COD_ABC_PAES', 'ID_TIPO_CARTA', 'TIPO_INPUT_MODE',\n",
    "                'COD_CIRC', 'FLAG_FRODE', 'TRX_TYPE', 'Row_Num', 'TIME_ORA_OP','DEV_MEDIA_IMP_TC_1M','PERC_RISK_CIRC_TC_TO_1M',\n",
    "               'DEV_MEDIA_IMP_CAN_1M','DEV_MEDIA_IMP_TO_1M','PERC_OPER_NON_AUTOR_1M','PERC_OPER_NON_AUTOR_2M','MEDIA_NON_AUT_SEC_4',\n",
    "               'DEV_IMP_MEDIA_ULTIME_3', 'PERC_RISK_MCC_1M','FLAG_IMP_PREC_0','TREND_3_5','FLAG_CAMBIO_PAESE_AUT',\n",
    "               'FLAG_CAMBIO_PAESE_NON_AUT','PERC_ESITO_NSF_G','PERC_ESITO_CV2_G',\n",
    "               'PERC_ESITO_PIN_G','PERC_ESITO_SCUDO_G','PERC_ESITO_DT_SCAD_G','PERC_ESITO_ALTRO_G',\n",
    "               'DEV_MEDIA_AUT_SEC_4']]"
   ]
  },
  {
   "cell_type": "code",
   "execution_count": 43,
   "metadata": {},
   "outputs": [],
   "source": [
    "# Number of data points in the minority class\n",
    "df_train = df_train.reset_index()\n",
    "number_records_fraud = len(df_train[df_train.FLAG_FRODE == 1])\n",
    "fraud_indices = np.array(df_train[df_train.FLAG_FRODE == 1].index)"
   ]
  },
  {
   "cell_type": "code",
   "execution_count": 44,
   "metadata": {},
   "outputs": [
    {
     "data": {
      "text/html": [
       "<div>\n",
       "<style scoped>\n",
       "    .dataframe tbody tr th:only-of-type {\n",
       "        vertical-align: middle;\n",
       "    }\n",
       "\n",
       "    .dataframe tbody tr th {\n",
       "        vertical-align: top;\n",
       "    }\n",
       "\n",
       "    .dataframe thead th {\n",
       "        text-align: right;\n",
       "    }\n",
       "</style>\n",
       "<table border=\"1\" class=\"dataframe\">\n",
       "  <thead>\n",
       "    <tr style=\"text-align: right;\">\n",
       "      <th></th>\n",
       "      <th>index</th>\n",
       "      <th>ID_OPER</th>\n",
       "      <th>DT_OP_GMT</th>\n",
       "      <th>ORA_OP_GMT</th>\n",
       "      <th>COD_CANA</th>\n",
       "      <th>COD_CABC</th>\n",
       "      <th>PROCESSING_COD</th>\n",
       "      <th>IMP_TRZ_RECON</th>\n",
       "      <th>FL_AUTORIZZAZIONE</th>\n",
       "      <th>COD_ABC_PAES</th>\n",
       "      <th>...</th>\n",
       "      <th>TREND_3_5</th>\n",
       "      <th>FLAG_CAMBIO_PAESE_AUT</th>\n",
       "      <th>FLAG_CAMBIO_PAESE_NON_AUT</th>\n",
       "      <th>PERC_ESITO_NSF_G</th>\n",
       "      <th>PERC_ESITO_CV2_G</th>\n",
       "      <th>PERC_ESITO_PIN_G</th>\n",
       "      <th>PERC_ESITO_SCUDO_G</th>\n",
       "      <th>PERC_ESITO_DT_SCAD_G</th>\n",
       "      <th>PERC_ESITO_ALTRO_G</th>\n",
       "      <th>DEV_MEDIA_AUT_SEC_4</th>\n",
       "    </tr>\n",
       "  </thead>\n",
       "  <tbody>\n",
       "    <tr>\n",
       "      <th>16</th>\n",
       "      <td>38</td>\n",
       "      <td>6226002651</td>\n",
       "      <td>2016-03-12</td>\n",
       "      <td>09:16:37</td>\n",
       "      <td>INT</td>\n",
       "      <td>7399</td>\n",
       "      <td>360000</td>\n",
       "      <td>0.00</td>\n",
       "      <td>T</td>\n",
       "      <td>BMU</td>\n",
       "      <td>...</td>\n",
       "      <td>1.081081</td>\n",
       "      <td>1</td>\n",
       "      <td>0</td>\n",
       "      <td>0.0</td>\n",
       "      <td>0.0</td>\n",
       "      <td>0.0</td>\n",
       "      <td>0.0</td>\n",
       "      <td>0.0</td>\n",
       "      <td>0.0</td>\n",
       "      <td>-1.000000</td>\n",
       "    </tr>\n",
       "    <tr>\n",
       "      <th>37</th>\n",
       "      <td>112</td>\n",
       "      <td>6197847455</td>\n",
       "      <td>2016-03-02</td>\n",
       "      <td>01:47:32</td>\n",
       "      <td>INT</td>\n",
       "      <td>7995</td>\n",
       "      <td>116300</td>\n",
       "      <td>100.00</td>\n",
       "      <td>T</td>\n",
       "      <td>MLT</td>\n",
       "      <td>...</td>\n",
       "      <td>0.000000</td>\n",
       "      <td>0</td>\n",
       "      <td>0</td>\n",
       "      <td>0.0</td>\n",
       "      <td>0.0</td>\n",
       "      <td>0.0</td>\n",
       "      <td>0.0</td>\n",
       "      <td>0.0</td>\n",
       "      <td>0.0</td>\n",
       "      <td>2052.826531</td>\n",
       "    </tr>\n",
       "    <tr>\n",
       "      <th>38</th>\n",
       "      <td>113</td>\n",
       "      <td>6197847677</td>\n",
       "      <td>2016-03-02</td>\n",
       "      <td>01:46:43</td>\n",
       "      <td>INT</td>\n",
       "      <td>7995</td>\n",
       "      <td>116300</td>\n",
       "      <td>100.00</td>\n",
       "      <td>T</td>\n",
       "      <td>MLT</td>\n",
       "      <td>...</td>\n",
       "      <td>0.000000</td>\n",
       "      <td>1</td>\n",
       "      <td>0</td>\n",
       "      <td>0.0</td>\n",
       "      <td>0.0</td>\n",
       "      <td>0.0</td>\n",
       "      <td>0.0</td>\n",
       "      <td>0.0</td>\n",
       "      <td>0.0</td>\n",
       "      <td>1057.342105</td>\n",
       "    </tr>\n",
       "    <tr>\n",
       "      <th>90</th>\n",
       "      <td>262</td>\n",
       "      <td>6226346809</td>\n",
       "      <td>2016-03-12</td>\n",
       "      <td>10:24:17</td>\n",
       "      <td>INT</td>\n",
       "      <td>5968</td>\n",
       "      <td>6300</td>\n",
       "      <td>1.00</td>\n",
       "      <td>T</td>\n",
       "      <td>GBR</td>\n",
       "      <td>...</td>\n",
       "      <td>0.607226</td>\n",
       "      <td>0</td>\n",
       "      <td>1</td>\n",
       "      <td>0.0</td>\n",
       "      <td>0.0</td>\n",
       "      <td>0.0</td>\n",
       "      <td>0.0</td>\n",
       "      <td>0.0</td>\n",
       "      <td>0.0</td>\n",
       "      <td>-0.768935</td>\n",
       "    </tr>\n",
       "    <tr>\n",
       "      <th>153</th>\n",
       "      <td>492</td>\n",
       "      <td>6297689184</td>\n",
       "      <td>2016-04-08</td>\n",
       "      <td>02:07:47</td>\n",
       "      <td>INT</td>\n",
       "      <td>7995</td>\n",
       "      <td>116300</td>\n",
       "      <td>120.00</td>\n",
       "      <td>T</td>\n",
       "      <td>GBR</td>\n",
       "      <td>...</td>\n",
       "      <td>1.166159</td>\n",
       "      <td>1</td>\n",
       "      <td>0</td>\n",
       "      <td>0.5</td>\n",
       "      <td>0.0</td>\n",
       "      <td>0.0</td>\n",
       "      <td>0.5</td>\n",
       "      <td>0.0</td>\n",
       "      <td>0.0</td>\n",
       "      <td>-0.819013</td>\n",
       "    </tr>\n",
       "    <tr>\n",
       "      <th>...</th>\n",
       "      <td>...</td>\n",
       "      <td>...</td>\n",
       "      <td>...</td>\n",
       "      <td>...</td>\n",
       "      <td>...</td>\n",
       "      <td>...</td>\n",
       "      <td>...</td>\n",
       "      <td>...</td>\n",
       "      <td>...</td>\n",
       "      <td>...</td>\n",
       "      <td>...</td>\n",
       "      <td>...</td>\n",
       "      <td>...</td>\n",
       "      <td>...</td>\n",
       "      <td>...</td>\n",
       "      <td>...</td>\n",
       "      <td>...</td>\n",
       "      <td>...</td>\n",
       "      <td>...</td>\n",
       "      <td>...</td>\n",
       "      <td>...</td>\n",
       "    </tr>\n",
       "    <tr>\n",
       "      <th>536275</th>\n",
       "      <td>1643867</td>\n",
       "      <td>6339640307</td>\n",
       "      <td>2016-04-23</td>\n",
       "      <td>10:04:55</td>\n",
       "      <td>POS</td>\n",
       "      <td>5411</td>\n",
       "      <td>0</td>\n",
       "      <td>60.44</td>\n",
       "      <td>T</td>\n",
       "      <td>ITA</td>\n",
       "      <td>...</td>\n",
       "      <td>1.068813</td>\n",
       "      <td>0</td>\n",
       "      <td>0</td>\n",
       "      <td>0.0</td>\n",
       "      <td>0.0</td>\n",
       "      <td>0.0</td>\n",
       "      <td>0.0</td>\n",
       "      <td>0.0</td>\n",
       "      <td>0.0</td>\n",
       "      <td>0.725561</td>\n",
       "    </tr>\n",
       "    <tr>\n",
       "      <th>123863</th>\n",
       "      <td>413267</td>\n",
       "      <td>6372373533</td>\n",
       "      <td>2016-05-05</td>\n",
       "      <td>07:55:00</td>\n",
       "      <td>POS</td>\n",
       "      <td>4900</td>\n",
       "      <td>16200</td>\n",
       "      <td>500.00</td>\n",
       "      <td>T</td>\n",
       "      <td>ITA</td>\n",
       "      <td>...</td>\n",
       "      <td>1.086957</td>\n",
       "      <td>0</td>\n",
       "      <td>0</td>\n",
       "      <td>0.0</td>\n",
       "      <td>0.0</td>\n",
       "      <td>0.0</td>\n",
       "      <td>0.0</td>\n",
       "      <td>0.0</td>\n",
       "      <td>0.0</td>\n",
       "      <td>0.373987</td>\n",
       "    </tr>\n",
       "    <tr>\n",
       "      <th>1542398</th>\n",
       "      <td>4901879</td>\n",
       "      <td>6311353928</td>\n",
       "      <td>2016-04-13</td>\n",
       "      <td>07:07:02</td>\n",
       "      <td>ATM</td>\n",
       "      <td>6011</td>\n",
       "      <td>16100</td>\n",
       "      <td>20.00</td>\n",
       "      <td>T</td>\n",
       "      <td>ITA</td>\n",
       "      <td>...</td>\n",
       "      <td>1.349380</td>\n",
       "      <td>0</td>\n",
       "      <td>0</td>\n",
       "      <td>0.0</td>\n",
       "      <td>0.0</td>\n",
       "      <td>0.0</td>\n",
       "      <td>0.0</td>\n",
       "      <td>0.0</td>\n",
       "      <td>0.0</td>\n",
       "      <td>0.373021</td>\n",
       "    </tr>\n",
       "    <tr>\n",
       "      <th>307512</th>\n",
       "      <td>958656</td>\n",
       "      <td>6284952669</td>\n",
       "      <td>2016-04-03</td>\n",
       "      <td>07:49:59</td>\n",
       "      <td>POS</td>\n",
       "      <td>4112</td>\n",
       "      <td>0</td>\n",
       "      <td>84.60</td>\n",
       "      <td>T</td>\n",
       "      <td>ITA</td>\n",
       "      <td>...</td>\n",
       "      <td>1.409782</td>\n",
       "      <td>0</td>\n",
       "      <td>0</td>\n",
       "      <td>0.0</td>\n",
       "      <td>0.0</td>\n",
       "      <td>0.0</td>\n",
       "      <td>0.0</td>\n",
       "      <td>0.0</td>\n",
       "      <td>0.0</td>\n",
       "      <td>0.758514</td>\n",
       "    </tr>\n",
       "    <tr>\n",
       "      <th>1315900</th>\n",
       "      <td>4164965</td>\n",
       "      <td>6303804676</td>\n",
       "      <td>2016-04-10</td>\n",
       "      <td>08:33:19</td>\n",
       "      <td>ATM</td>\n",
       "      <td>5556</td>\n",
       "      <td>306100</td>\n",
       "      <td>0.00</td>\n",
       "      <td>T</td>\n",
       "      <td>ITA</td>\n",
       "      <td>...</td>\n",
       "      <td>1.040566</td>\n",
       "      <td>0</td>\n",
       "      <td>0</td>\n",
       "      <td>0.0</td>\n",
       "      <td>0.0</td>\n",
       "      <td>0.0</td>\n",
       "      <td>0.0</td>\n",
       "      <td>0.0</td>\n",
       "      <td>0.0</td>\n",
       "      <td>-1.000000</td>\n",
       "    </tr>\n",
       "  </tbody>\n",
       "</table>\n",
       "<p>21574 rows × 37 columns</p>\n",
       "</div>"
      ],
      "text/plain": [
       "           index     ID_OPER  DT_OP_GMT ORA_OP_GMT COD_CANA  COD_CABC  \\\n",
       "16            38  6226002651 2016-03-12   09:16:37      INT      7399   \n",
       "37           112  6197847455 2016-03-02   01:47:32      INT      7995   \n",
       "38           113  6197847677 2016-03-02   01:46:43      INT      7995   \n",
       "90           262  6226346809 2016-03-12   10:24:17      INT      5968   \n",
       "153          492  6297689184 2016-04-08   02:07:47      INT      7995   \n",
       "...          ...         ...        ...        ...      ...       ...   \n",
       "536275   1643867  6339640307 2016-04-23   10:04:55      POS      5411   \n",
       "123863    413267  6372373533 2016-05-05   07:55:00      POS      4900   \n",
       "1542398  4901879  6311353928 2016-04-13   07:07:02      ATM      6011   \n",
       "307512    958656  6284952669 2016-04-03   07:49:59      POS      4112   \n",
       "1315900  4164965  6303804676 2016-04-10   08:33:19      ATM      5556   \n",
       "\n",
       "         PROCESSING_COD  IMP_TRZ_RECON FL_AUTORIZZAZIONE COD_ABC_PAES  ...  \\\n",
       "16               360000           0.00                 T          BMU  ...   \n",
       "37               116300         100.00                 T          MLT  ...   \n",
       "38               116300         100.00                 T          MLT  ...   \n",
       "90                 6300           1.00                 T          GBR  ...   \n",
       "153              116300         120.00                 T          GBR  ...   \n",
       "...                 ...            ...               ...          ...  ...   \n",
       "536275                0          60.44                 T          ITA  ...   \n",
       "123863            16200         500.00                 T          ITA  ...   \n",
       "1542398           16100          20.00                 T          ITA  ...   \n",
       "307512                0          84.60                 T          ITA  ...   \n",
       "1315900          306100           0.00                 T          ITA  ...   \n",
       "\n",
       "         TREND_3_5 FLAG_CAMBIO_PAESE_AUT FLAG_CAMBIO_PAESE_NON_AUT  \\\n",
       "16        1.081081                     1                         0   \n",
       "37        0.000000                     0                         0   \n",
       "38        0.000000                     1                         0   \n",
       "90        0.607226                     0                         1   \n",
       "153       1.166159                     1                         0   \n",
       "...            ...                   ...                       ...   \n",
       "536275    1.068813                     0                         0   \n",
       "123863    1.086957                     0                         0   \n",
       "1542398   1.349380                     0                         0   \n",
       "307512    1.409782                     0                         0   \n",
       "1315900   1.040566                     0                         0   \n",
       "\n",
       "         PERC_ESITO_NSF_G PERC_ESITO_CV2_G  PERC_ESITO_PIN_G  \\\n",
       "16                    0.0              0.0               0.0   \n",
       "37                    0.0              0.0               0.0   \n",
       "38                    0.0              0.0               0.0   \n",
       "90                    0.0              0.0               0.0   \n",
       "153                   0.5              0.0               0.0   \n",
       "...                   ...              ...               ...   \n",
       "536275                0.0              0.0               0.0   \n",
       "123863                0.0              0.0               0.0   \n",
       "1542398               0.0              0.0               0.0   \n",
       "307512                0.0              0.0               0.0   \n",
       "1315900               0.0              0.0               0.0   \n",
       "\n",
       "         PERC_ESITO_SCUDO_G  PERC_ESITO_DT_SCAD_G  PERC_ESITO_ALTRO_G  \\\n",
       "16                      0.0                   0.0                 0.0   \n",
       "37                      0.0                   0.0                 0.0   \n",
       "38                      0.0                   0.0                 0.0   \n",
       "90                      0.0                   0.0                 0.0   \n",
       "153                     0.5                   0.0                 0.0   \n",
       "...                     ...                   ...                 ...   \n",
       "536275                  0.0                   0.0                 0.0   \n",
       "123863                  0.0                   0.0                 0.0   \n",
       "1542398                 0.0                   0.0                 0.0   \n",
       "307512                  0.0                   0.0                 0.0   \n",
       "1315900                 0.0                   0.0                 0.0   \n",
       "\n",
       "         DEV_MEDIA_AUT_SEC_4  \n",
       "16                 -1.000000  \n",
       "37               2052.826531  \n",
       "38               1057.342105  \n",
       "90                 -0.768935  \n",
       "153                -0.819013  \n",
       "...                      ...  \n",
       "536275              0.725561  \n",
       "123863              0.373987  \n",
       "1542398             0.373021  \n",
       "307512              0.758514  \n",
       "1315900            -1.000000  \n",
       "\n",
       "[21574 rows x 37 columns]"
      ]
     },
     "execution_count": 44,
     "metadata": {},
     "output_type": "execute_result"
    }
   ],
   "source": [
    "# Picking the indices of the normal classes\n",
    "normal_indices = df_train[df_train.FLAG_FRODE == 0].index\n",
    "\n",
    "# Out of the indices we picked, randomly select \"x\" number (number_records_fraud)\n",
    "random_normal_indices = np.random.choice(normal_indices, number_records_fraud, replace = False)\n",
    "random_normal_indices = np.array(random_normal_indices)\n",
    "\n",
    "# Appending the 2 indices\n",
    "under_sample_indices = np.concatenate([fraud_indices,random_normal_indices])\n",
    "\n",
    "# Under sample dfset\n",
    "df_train_undersample = df_train.iloc[under_sample_indices,:]\n",
    "\n",
    "#X_undersample = under_sample_df.loc[:, under_sample_df.columns != 'FLAG_FRODE']\n",
    "#y_undersample = under_sample_df.loc[:, under_sample_df.columns == 'FLAG_FRODE']\n",
    "df_train_undersample"
   ]
  },
  {
   "cell_type": "code",
   "execution_count": 45,
   "metadata": {},
   "outputs": [],
   "source": [
    "#separating the X and the Y values\n",
    "    \n",
    "xTrain = df_train_undersample[['TIME_ORA_OP','ID_TIPO_CARTA','DEV_MEDIA_IMP_TC_1M', 'PERC_RISK_CIRC_TC_TO_1M',\n",
    "       'DEV_MEDIA_IMP_CAN_1M', 'DEV_MEDIA_IMP_TO_1M', 'PERC_OPER_NON_AUTOR_1M',\n",
    "       'PERC_OPER_NON_AUTOR_2M', 'MEDIA_NON_AUT_SEC_4',\n",
    "       'DEV_IMP_MEDIA_ULTIME_3', 'PERC_RISK_MCC_1M', 'FLAG_IMP_PREC_0',\n",
    "       'TREND_3_5','FLAG_CAMBIO_PAESE_NON_AUT',\n",
    "       'PERC_ESITO_NSF_G', 'PERC_ESITO_CV2_G', 'PERC_ESITO_PIN_G',\n",
    "       'PERC_ESITO_SCUDO_G', 'PERC_ESITO_DT_SCAD_G', 'PERC_ESITO_ALTRO_G',\n",
    "       'DEV_MEDIA_AUT_SEC_4','IMP_TRZ_RECON']]\n",
    "\n",
    "xTest = df_test[['TIME_ORA_OP','ID_TIPO_CARTA','DEV_MEDIA_IMP_TC_1M', 'PERC_RISK_CIRC_TC_TO_1M',\n",
    "       'DEV_MEDIA_IMP_CAN_1M', 'DEV_MEDIA_IMP_TO_1M', 'PERC_OPER_NON_AUTOR_1M',\n",
    "       'PERC_OPER_NON_AUTOR_2M', 'MEDIA_NON_AUT_SEC_4',\n",
    "       'DEV_IMP_MEDIA_ULTIME_3', 'PERC_RISK_MCC_1M', 'FLAG_IMP_PREC_0',\n",
    "       'TREND_3_5','FLAG_CAMBIO_PAESE_NON_AUT',\n",
    "       'PERC_ESITO_NSF_G', 'PERC_ESITO_CV2_G', 'PERC_ESITO_PIN_G',\n",
    "       'PERC_ESITO_SCUDO_G', 'PERC_ESITO_DT_SCAD_G', 'PERC_ESITO_ALTRO_G',\n",
    "       'DEV_MEDIA_AUT_SEC_4','IMP_TRZ_RECON']]\n",
    "\n",
    "yTrain = df_train_undersample[\"FLAG_FRODE\"]\n",
    "\n",
    "yTest = df_test[\"FLAG_FRODE\"]"
   ]
  },
  {
   "cell_type": "code",
   "execution_count": 46,
   "metadata": {},
   "outputs": [
    {
     "name": "stderr",
     "output_type": "stream",
     "text": [
      "c:\\users\\fap91\\pycharmprojects\\tesitirocinio\\venv\\lib\\site-packages\\xgboost\\sklearn.py:1146: UserWarning: The use of label encoder in XGBClassifier is deprecated and will be removed in a future release. To remove this warning, do the following: 1) Pass option use_label_encoder=False when constructing XGBClassifier object; and 2) Encode your labels (y) as integers starting with 0, i.e. 0, 1, 2, ..., [num_class - 1].\n",
      "  warnings.warn(label_encoder_deprecation_msg, UserWarning)\n"
     ]
    },
    {
     "name": "stdout",
     "output_type": "stream",
     "text": [
      "[17:14:13] WARNING: C:/Users/Administrator/workspace/xgboost-win64_release_1.4.0/src/learner.cc:1095: Starting in XGBoost 1.3.0, the default evaluation metric used with the objective 'binary:logistic' was changed from 'error' to 'logloss'. Explicitly set eval_metric if you'd like to restore the old behavior.\n",
      "0.8859850292778897\n",
      "[[75709  9756]\n",
      " [   38   398]]\n",
      "              precision    recall  f1-score   support\n",
      "\n",
      "           0       1.00      0.89      0.94     85465\n",
      "           1       0.04      0.91      0.08       436\n",
      "\n",
      "    accuracy                           0.89     85901\n",
      "   macro avg       0.52      0.90      0.51     85901\n",
      "weighted avg       0.99      0.89      0.93     85901\n",
      "\n"
     ]
    }
   ],
   "source": [
    "#For XGB\n",
    "# Make predictions on validation dataset\n",
    "XGB = XGBClassifier(random_state=0,n_jobs=-1)\n",
    "XGB.fit(xTrain,yTrain)\n",
    "predictions_xgb = XGB.predict(xTest)\n",
    "print(accuracy_score(yTest, predictions_xgb))\n",
    "print(confusion_matrix(yTest, predictions_xgb))\n",
    "print(classification_report(yTest, predictions_xgb))"
   ]
  },
  {
   "cell_type": "code",
   "execution_count": null,
   "metadata": {},
   "outputs": [],
   "source": []
  },
  {
   "cell_type": "code",
   "execution_count": null,
   "metadata": {},
   "outputs": [],
   "source": []
  },
  {
   "cell_type": "code",
   "execution_count": 58,
   "metadata": {},
   "outputs": [
    {
     "name": "stdout",
     "output_type": "stream",
     "text": [
      "            ID_OPER  DT_OP_GMT ORA_OP_GMT COD_CANA  COD_CABC  COD_ESITO  \\\n",
      "0        6231261973 2016-03-14   11:27:28      ATM      6011          0   \n",
      "2        6204998318 2016-03-04   12:01:47      INT      5192          0   \n",
      "4        6214969493 2016-03-08   10:36:09      POS      5411          0   \n",
      "5        6222279626 2016-03-10   18:57:56      INT      5812          0   \n",
      "6        6209338514 2016-03-05   19:18:48      POS      5411          0   \n",
      "...             ...        ...        ...      ...       ...        ...   \n",
      "5230512  6231391942 2016-03-14   12:04:36      ATM      5550          0   \n",
      "5230565  6231409080 2016-03-14   12:10:07      ATM      5550          0   \n",
      "5230579  6231412991 2016-03-14   12:11:16      ATM      6011          0   \n",
      "5230661  6231409397 2016-03-14   12:10:08      ATM      5550          0   \n",
      "5231188  6231615016 2016-03-14   13:32:37      ATM      6011          0   \n",
      "\n",
      "         PROCESSING_COD  IMP_TRZ_RECON FL_AUTORIZZAZIONE COD_ABC_PAES  ...  \\\n",
      "0                366100           0.00                 T          ITA  ...   \n",
      "2                  6300          17.90                 T          ITA  ...   \n",
      "4                     0          22.25                 T          ITA  ...   \n",
      "5                  6300          15.00                 T          ITA  ...   \n",
      "6                     0          13.52                 T          ITA  ...   \n",
      "...                 ...            ...               ...          ...  ...   \n",
      "5230512          926100           0.00                 T          ITA  ...   \n",
      "5230565          306100           0.00                 T          ITA  ...   \n",
      "5230579           16100         100.00                 T          ITA  ...   \n",
      "5230661          926100           0.00                 T          ITA  ...   \n",
      "5231188           16100          20.00                 T          ITA  ...   \n",
      "\n",
      "         PERC_ESITO_ALL_G  PERC_ESITO_ALL_M DEV_MEDIA_AUT_SEC_4  \\\n",
      "0                     0.0               0.0           -1.000000   \n",
      "2                     0.0               0.0            0.864804   \n",
      "4                     0.0               0.0            0.306757   \n",
      "5                     0.5               0.2            8.763520   \n",
      "6                     0.0               0.0           -0.738304   \n",
      "...                   ...               ...                 ...   \n",
      "5230512               0.0               0.0            0.000000   \n",
      "5230565               0.0               0.0            0.000000   \n",
      "5230579               0.0               0.0            0.000000   \n",
      "5230661               0.0               0.0            0.000000   \n",
      "5231188               1.0               1.0            0.000000   \n",
      "\n",
      "        DEV_MEDIA_AUT_TO_SEC_4  MEDIA_NON_AUT_SEC_4 MEDIA_NON_AUT_SEC_3  \\\n",
      "0                    -1.000000           3433466.75        3.764000e+03   \n",
      "2                     2.990299           1375101.00        1.411049e+06   \n",
      "4                    -0.103120           1964559.50        2.573075e+06   \n",
      "5                    -0.181150           2709691.25        3.323669e+06   \n",
      "6                     0.004347           1964559.50        2.573075e+06   \n",
      "...                        ...                  ...                 ...   \n",
      "5230512               0.000000                48.00        4.800000e+01   \n",
      "5230565               0.000000                 0.00        0.000000e+00   \n",
      "5230579               0.000000                 0.00        0.000000e+00   \n",
      "5230661               0.000000                 0.00        0.000000e+00   \n",
      "5231188               0.000000                 0.00        0.000000e+00   \n",
      "\n",
      "         MEDIA_NON_AUT_SEC_2  TIME_NON_AUT_SEC_LAST  ANNO  MESE  \n",
      "0                     5644.5                4498501  2016     3  \n",
      "2                  2070957.5                 685390  2016     3  \n",
      "4                  3425734.0                 136317  2016     3  \n",
      "5                  3232752.5                    198  2016     3  \n",
      "6                  3425734.0                 428372  2016     3  \n",
      "...                      ...                    ...   ...   ...  \n",
      "5230512                 48.0                      4  2016     3  \n",
      "5230565                  0.0               31104000  2016     3  \n",
      "5230579                  0.0                     68  2016     3  \n",
      "5230661                  0.0                      1  2016     3  \n",
      "5231188                  0.0                   3521  2016     3  \n",
      "\n",
      "[624106 rows x 96 columns]\n"
     ]
    }
   ],
   "source": [
    "df[\"DT_OP_GMT\"] = pd.to_datetime(df[\"DT_OP_GMT\"])\n",
    "\n",
    "start_datetr = '2016-03-01'\n",
    "end_datetr = '2016-03-15'\n",
    "\n",
    "start_hr = 10\n",
    "end_hr = 23\n",
    "mezzanotte = 0\n",
    "\n",
    "mask_tr = (df['DT_OP_GMT'] >= start_datetr) & (df['DT_OP_GMT'] < end_datetr) \n",
    "df_train = df.loc[mask_tr]\n",
    "\n",
    "mask_tr = (df_train['TIME_ORA_OP'] >= start_hr) & (df_train['TIME_ORA_OP'] <= end_hr)\n",
    "df_train = df_train.loc[mask_tr]\n",
    "print(df_train)"
   ]
  },
  {
   "cell_type": "code",
   "execution_count": 59,
   "metadata": {},
   "outputs": [
    {
     "name": "stdout",
     "output_type": "stream",
     "text": [
      "            ID_OPER  DT_OP_GMT ORA_OP_GMT COD_CANA  COD_CABC  COD_ESITO  \\\n",
      "50       6489132049 2016-06-15   21:23:07      INT      5735          0   \n",
      "54       6489139644 2016-06-15   21:32:28      INT      5735          0   \n",
      "717      6488504186 2016-06-15   16:40:01      INT      5999          0   \n",
      "1445     6488011217 2016-06-15   14:40:20      POS      5411          0   \n",
      "3759     6487555050 2016-06-15   11:52:03      POS      5411          0   \n",
      "...             ...        ...        ...      ...       ...        ...   \n",
      "5442252  6487906303 2016-06-15   14:07:35      INT      5691          0   \n",
      "5442313  6488697894 2016-06-15   17:25:10      ATM      6011          0   \n",
      "5442315  6488693679 2016-06-15   17:24:02      ATM      6011          0   \n",
      "5442391  6488508609 2016-06-15   16:41:00      ATM      5550          0   \n",
      "5442393  6488620418 2016-06-15   17:06:10      POS      5411          0   \n",
      "\n",
      "         PROCESSING_COD  IMP_TRZ_RECON FL_AUTORIZZAZIONE COD_ABC_PAES  ...  \\\n",
      "50                 6300           7.68                 T          LUX  ...   \n",
      "54                 6300           2.28                 T          LUX  ...   \n",
      "717                6300          15.57                 T          LUX  ...   \n",
      "1445                  0          23.55                 T          ITA  ...   \n",
      "3759                  0          50.03                 T          ITA  ...   \n",
      "...                 ...            ...               ...          ...  ...   \n",
      "5442252            6300          61.75                 T          DEU  ...   \n",
      "5442313           16100         200.00                 T          ITA  ...   \n",
      "5442315          366100           0.00                 T          ITA  ...   \n",
      "5442391          306100           0.00                 T          ITA  ...   \n",
      "5442393               0           6.50                 T          ITA  ...   \n",
      "\n",
      "         PERC_ESITO_ALL_G  PERC_ESITO_ALL_M DEV_MEDIA_AUT_SEC_4  \\\n",
      "50                    0.0          0.333333           17.025361   \n",
      "54                    0.0          0.250000         3699.929144   \n",
      "717                   0.0          0.000000           11.999993   \n",
      "1445                  0.0          0.000000           -0.637907   \n",
      "3759                  0.0          0.000000           -0.763949   \n",
      "...                   ...               ...                 ...   \n",
      "5442252               0.0          0.000000           -0.005534   \n",
      "5442313               0.0          0.000000            0.000000   \n",
      "5442315               0.0          0.000000            0.000000   \n",
      "5442391               1.0          0.400000            0.000000   \n",
      "5442393               0.5          0.333333            0.000000   \n",
      "\n",
      "        DEV_MEDIA_AUT_TO_SEC_4  MEDIA_NON_AUT_SEC_4 MEDIA_NON_AUT_SEC_3  \\\n",
      "50                    4.609863           3403015.75        3.860554e+06   \n",
      "54                 4084.960339           3403015.75        3.860554e+06   \n",
      "717                   0.208549            274480.00        3.355637e+05   \n",
      "1445                 -0.938577           5559433.75        7.412563e+06   \n",
      "3759                  4.577683            802837.00        7.806983e+05   \n",
      "...                        ...                  ...                 ...   \n",
      "5442252              -1.000000                 0.00        0.000000e+00   \n",
      "5442313               0.000000                 0.00        0.000000e+00   \n",
      "5442315               0.000000                 0.00        0.000000e+00   \n",
      "5442391               0.000000            158545.00        1.585450e+05   \n",
      "5442393               0.000000            158545.00        1.585450e+05   \n",
      "\n",
      "         MEDIA_NON_AUT_SEC_2  TIME_NON_AUT_SEC_LAST  ANNO  MESE  \n",
      "50                 2874068.0                 125427  2016     6  \n",
      "54                 2874068.0                    561  2016     6  \n",
      "717                 432741.0                 111019  2016     6  \n",
      "1445              11118804.5                 240826  2016     6  \n",
      "3759               1170872.5                   8764  2016     6  \n",
      "...                      ...                    ...   ...   ...  \n",
      "5442252                  0.0                     49  2016     6  \n",
      "5442313                  0.0                     68  2016     6  \n",
      "5442315                  0.0               31104000  2016     6  \n",
      "5442391             158545.0                    181  2016     6  \n",
      "5442393             158545.0                   1510  2016     6  \n",
      "\n",
      "[22670 rows x 96 columns]\n"
     ]
    }
   ],
   "source": [
    "start_datets = '2016-06-15'\n",
    "end_datets = '2016-06-16'\n",
    "\n",
    "#greater than the start date and smaller than the end date\n",
    "mask = (df['DT_OP_GMT'] >= start_datets) & (df['DT_OP_GMT'] < end_datets)\n",
    "df_test = df.loc[mask]\n",
    "\n",
    "#greater than the start date and smaller than the end date\n",
    "mask = (df_test['TIME_ORA_OP'] >= start_hr) & (df_test['TIME_ORA_OP'] <= end_hr)\n",
    "df_test = df_test.loc[mask]\n",
    "print(df_test)"
   ]
  },
  {
   "cell_type": "code",
   "execution_count": 66,
   "metadata": {},
   "outputs": [],
   "source": [
    "xTrain = df_train[['TIME_ORA_OP','ID_TIPO_CARTA','DEV_MEDIA_IMP_TC_1M', 'PERC_RISK_CIRC_TC_TO_1M',\n",
    "       'DEV_MEDIA_IMP_CAN_1M', 'DEV_MEDIA_IMP_TO_1M', 'PERC_OPER_NON_AUTOR_1M',\n",
    "       'PERC_OPER_NON_AUTOR_2M', 'MEDIA_NON_AUT_SEC_4',\n",
    "       'DEV_IMP_MEDIA_ULTIME_3', 'PERC_RISK_MCC_1M', 'FLAG_IMP_PREC_0',\n",
    "       'TREND_3_5','FLAG_CAMBIO_PAESE_NON_AUT',\n",
    "       'PERC_ESITO_NSF_G', 'PERC_ESITO_CV2_G', 'PERC_ESITO_PIN_G',\n",
    "       'PERC_ESITO_SCUDO_G', 'PERC_ESITO_DT_SCAD_G', 'PERC_ESITO_ALTRO_G',\n",
    "       'DEV_MEDIA_AUT_SEC_4','IMP_TRZ_RECON']]\n",
    "\n",
    "xTest = df_test[['TIME_ORA_OP','ID_TIPO_CARTA','DEV_MEDIA_IMP_TC_1M', 'PERC_RISK_CIRC_TC_TO_1M',\n",
    "       'DEV_MEDIA_IMP_CAN_1M', 'DEV_MEDIA_IMP_TO_1M', 'PERC_OPER_NON_AUTOR_1M',\n",
    "       'PERC_OPER_NON_AUTOR_2M', 'MEDIA_NON_AUT_SEC_4',\n",
    "       'DEV_IMP_MEDIA_ULTIME_3', 'PERC_RISK_MCC_1M', 'FLAG_IMP_PREC_0',\n",
    "       'TREND_3_5','FLAG_CAMBIO_PAESE_NON_AUT',\n",
    "       'PERC_ESITO_NSF_G', 'PERC_ESITO_CV2_G', 'PERC_ESITO_PIN_G',\n",
    "       'PERC_ESITO_SCUDO_G', 'PERC_ESITO_DT_SCAD_G', 'PERC_ESITO_ALTRO_G',\n",
    "       'DEV_MEDIA_AUT_SEC_4','IMP_TRZ_RECON']]\n",
    "\n",
    "yTrain = df_train[\"FLAG_FRODE\"]\n",
    "\n",
    "yTest = df_test[\"FLAG_FRODE\"]"
   ]
  },
  {
   "cell_type": "code",
   "execution_count": 67,
   "metadata": {},
   "outputs": [
    {
     "name": "stdout",
     "output_type": "stream",
     "text": [
      "[17:23:02] WARNING: C:/Users/Administrator/workspace/xgboost-win64_release_1.4.0/src/learner.cc:1095: Starting in XGBoost 1.3.0, the default evaluation metric used with the objective 'binary:logistic' was changed from 'error' to 'logloss'. Explicitly set eval_metric if you'd like to restore the old behavior.\n",
      "0.9932509925011028\n",
      "[[22512    18]\n",
      " [  135     5]]\n",
      "              precision    recall  f1-score   support\n",
      "\n",
      "           0       0.99      1.00      1.00     22530\n",
      "           1       0.22      0.04      0.06       140\n",
      "\n",
      "    accuracy                           0.99     22670\n",
      "   macro avg       0.61      0.52      0.53     22670\n",
      "weighted avg       0.99      0.99      0.99     22670\n",
      "\n"
     ]
    }
   ],
   "source": [
    "XGB = XGBClassifier(random_state=0,n_jobs=-1)\n",
    "XGB.fit(xTrain,yTrain)\n",
    "predictions_xgb = XGB.predict(xTest)\n",
    "print(accuracy_score(yTest, predictions_xgb))\n",
    "print(confusion_matrix(yTest, predictions_xgb))\n",
    "print(classification_report(yTest, predictions_xgb))"
   ]
  },
  {
   "cell_type": "code",
   "execution_count": null,
   "metadata": {},
   "outputs": [],
   "source": []
  },
  {
   "cell_type": "code",
   "execution_count": null,
   "metadata": {},
   "outputs": [],
   "source": []
  },
  {
   "cell_type": "code",
   "execution_count": null,
   "metadata": {},
   "outputs": [],
   "source": []
  },
  {
   "cell_type": "code",
   "execution_count": null,
   "metadata": {},
   "outputs": [],
   "source": []
  },
  {
   "cell_type": "code",
   "execution_count": null,
   "metadata": {},
   "outputs": [],
   "source": []
  },
  {
   "cell_type": "code",
   "execution_count": null,
   "metadata": {},
   "outputs": [],
   "source": []
  },
  {
   "cell_type": "code",
   "execution_count": null,
   "metadata": {},
   "outputs": [],
   "source": []
  },
  {
   "cell_type": "code",
   "execution_count": null,
   "metadata": {},
   "outputs": [],
   "source": []
  },
  {
   "cell_type": "code",
   "execution_count": null,
   "metadata": {},
   "outputs": [],
   "source": []
  },
  {
   "cell_type": "code",
   "execution_count": null,
   "metadata": {},
   "outputs": [],
   "source": []
  },
  {
   "cell_type": "code",
   "execution_count": 198,
   "metadata": {
    "pycharm": {
     "is_executing": true,
     "name": "#%%\n"
    }
   },
   "outputs": [
    {
     "data": {
      "text/plain": [
       "Text(0.5, 1.0, 'Balanced Correlation Matrix')"
      ]
     },
     "execution_count": 198,
     "metadata": {},
     "output_type": "execute_result"
    },
    {
     "data": {
      "image/png": "[encoded data removed]",
      "text/plain": [
       "<Figure size 1728x1440 with 2 Axes>"
      ]
     },
     "metadata": {
      "needs_background": "light"
     },
     "output_type": "display_data"
    }
   ],
   "source": [
    "f, (ax1) = plt.subplots(1, 1, figsize=(24,20))\n",
    "\n",
    "# Entire DataFrame\n",
    "corr = under_sample_df.corr()\n",
    "sns.heatmap(corr, cmap='coolwarm_r', ax=ax1)\n",
    "ax1.set_title(\"Balanced Correlation Matrix\", fontsize=14)"
   ]
  },
  {
   "cell_type": "code",
   "execution_count": 199,
   "metadata": {
    "pycharm": {
     "is_executing": true
    }
   },
   "outputs": [
    {
     "name": "stderr",
     "output_type": "stream",
     "text": [
      "c:\\users\\fap91\\pycharmprojects\\tesitirocinio\\venv\\lib\\site-packages\\pandas\\core\\series.py:4515: SettingWithCopyWarning: \n",
      "A value is trying to be set on a copy of a slice from a DataFrame\n",
      "\n",
      "See the caveats in the documentation: https://pandas.pydata.org/pandas-docs/stable/user_guide/indexing.html#returning-a-view-versus-a-copy\n",
      "  method=method,\n"
     ]
    }
   ],
   "source": [
    "under_sample_df[\"FLAG_FRODE\"].replace({\"T\": 1, \"F\": 0}, inplace=True)"
   ]
  },
  {
   "cell_type": "code",
   "execution_count": 200,
   "metadata": {
    "pycharm": {
     "is_executing": true,
     "name": "#%%\n"
    }
   },
   "outputs": [
    {
     "name": "stdout",
     "output_type": "stream",
     "text": [
      "---- ID_OPER ---\n",
      "6375473152    1\n",
      "6428495243    1\n",
      "6276027258    1\n",
      "6241516949    1\n",
      "6211492971    1\n",
      "             ..\n",
      "6313657037    1\n",
      "6208117421    1\n",
      "6400488512    1\n",
      "6209600202    1\n",
      "6368661502    1\n",
      "Name: ID_OPER, Length: 95324, dtype: int64\n",
      "---- DT_OP_GMT ---\n",
      "2016-03-01    1271\n",
      "2016-03-22    1265\n",
      "2016-06-30    1153\n",
      "2016-03-05    1128\n",
      "2016-03-23    1122\n",
      "              ... \n",
      "2016-06-26     419\n",
      "2016-06-18     403\n",
      "2016-06-05     402\n",
      "2016-06-12     390\n",
      "2016-06-19     388\n",
      "Name: DT_OP_GMT, Length: 122, dtype: int64\n",
      "---- ORA_OP_GMT ---\n",
      "18:20:18    11\n",
      "16:43:24    10\n",
      "10:50:28    10\n",
      "17:36:15    10\n",
      "17:54:33     9\n",
      "            ..\n",
      "18:04:46     1\n",
      "09:21:08     1\n",
      "06:58:22     1\n",
      "14:56:44     1\n",
      "00:06:08     1\n",
      "Name: ORA_OP_GMT, Length: 52063, dtype: int64\n",
      "---- COD_CANA ---\n",
      "INT    54152\n",
      "POS    19936\n",
      "ATM    19287\n",
      "I3D      864\n",
      "VPO      479\n",
      "PPI      351\n",
      "BPO       99\n",
      "APP       93\n",
      "PDP       33\n",
      "PTM       28\n",
      "MBP        2\n",
      "Name: COD_CANA, dtype: int64\n",
      "---- COD_CABC ---\n",
      "6011    13996\n",
      "5734     7945\n",
      "7995     6294\n",
      "5411     6023\n",
      "7273     5528\n",
      "        ...  \n",
      "3001        1\n",
      "3012        1\n",
      "7513        1\n",
      "3136        1\n",
      "3016        1\n",
      "Name: COD_CABC, Length: 275, dtype: int64\n",
      "---- COD_ESITO ---\n",
      "0      93910\n",
      "400      799\n",
      "60       553\n",
      "2         60\n",
      "930        2\n",
      "Name: COD_ESITO, dtype: int64\n",
      "---- PROCESSING_COD ---\n",
      "6300      46936\n",
      "0         22145\n",
      "16100     13330\n",
      "306100     4616\n",
      "116300     2576\n",
      "6200       1922\n",
      "16200      1608\n",
      "366100      673\n",
      "360000      553\n",
      "276100      290\n",
      "146100      208\n",
      "6400        183\n",
      "146000      122\n",
      "110000       64\n",
      "926100       45\n",
      "376400       20\n",
      "286300       18\n",
      "926200        7\n",
      "10000         7\n",
      "170000        1\n",
      "Name: PROCESSING_COD, dtype: int64\n",
      "---- IMP_TRZ_RECON ---\n",
      "0.00      6077\n",
      "1.27      4195\n",
      "20.00     2875\n",
      "50.00     2596\n",
      "100.00    2419\n",
      "          ... \n",
      "50.17        1\n",
      "439.97       1\n",
      "495.64       1\n",
      "103.08       1\n",
      "79.45        1\n",
      "Name: IMP_TRZ_RECON, Length: 10508, dtype: int64\n",
      "---- FL_AUTORIZZAZIONE ---\n",
      "T    95324\n",
      "Name: FL_AUTORIZZAZIONE, dtype: int64\n",
      "---- COD_ABC_PAES ---\n",
      "ITA    43940\n",
      "GBR    18661\n",
      "CHN     9985\n",
      "MLT     4177\n",
      "LUX     3952\n",
      "       ...  \n",
      "URY        1\n",
      "CRI        1\n",
      "TGO        1\n",
      "MMR        1\n",
      "NER        1\n",
      "Name: COD_ABC_PAES, Length: 96, dtype: int64\n",
      "---- ID_TIPO_CARTA ---\n",
      "1028    23425\n",
      "1085    21100\n",
      "1069    13491\n",
      "1017    12882\n",
      "1063    10910\n",
      "1082     5550\n",
      "1019     2688\n",
      "1034     2540\n",
      "1036      726\n",
      "1055      529\n",
      "1048      267\n",
      "1021      262\n",
      "1087      182\n",
      "1083      103\n",
      "1062       99\n",
      "1024       78\n",
      "1068       70\n",
      "1070       67\n",
      "1049       66\n",
      "1079       43\n",
      "1020       37\n",
      "1080       37\n",
      "1027       21\n",
      "1047       18\n",
      "1035       15\n",
      "1064       15\n",
      "1031       15\n",
      "1030       15\n",
      "1037       14\n",
      "1010       14\n",
      "1039       10\n",
      "1051        6\n",
      "1052        5\n",
      "0           3\n",
      "1076        3\n",
      "1056        3\n",
      "1050        2\n",
      "1045        2\n",
      "1084        2\n",
      "1032        2\n",
      "1059        2\n",
      "1009        1\n",
      "1060        1\n",
      "1054        1\n",
      "1044        1\n",
      "1022        1\n",
      "Name: ID_TIPO_CARTA, dtype: int64\n",
      "---- ID_CARTA ---\n",
      "60915942    322\n",
      "63107735    277\n",
      "60223363    258\n",
      "55063590    254\n",
      "60559328    208\n",
      "           ... \n",
      "45913034      1\n",
      "60489198      1\n",
      "30559185      1\n",
      "61372132      1\n",
      "46403721      1\n",
      "Name: ID_CARTA, Length: 45375, dtype: int64\n",
      "---- TIPO_INPUT_MODE ---\n",
      "P    56222\n",
      "M    34868\n",
      "B     2270\n",
      "C     1230\n",
      "0      734\n",
      "Name: TIPO_INPUT_MODE, dtype: int64\n",
      "---- COD_CIRC ---\n",
      "VE    36338\n",
      "MC    26116\n",
      "DD    20979\n",
      "MS    11891\n",
      "Name: COD_CIRC, dtype: int64\n",
      "---- FLAG_FRODE ---\n",
      "0    47662\n",
      "1    47662\n",
      "Name: FLAG_FRODE, dtype: int64\n",
      "---- TRX_TYPE ---\n",
      "00    49041\n",
      "      22145\n",
      "01    14945\n",
      "30     4616\n",
      "11     2640\n",
      "36     1226\n",
      "14      330\n",
      "27      290\n",
      "92       52\n",
      "37       20\n",
      "28       18\n",
      "17        1\n",
      "Name: TRX_TYPE, dtype: int64\n",
      "---- Row_Num ---\n",
      "32      739\n",
      "30      719\n",
      "40      701\n",
      "31      701\n",
      "23      701\n",
      "       ... \n",
      "863       1\n",
      "2398      1\n",
      "2142      1\n",
      "1182      1\n",
      "1727      1\n",
      "Name: Row_Num, Length: 1150, dtype: int64\n",
      "---- TIME_ORA_OP ---\n",
      "16    6954\n",
      "10    6535\n",
      "17    6338\n",
      "9     6253\n",
      "15    6027\n",
      "8     5828\n",
      "11    5466\n",
      "18    5358\n",
      "14    5236\n",
      "12    5158\n",
      "13    4894\n",
      "19    4697\n",
      "7     4340\n",
      "20    3925\n",
      "21    3474\n",
      "6     2801\n",
      "22    2760\n",
      "23    2341\n",
      "5     1740\n",
      "0     1300\n",
      "4     1132\n",
      "1     1077\n",
      "2      874\n",
      "3      816\n",
      "Name: TIME_ORA_OP, dtype: int64\n",
      "---- MESE ---\n",
      "3    30386\n",
      "4    24941\n",
      "5    22830\n",
      "6    17167\n",
      "Name: MESE, dtype: int64\n",
      "---- DEV_MEDIA_IMP_TC_1M ---\n",
      " 0.000000     6077\n",
      " 64.974950     622\n",
      " 32.194964     607\n",
      " 33.576313     418\n",
      " 67.134828     389\n",
      "              ... \n",
      " 1.249323        1\n",
      " 2.774181        1\n",
      " 18.447532       1\n",
      "-0.162538        1\n",
      " 16.428790       1\n",
      "Name: DEV_MEDIA_IMP_TC_1M, Length: 29686, dtype: int64\n",
      "---- PERC_RISK_CIRC_TC_TO_1M ---\n",
      "0.000000    8801\n",
      "0.207845    6085\n",
      "0.237769    4736\n",
      "0.238363    4137\n",
      "0.249804    4117\n",
      "            ... \n",
      "0.000294       2\n",
      "0.005807       2\n",
      "0.002710       1\n",
      "0.004953       1\n",
      "0.002019       1\n",
      "Name: PERC_RISK_CIRC_TC_TO_1M, Length: 144, dtype: int64\n",
      "---- DEV_MEDIA_IMP_CAN_1M ---\n",
      "-1.000000    16624\n",
      " 0.000000     8036\n",
      " 0.500000      224\n",
      " 1.000000      213\n",
      "-0.500000      188\n",
      "             ...  \n",
      "-0.620369        1\n",
      "-0.901695        1\n",
      " 0.786416        1\n",
      "-0.775495        1\n",
      " 0.122122        1\n",
      "Name: DEV_MEDIA_IMP_CAN_1M, Length: 41707, dtype: int64\n",
      "---- DEV_MEDIA_IMP_TO_1M ---\n",
      "-1.000000    18214\n",
      " 0.000000     8214\n",
      " 1.000000      238\n",
      " 0.500000      230\n",
      "-0.500000      218\n",
      "             ...  \n",
      " 0.948125        1\n",
      " 2.999000        1\n",
      "-0.811406        1\n",
      " 3.078955        1\n",
      "-0.898273        1\n",
      "Name: DEV_MEDIA_IMP_TO_1M, Length: 40487, dtype: int64\n",
      "---- PERC_OPER_NON_AUTOR_1M ---\n",
      "0.000000    60442\n",
      "1.000000     1385\n",
      "0.333333     1187\n",
      "0.250000     1165\n",
      "0.200000     1136\n",
      "            ...  \n",
      "0.653846        1\n",
      "0.657534        1\n",
      "0.341463        1\n",
      "0.137255        1\n",
      "0.063291        1\n",
      "Name: PERC_OPER_NON_AUTOR_1M, Length: 1129, dtype: int64\n",
      "---- PERC_OPER_NON_AUTOR_2M ---\n",
      "0.000000    64346\n",
      "1.000000     1535\n",
      "0.500000     1413\n",
      "0.250000     1403\n",
      "0.333333     1255\n",
      "            ...  \n",
      "0.433962        1\n",
      "0.036585        1\n",
      "0.717949        1\n",
      "0.864865        1\n",
      "0.175676        1\n",
      "Name: PERC_OPER_NON_AUTOR_2M, Length: 954, dtype: int64\n",
      "---- MEDIA_NON_AUT_SEC_4 ---\n",
      "0.000000e+00    32253\n",
      "9.277450e+05      188\n",
      "6.711975e+04      172\n",
      "1.925175e+05      171\n",
      "6.261913e+06      158\n",
      "                ...  \n",
      "7.627315e+06        1\n",
      "4.018131e+06        1\n",
      "6.073655e+05        1\n",
      "1.123500e+06        1\n",
      "1.199282e+06        1\n",
      "Name: MEDIA_NON_AUT_SEC_4, Length: 31638, dtype: int64\n",
      "---- DEV_IMP_MEDIA_ULTIME_3 ---\n",
      " 0.000000    20239\n",
      "-1.000000      941\n",
      " 0.333333      579\n",
      "-0.166667      528\n",
      " 0.666667      427\n",
      "             ...  \n",
      " 0.371833        1\n",
      " 7.883961        1\n",
      " 8.710000        1\n",
      " 1.923041        1\n",
      "-0.113856        1\n",
      "Name: DEV_IMP_MEDIA_ULTIME_3, Length: 51033, dtype: int64\n",
      "---- PERC_RISK_MCC_1M ---\n",
      "0.042054    4669\n",
      "0.022356    3802\n",
      "0.083199    3327\n",
      "0.000000    3287\n",
      "0.026614    3152\n",
      "            ... \n",
      "0.006975       3\n",
      "0.011517       3\n",
      "0.002019       2\n",
      "0.024421       2\n",
      "0.027194       1\n",
      "Name: PERC_RISK_MCC_1M, Length: 234, dtype: int64\n",
      "---- FLAG_IMP_PREC_0 ---\n",
      "0    87946\n",
      "1     7378\n",
      "Name: FLAG_IMP_PREC_0, dtype: int64\n",
      "---- TREND_3_5 ---\n",
      "1.000000    8270\n",
      "0.000000    2679\n",
      "1.111111     365\n",
      "0.833333     335\n",
      "0.925926     192\n",
      "            ... \n",
      "0.744442       1\n",
      "0.691184       1\n",
      "1.075428       1\n",
      "1.416577       1\n",
      "1.321138       1\n",
      "Name: TREND_3_5, Length: 66297, dtype: int64\n",
      "---- FLAG_CAMBIO_PAESE_AUT ---\n",
      "0    79185\n",
      "1    16139\n",
      "Name: FLAG_CAMBIO_PAESE_AUT, dtype: int64\n",
      "---- FLAG_CAMBIO_PAESE_NON_AUT ---\n",
      "0    63996\n",
      "1    31328\n",
      "Name: FLAG_CAMBIO_PAESE_NON_AUT, dtype: int64\n",
      "---- PERC_ESITO_NSF_G ---\n",
      "0.000000    90893\n",
      "1.000000      884\n",
      "0.500000      721\n",
      "0.333333      485\n",
      "0.250000      301\n",
      "            ...  \n",
      "0.171429        1\n",
      "0.006135        1\n",
      "0.057692        1\n",
      "0.807692        1\n",
      "0.003049        1\n",
      "Name: PERC_ESITO_NSF_G, Length: 265, dtype: int64\n",
      "---- PERC_ESITO_CV2_G ---\n",
      "0.000000    94354\n",
      "1.000000       67\n",
      "0.500000       57\n",
      "0.333333       55\n",
      "0.250000       46\n",
      "            ...  \n",
      "0.020690        1\n",
      "0.022901        1\n",
      "0.217391        1\n",
      "0.011236        1\n",
      "0.010526        1\n",
      "Name: PERC_ESITO_CV2_G, Length: 302, dtype: int64\n",
      "---- PERC_ESITO_PIN_G ---\n",
      "0.000000    94708\n",
      "1.000000      255\n",
      "0.500000      108\n",
      "0.333333       51\n",
      "0.250000       29\n",
      "            ...  \n",
      "0.003195        1\n",
      "0.030303        1\n",
      "0.076923        1\n",
      "0.003003        1\n",
      "0.003049        1\n",
      "Name: PERC_ESITO_PIN_G, Length: 83, dtype: int64\n",
      "---- PERC_ESITO_SCUDO_G ---\n",
      "0.000000    94928\n",
      "1.000000       75\n",
      "0.500000       51\n",
      "0.333333       30\n",
      "0.250000       25\n",
      "            ...  \n",
      "0.608696        1\n",
      "0.194444        1\n",
      "0.941176        1\n",
      "0.700000        1\n",
      "0.866667        1\n",
      "Name: PERC_ESITO_SCUDO_G, Length: 110, dtype: int64\n",
      "---- PERC_ESITO_DT_SCAD_G ---\n",
      "0.000000    94550\n",
      "1.000000       65\n",
      "0.500000       47\n",
      "0.333333       34\n",
      "0.250000       32\n",
      "            ...  \n",
      "0.016393        1\n",
      "0.005376        1\n",
      "0.023810        1\n",
      "0.012658        1\n",
      "0.027778        1\n",
      "Name: PERC_ESITO_DT_SCAD_G, Length: 270, dtype: int64\n",
      "---- PERC_ESITO_ALTRO_G ---\n",
      "0.000000    95092\n",
      "0.500000       23\n",
      "1.000000       18\n",
      "0.250000       17\n",
      "0.333333       14\n",
      "            ...  \n",
      "0.002933        1\n",
      "0.173913        1\n",
      "0.003215        1\n",
      "0.307692        1\n",
      "0.003049        1\n",
      "Name: PERC_ESITO_ALTRO_G, Length: 96, dtype: int64\n",
      "---- DEV_MEDIA_AUT_SEC_4 ---\n",
      "-1.000000      6194\n",
      " 0.000000      1534\n",
      " 0.250000        23\n",
      " 0.125000        20\n",
      " 0.750000        18\n",
      "               ... \n",
      " 204.954017       1\n",
      " 108.140704       1\n",
      "-0.914319         1\n",
      "-0.784442         1\n",
      "-0.997444         1\n",
      "Name: DEV_MEDIA_AUT_SEC_4, Length: 84656, dtype: int64\n"
     ]
    }
   ],
   "source": [
    "for c in under_sample_df:\n",
    "    print (\"---- %s ---\" % c)\n",
    "    print (under_sample_df[c].value_counts())"
   ]
  },
  {
   "cell_type": "code",
   "execution_count": 201,
   "metadata": {
    "pycharm": {
     "is_executing": true,
     "name": "#%%\n"
    }
   },
   "outputs": [],
   "source": [
    "data = spark.createDataFrame(under_sample_df)"
   ]
  },
  {
   "cell_type": "code",
   "execution_count": 202,
   "metadata": {
    "pycharm": {
     "is_executing": true,
     "name": "#%%\n"
    }
   },
   "outputs": [
    {
     "name": "stdout",
     "output_type": "stream",
     "text": [
      "+----------+-----+\n",
      "|FLAG_FRODE|count|\n",
      "+----------+-----+\n",
      "|         0|47662|\n",
      "|         1|47662|\n",
      "+----------+-----+\n",
      "\n"
     ]
    }
   ],
   "source": [
    "\n",
    "classFreq = data.groupBy(\"FLAG_FRODE\").count()\n",
    "classFreq.show()\n",
    "toPlot = classFreq.toPandas()"
   ]
  },
  {
   "cell_type": "markdown",
   "metadata": {},
   "source": [
    "#### Conversione i valori in double\n"
   ]
  },
  {
   "cell_type": "code",
   "execution_count": 203,
   "metadata": {
    "pycharm": {
     "is_executing": true,
     "name": "#%%\n"
    }
   },
   "outputs": [],
   "source": [
    "for column in data.columns:\n",
    "    data = data.withColumn(column,data[column].cast(\"double\"))"
   ]
  },
  {
   "cell_type": "code",
   "execution_count": 204,
   "metadata": {
    "pycharm": {
     "is_executing": true
    }
   },
   "outputs": [
    {
     "data": {
      "text/plain": [
       "['ID_OPER',\n",
       " 'DT_OP_GMT',\n",
       " 'ORA_OP_GMT',\n",
       " 'COD_CANA',\n",
       " 'COD_CABC',\n",
       " 'COD_ESITO',\n",
       " 'PROCESSING_COD',\n",
       " 'IMP_TRZ_RECON',\n",
       " 'FL_AUTORIZZAZIONE',\n",
       " 'COD_ABC_PAES',\n",
       " 'ID_TIPO_CARTA',\n",
       " 'ID_CARTA',\n",
       " 'TIPO_INPUT_MODE',\n",
       " 'COD_CIRC',\n",
       " 'FLAG_FRODE',\n",
       " 'TRX_TYPE',\n",
       " 'Row_Num',\n",
       " 'TIME_ORA_OP',\n",
       " 'MESE',\n",
       " 'DEV_MEDIA_IMP_TC_1M',\n",
       " 'PERC_RISK_CIRC_TC_TO_1M',\n",
       " 'DEV_MEDIA_IMP_CAN_1M',\n",
       " 'DEV_MEDIA_IMP_TO_1M',\n",
       " 'PERC_OPER_NON_AUTOR_1M',\n",
       " 'PERC_OPER_NON_AUTOR_2M',\n",
       " 'MEDIA_NON_AUT_SEC_4',\n",
       " 'DEV_IMP_MEDIA_ULTIME_3',\n",
       " 'PERC_RISK_MCC_1M',\n",
       " 'FLAG_IMP_PREC_0',\n",
       " 'TREND_3_5',\n",
       " 'FLAG_CAMBIO_PAESE_AUT',\n",
       " 'FLAG_CAMBIO_PAESE_NON_AUT',\n",
       " 'PERC_ESITO_NSF_G',\n",
       " 'PERC_ESITO_CV2_G',\n",
       " 'PERC_ESITO_PIN_G',\n",
       " 'PERC_ESITO_SCUDO_G',\n",
       " 'PERC_ESITO_DT_SCAD_G',\n",
       " 'PERC_ESITO_ALTRO_G',\n",
       " 'DEV_MEDIA_AUT_SEC_4']"
      ]
     },
     "execution_count": 204,
     "metadata": {},
     "output_type": "execute_result"
    }
   ],
   "source": [
    "data.columns"
   ]
  },
  {
   "cell_type": "code",
   "execution_count": null,
   "metadata": {
    "pycharm": {
     "is_executing": true
    }
   },
   "outputs": [],
   "source": []
  },
  {
   "cell_type": "markdown",
   "metadata": {},
   "source": [
    "#### Adding index to keep track of the rows even after shuffling"
   ]
  },
  {
   "cell_type": "code",
   "execution_count": 205,
   "metadata": {
    "pycharm": {
     "is_executing": true,
     "name": "#%%\n"
    }
   },
   "outputs": [],
   "source": [
    "from pyspark.sql.window import Window\n",
    "win = Window().orderBy('TIME_ORA_OP')\n",
    "data = data.withColumn(\"idx\", row_number().over(win))"
   ]
  },
  {
   "cell_type": "markdown",
   "metadata": {},
   "source": [
    "#### Importing required Spark ML lib methods"
   ]
  },
  {
   "cell_type": "code",
   "execution_count": 206,
   "metadata": {
    "pycharm": {
     "is_executing": true,
     "name": "#%%\n"
    }
   },
   "outputs": [],
   "source": [
    "from pyspark.ml import Pipeline\n",
    "from pyspark.ml.classification import GBTClassifier\n",
    "from pyspark.ml.feature import VectorIndexer, VectorAssembler\n",
    "from pyspark.ml.evaluation import BinaryClassificationEvaluator\n",
    "from pyspark.ml.linalg import DenseVector"
   ]
  },
  {
   "cell_type": "markdown",
   "metadata": {},
   "source": [
    "#### Converting the feature columns to dense vector (required by spark) and  creating label and index columns"
   ]
  },
  {
   "cell_type": "code",
   "execution_count": 207,
   "metadata": {
    "pycharm": {
     "is_executing": true,
     "name": "#%%\n"
    }
   },
   "outputs": [
    {
     "data": {
      "text/plain": [
       "['ID_OPER',\n",
       " 'DT_OP_GMT',\n",
       " 'ORA_OP_GMT',\n",
       " 'COD_CANA',\n",
       " 'COD_CABC',\n",
       " 'COD_ESITO',\n",
       " 'PROCESSING_COD',\n",
       " 'IMP_TRZ_RECON',\n",
       " 'FL_AUTORIZZAZIONE',\n",
       " 'COD_ABC_PAES',\n",
       " 'ID_TIPO_CARTA',\n",
       " 'ID_CARTA',\n",
       " 'TIPO_INPUT_MODE',\n",
       " 'COD_CIRC',\n",
       " 'FLAG_FRODE',\n",
       " 'TRX_TYPE',\n",
       " 'Row_Num',\n",
       " 'TIME_ORA_OP',\n",
       " 'MESE',\n",
       " 'DEV_MEDIA_IMP_TC_1M',\n",
       " 'PERC_RISK_CIRC_TC_TO_1M',\n",
       " 'DEV_MEDIA_IMP_CAN_1M',\n",
       " 'DEV_MEDIA_IMP_TO_1M',\n",
       " 'PERC_OPER_NON_AUTOR_1M',\n",
       " 'PERC_OPER_NON_AUTOR_2M',\n",
       " 'MEDIA_NON_AUT_SEC_4',\n",
       " 'DEV_IMP_MEDIA_ULTIME_3',\n",
       " 'PERC_RISK_MCC_1M',\n",
       " 'FLAG_IMP_PREC_0',\n",
       " 'TREND_3_5',\n",
       " 'FLAG_CAMBIO_PAESE_AUT',\n",
       " 'FLAG_CAMBIO_PAESE_NON_AUT',\n",
       " 'PERC_ESITO_NSF_G',\n",
       " 'PERC_ESITO_CV2_G',\n",
       " 'PERC_ESITO_PIN_G',\n",
       " 'PERC_ESITO_SCUDO_G',\n",
       " 'PERC_ESITO_DT_SCAD_G',\n",
       " 'PERC_ESITO_ALTRO_G',\n",
       " 'DEV_MEDIA_AUT_SEC_4',\n",
       " 'idx']"
      ]
     },
     "execution_count": 207,
     "metadata": {},
     "output_type": "execute_result"
    }
   ],
   "source": [
    "data.columns"
   ]
  },
  {
   "cell_type": "code",
   "execution_count": 208,
   "metadata": {
    "pycharm": {
     "is_executing": true,
     "name": "#%%\n"
    }
   },
   "outputs": [],
   "source": [
    "training_df = data.rdd.map(lambda x: (DenseVector(x[19:38]),x[14],x[39]))"
   ]
  },
  {
   "cell_type": "code",
   "execution_count": 209,
   "metadata": {
    "pycharm": {
     "is_executing": true,
     "name": "#%%\n"
    }
   },
   "outputs": [],
   "source": [
    "training_df = spark.createDataFrame(training_df,[\"features\",\"label\",\"index\"])\n"
   ]
  },
  {
   "cell_type": "code",
   "execution_count": 210,
   "metadata": {
    "pycharm": {
     "is_executing": true,
     "name": "#%%\n"
    }
   },
   "outputs": [
    {
     "name": "stdout",
     "output_type": "stream",
     "text": [
      "+--------------------+-----+-----+\n",
      "|            features|label|index|\n",
      "+--------------------+-----+-----+\n",
      "|[0.434603,0.00141...|  1.0|    1|\n",
      "|[-0.858652,0.0999...|  1.0|    2|\n",
      "|[-0.174047,0.2310...|  1.0|    3|\n",
      "|[-0.669567,0.2310...|  1.0|    4|\n",
      "|[-0.449293,0.2310...|  1.0|    5|\n",
      "|[7.497878,0.23100...|  1.0|    6|\n",
      "|[0.414423,0.23100...|  1.0|    7|\n",
      "|[4.66147,0.231007...|  1.0|    8|\n",
      "|[0.060641,0.23100...|  1.0|    9|\n",
      "|[7.480883,0.23100...|  1.0|   10|\n",
      "|[7.799983,0.20784...|  1.0|   11|\n",
      "|[1.195596,0.20784...|  1.0|   12|\n",
      "|[1.120221,0.09997...|  1.0|   13|\n",
      "|[0.30885,0.033765...|  1.0|   14|\n",
      "|[0.00447,0.25113,...|  1.0|   15|\n",
      "|[0.686828,4.04E-4...|  1.0|   16|\n",
      "|[0.842068,0.23100...|  1.0|   17|\n",
      "|[-0.152081,0.2310...|  1.0|   18|\n",
      "|[0.374395,0.20784...|  1.0|   19|\n",
      "|[2.245522,0.20784...|  1.0|   20|\n",
      "+--------------------+-----+-----+\n",
      "only showing top 20 rows\n",
      "\n"
     ]
    }
   ],
   "source": [
    "training_df.show()"
   ]
  },
  {
   "cell_type": "code",
   "execution_count": 211,
   "metadata": {
    "pycharm": {
     "is_executing": true,
     "name": "#%%\n"
    }
   },
   "outputs": [
    {
     "name": "stdout",
     "output_type": "stream",
     "text": [
      "+-----+--------------------+-----+\n",
      "|index|            features|label|\n",
      "+-----+--------------------+-----+\n",
      "|    1|[0.434603,0.00141...|  1.0|\n",
      "|    2|[-0.858652,0.0999...|  1.0|\n",
      "|    3|[-0.174047,0.2310...|  1.0|\n",
      "|    4|[-0.669567,0.2310...|  1.0|\n",
      "|    5|[-0.449293,0.2310...|  1.0|\n",
      "|    6|[7.497878,0.23100...|  1.0|\n",
      "|    7|[0.414423,0.23100...|  1.0|\n",
      "|    8|[4.66147,0.231007...|  1.0|\n",
      "|    9|[0.060641,0.23100...|  1.0|\n",
      "|   10|[7.480883,0.23100...|  1.0|\n",
      "|   11|[7.799983,0.20784...|  1.0|\n",
      "|   12|[1.195596,0.20784...|  1.0|\n",
      "|   13|[1.120221,0.09997...|  1.0|\n",
      "|   14|[0.30885,0.033765...|  1.0|\n",
      "|   15|[0.00447,0.25113,...|  1.0|\n",
      "|   16|[0.686828,4.04E-4...|  1.0|\n",
      "|   17|[0.842068,0.23100...|  1.0|\n",
      "|   18|[-0.152081,0.2310...|  1.0|\n",
      "|   19|[0.374395,0.20784...|  1.0|\n",
      "|   20|[2.245522,0.20784...|  1.0|\n",
      "+-----+--------------------+-----+\n",
      "only showing top 20 rows\n",
      "\n"
     ]
    }
   ],
   "source": [
    "training_df = training_df.select(\"index\",\"features\",\"label\")\n",
    "training_df.show()"
   ]
  },
  {
   "cell_type": "markdown",
   "metadata": {},
   "source": [
    "#### Splitting data into training and testing data"
   ]
  },
  {
   "cell_type": "code",
   "execution_count": 212,
   "metadata": {
    "pycharm": {
     "is_executing": true,
     "name": "#%%\n"
    }
   },
   "outputs": [],
   "source": [
    "train_data, test_data = training_df.randomSplit([.8,.2],seed=1234)"
   ]
  },
  {
   "cell_type": "code",
   "execution_count": 213,
   "metadata": {
    "pycharm": {
     "is_executing": true,
     "name": "#%%\n"
    }
   },
   "outputs": [
    {
     "name": "stdout",
     "output_type": "stream",
     "text": [
      "+-----+-----+\n",
      "|label|count|\n",
      "+-----+-----+\n",
      "|  0.0|38158|\n",
      "|  1.0|38197|\n",
      "+-----+-----+\n",
      "\n"
     ]
    }
   ],
   "source": [
    "train_data.groupBy(\"label\").count().show()"
   ]
  },
  {
   "cell_type": "code",
   "execution_count": 214,
   "metadata": {
    "pycharm": {
     "is_executing": true,
     "name": "#%%\n"
    }
   },
   "outputs": [
    {
     "name": "stdout",
     "output_type": "stream",
     "text": [
      "+-----+-----+\n",
      "|label|count|\n",
      "+-----+-----+\n",
      "|  0.0| 9504|\n",
      "|  1.0| 9465|\n",
      "+-----+-----+\n",
      "\n"
     ]
    }
   ],
   "source": [
    "test_data.groupBy(\"label\").count().show()"
   ]
  },
  {
   "cell_type": "markdown",
   "metadata": {},
   "source": [
    "#### Creating Gradient Boosting Trees Classifier Model to fit and predict data"
   ]
  },
  {
   "attachments": {
    "Immagine%202021-05-27%20093320.png": {
     "image/png": "[encoded data removed]"
    }
   },
   "cell_type": "markdown",
   "metadata": {},
   "source": [
    "Gradient boosting (traducibile in italiano come: \"potenziamento del gradiente\") è una tecnica di machine learning di regressione e problemi di Classificazione statistica che producono un modello predittivo nella forma di un insieme di modelli predittivi deboli, tipicamente alberi di decisione. Costruisce un modello in maniera simile ai metodi di boosting, e li generalizza permettendo l'ottimizzazione di una funzione di perdita differenziabile arbitraria.\n",
    "\n",
    "Il boosting è una tecnica di machine learning che rientra nella categoria dell'Apprendimento ensemble. Nel boosting più modelli vengono generati consecutivamente dando sempre più peso agli errori effettuati nei modelli precedenti. In questo modo si creano modelli via via più \"attenti\" agli aspetti che hanno causato inesattezze nei modelli precedenti, ottenendo infine un modello aggregato avente migliore accuratezza di ciascun modello che lo costituisce\n",
    "\n",
    "![Immagine%202021-05-27%20093320.png](attachment:Immagine%202021-05-27%20093320.png)\n",
    "\n",
    "Bagging — Bootstrap Aggregation or Bagging is a ML algorithm in which a number of independent predictors are built by taking samples with replacement. The individual outcomes are then combined by average (Regression) or majority voting (Classification) to derive the final prediction. A widely used algorithm in this space is Random Forest.\n",
    "\n",
    "Boosting — Boosting is a ML algorithm in which the weak learners are converted into strong learners. Weak learners are classifiers which always perform slightly better than chance irrespective of the distribution over the training data. In Boosting, the predictions are sequential wherein each subsequent predictor learns from the errors of the previous predictors. Gradient Boosting Trees (GBT) is a commonly used method in this category.\n",
    "\n",
    "\n",
    "\n",
    "This method is sensitive to outliers. Outliers will have much larger residuals than non-outliers, so gradient boosting will focus a disproportionate amount of its attention on those points."
   ]
  },
  {
   "attachments": {
    "Immagine%202021-05-27%20093416.png": {
     "image/png": "[encoded data removed]"
    }
   },
   "cell_type": "markdown",
   "metadata": {},
   "source": [
    "![Immagine%202021-05-27%20093416.png](attachment:Immagine%202021-05-27%20093416.png)"
   ]
  },
  {
   "cell_type": "code",
   "execution_count": 215,
   "metadata": {
    "pycharm": {
     "is_executing": true,
     "name": "#%%\n"
    }
   },
   "outputs": [],
   "source": [
    "gbt = GBTClassifier(featuresCol=\"features\", maxIter=100,maxDepth=8)"
   ]
  },
  {
   "cell_type": "code",
   "execution_count": 216,
   "metadata": {
    "pycharm": {
     "is_executing": true,
     "name": "#%%\n"
    }
   },
   "outputs": [],
   "source": [
    "model = gbt.fit(train_data)"
   ]
  },
  {
   "cell_type": "code",
   "execution_count": 1,
   "metadata": {
    "pycharm": {
     "is_executing": true,
     "name": "#%%\n"
    }
   },
   "outputs": [
    {
     "ename": "NameError",
     "evalue": "name 'model' is not defined",
     "output_type": "error",
     "traceback": [
      "\u001B[1;31m---------------------------------------------------------------------------\u001B[0m",
      "\u001B[1;31mNameError\u001B[0m                                 Traceback (most recent call last)",
      "\u001B[1;32m<ipython-input-1-3efd3ef8ecbb>\u001B[0m in \u001B[0;36m<module>\u001B[1;34m\u001B[0m\n\u001B[1;32m----> 1\u001B[1;33m \u001B[0mpredictions\u001B[0m \u001B[1;33m=\u001B[0m \u001B[0mmodel\u001B[0m\u001B[1;33m.\u001B[0m\u001B[0mtransform\u001B[0m\u001B[1;33m(\u001B[0m\u001B[0mtest_data\u001B[0m\u001B[1;33m)\u001B[0m\u001B[1;33m\u001B[0m\u001B[1;33m\u001B[0m\u001B[0m\n\u001B[0m",
      "\u001B[1;31mNameError\u001B[0m: name 'model' is not defined"
     ]
    }
   ],
   "source": [
    "predictions = model.transform(test_data)"
   ]
  },
  {
   "cell_type": "markdown",
   "metadata": {},
   "source": [
    "#### Checking the count of records classified into each classes"
   ]
  },
  {
   "cell_type": "code",
   "execution_count": 218,
   "metadata": {
    "pycharm": {
     "is_executing": true,
     "name": "#%%\n"
    }
   },
   "outputs": [
    {
     "name": "stdout",
     "output_type": "stream",
     "text": [
      "+----------+-----+\n",
      "|prediction|count|\n",
      "+----------+-----+\n",
      "|       0.0| 8868|\n",
      "|       1.0|10101|\n",
      "+----------+-----+\n",
      "\n"
     ]
    }
   ],
   "source": [
    "predictions.groupBy(\"prediction\").count().show()"
   ]
  },
  {
   "cell_type": "markdown",
   "metadata": {},
   "source": [
    "#### Calculating accuracy of model"
   ]
  },
  {
   "cell_type": "code",
   "execution_count": 219,
   "metadata": {
    "pycharm": {
     "is_executing": true,
     "name": "#%%\n"
    }
   },
   "outputs": [
    {
     "data": {
      "text/plain": [
       "0.968966123864104"
      ]
     },
     "execution_count": 219,
     "metadata": {},
     "output_type": "execute_result"
    }
   ],
   "source": [
    "evaluator = BinaryClassificationEvaluator()\n",
    "evaluator.evaluate(predictions)"
   ]
  },
  {
   "cell_type": "markdown",
   "metadata": {},
   "source": [
    "#### Calculating percentage of fraud records predicted correctly"
   ]
  },
  {
   "cell_type": "code",
   "execution_count": 220,
   "metadata": {
    "pycharm": {
     "is_executing": true,
     "name": "#%%\n"
    }
   },
   "outputs": [],
   "source": [
    "predictions = predictions.withColumn(\"fraudPrediction\",when((predictions.label==1)&(predictions.prediction==1),1).otherwise(0))"
   ]
  },
  {
   "cell_type": "code",
   "execution_count": 221,
   "metadata": {
    "pycharm": {
     "is_executing": true,
     "name": "#%%\n"
    }
   },
   "outputs": [
    {
     "name": "stdout",
     "output_type": "stream",
     "text": [
      "+---------------+-----+\n",
      "|fraudPrediction|count|\n",
      "+---------------+-----+\n",
      "|              1| 8934|\n",
      "|              0|10035|\n",
      "+---------------+-----+\n",
      "\n"
     ]
    }
   ],
   "source": [
    "predictions.groupBy(\"fraudPrediction\").count().show()"
   ]
  },
  {
   "cell_type": "code",
   "execution_count": 222,
   "metadata": {
    "pycharm": {
     "is_executing": true,
     "name": "#%%\n"
    }
   },
   "outputs": [
    {
     "name": "stdout",
     "output_type": "stream",
     "text": [
      "+-----+-----+\n",
      "|label|count|\n",
      "+-----+-----+\n",
      "|  0.0| 9504|\n",
      "|  1.0| 9465|\n",
      "+-----+-----+\n",
      "\n"
     ]
    }
   ],
   "source": [
    "predictions.groupBy(\"label\").count().show()"
   ]
  },
  {
   "cell_type": "code",
   "execution_count": 223,
   "metadata": {
    "pycharm": {
     "is_executing": true,
     "name": "#%%\n"
    }
   },
   "outputs": [],
   "source": [
    "from pyspark.sql.functions import col"
   ]
  },
  {
   "cell_type": "code",
   "execution_count": 224,
   "metadata": {
    "pycharm": {
     "is_executing": true,
     "name": "#%%\n"
    }
   },
   "outputs": [],
   "source": [
    "accurateFraud = predictions.groupBy(\"fraudPrediction\").count().where(predictions.fraudPrediction==1).head()[1]"
   ]
  },
  {
   "cell_type": "code",
   "execution_count": 225,
   "metadata": {
    "pycharm": {
     "is_executing": true,
     "name": "#%%\n"
    }
   },
   "outputs": [
    {
     "data": {
      "text/plain": [
       "9465"
      ]
     },
     "execution_count": 225,
     "metadata": {},
     "output_type": "execute_result"
    }
   ],
   "source": [
    "totalFraud = predictions.groupBy(\"label\").count().where(predictions.label==1).head()[1]\n",
    "totalFraud"
   ]
  },
  {
   "cell_type": "code",
   "execution_count": 226,
   "metadata": {
    "pycharm": {
     "is_executing": true,
     "name": "#%%\n"
    }
   },
   "outputs": [],
   "source": [
    "FraudPredictionAccuracy = (accurateFraud/totalFraud)*100"
   ]
  },
  {
   "cell_type": "code",
   "execution_count": 227,
   "metadata": {
    "pycharm": {
     "is_executing": true,
     "name": "#%%\n"
    }
   },
   "outputs": [
    {
     "data": {
      "text/plain": [
       "94.38985736925515"
      ]
     },
     "execution_count": 227,
     "metadata": {},
     "output_type": "execute_result"
    }
   ],
   "source": [
    "FraudPredictionAccuracy"
   ]
  },
  {
   "cell_type": "markdown",
   "metadata": {},
   "source": [
    "#### Calculating Confusion matrix"
   ]
  },
  {
   "cell_type": "code",
   "execution_count": 228,
   "metadata": {
    "pycharm": {
     "is_executing": true,
     "name": "#%%\n"
    }
   },
   "outputs": [],
   "source": [
    "tp = predictions[(predictions.label == 1) & (predictions.prediction == 1)].count()"
   ]
  },
  {
   "cell_type": "code",
   "execution_count": 229,
   "metadata": {
    "pycharm": {
     "is_executing": true,
     "name": "#%%\n"
    }
   },
   "outputs": [],
   "source": [
    "tn = predictions[(predictions.label == 0) & (predictions.prediction == 0)].count()"
   ]
  },
  {
   "cell_type": "code",
   "execution_count": 230,
   "metadata": {
    "pycharm": {
     "is_executing": true,
     "name": "#%%\n"
    }
   },
   "outputs": [],
   "source": [
    "fp = predictions[(predictions.label == 0) & (predictions.prediction == 1)].count()"
   ]
  },
  {
   "cell_type": "code",
   "execution_count": 231,
   "metadata": {
    "pycharm": {
     "is_executing": true,
     "name": "#%%\n"
    }
   },
   "outputs": [],
   "source": [
    "fn = predictions[(predictions.label == 1) & (predictions.prediction == 0)].count()"
   ]
  },
  {
   "cell_type": "code",
   "execution_count": 232,
   "metadata": {
    "pycharm": {
     "is_executing": true,
     "name": "#%%\n"
    }
   },
   "outputs": [
    {
     "name": "stdout",
     "output_type": "stream",
     "text": [
      "True Positive:  8934 \n",
      "True Negative:  8337 \n",
      "False Positive:  1167 \n",
      "False Negative:  531\n"
     ]
    }
   ],
   "source": [
    "print(\"True Positive: \",tp,\"\\nTrue Negative: \",tn,\"\\nFalse Positive: \",fp,\"\\nFalse Negative: \",fn)"
   ]
  },
  {
   "cell_type": "markdown",
   "metadata": {},
   "source": [
    "### Recall"
   ]
  },
  {
   "cell_type": "code",
   "execution_count": 233,
   "metadata": {
    "pycharm": {
     "is_executing": true,
     "name": "#%%\n"
    }
   },
   "outputs": [
    {
     "name": "stdout",
     "output_type": "stream",
     "text": [
      "Recall:  0.9438985736925515\n"
     ]
    }
   ],
   "source": [
    "print(\"Recall: \",tp/(tp+fn))"
   ]
  },
  {
   "cell_type": "markdown",
   "metadata": {},
   "source": [
    "### Precision"
   ]
  },
  {
   "cell_type": "code",
   "execution_count": 234,
   "metadata": {
    "pycharm": {
     "is_executing": true,
     "name": "#%%\n"
    }
   },
   "outputs": [
    {
     "name": "stdout",
     "output_type": "stream",
     "text": [
      "Precision:  0.8844668844668845\n"
     ]
    }
   ],
   "source": [
    "print(\"Precision: \", tp/(tp+fp))\n",
    "\n",
    "\n"
   ]
  },
  {
   "cell_type": "code",
   "execution_count": 235,
   "metadata": {
    "pycharm": {
     "is_executing": true,
     "name": "#%%\n"
    },
    "scrolled": true
   },
   "outputs": [
    {
     "name": "stdout",
     "output_type": "stream",
     "text": [
      "F1 Score:  0.9132168046611469\n"
     ]
    }
   ],
   "source": [
    " print(\"F1 Score: \" ,tp/(tp+((fn+fp)/2)))"
   ]
  },
  {
   "cell_type": "code",
   "execution_count": null,
   "metadata": {
    "pycharm": {
     "is_executing": true
    }
   },
   "outputs": [],
   "source": []
  }
 ],
 "metadata": {
  "kernelspec": {
   "display_name": "Python 3",
   "language": "python",
   "name": "python3"
  },
  "language_info": {
   "codemirror_mode": {
    "name": "ipython",
    "version": 3
   },
   "file_extension": ".py",
   "mimetype": "text/x-python",
   "name": "python",
   "nbconvert_exporter": "python",
   "pygments_lexer": "ipython3",
   "version": "3.7.9"
  },
  "pycharm": {
   "stem_cell": {
    "cell_type": "raw",
    "metadata": {
     "collapsed": false
    },
    "source": [
     "\n",
     "\n"
    ]
   }
  }
 },
 "nbformat": 4,
 "nbformat_minor": 1
}